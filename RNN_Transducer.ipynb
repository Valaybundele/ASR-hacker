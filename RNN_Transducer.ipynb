{
  "nbformat": 4,
  "nbformat_minor": 0,
  "metadata": {
    "accelerator": "GPU",
    "colab": {
      "name": "RNN-Transducer.ipynb",
      "provenance": [],
      "collapsed_sections": []
    },
    "kernelspec": {
      "display_name": "Python 3",
      "name": "python3"
    }
  },
  "cells": [
    {
      "cell_type": "markdown",
      "metadata": {
        "id": "BbwgR5UdNkkm"
      },
      "source": [
        "# Transducer implementation in PyTorch\n",
        "\n",
        "*by Loren Lugosch*\n"
      ]
    },
    {
      "cell_type": "markdown",
      "metadata": {
        "id": "yBlJNKsjTtaZ"
      },
      "source": [
        "\n",
        "In this notebook, we will implement a Transducer sequence-to-sequence model for inserting missing vowels into a sentence (\"Hll, Wrld\" --> \"Hello, World\")."
      ]
    },
    {
      "cell_type": "code",
      "metadata": {
        "id": "Q-iHU02C7fAj",
        "colab": {
          "base_uri": "https://localhost:8080/"
        },
        "outputId": "35442571-9d5f-48c9-ecf1-54b7e200db35"
      },
      "source": [
        "import torch\n",
        "import string\n",
        "import numpy as np\n",
        "import itertools\n",
        "from collections import Counter\n",
        "from tqdm import tqdm\n",
        "!pip install unidecode\n",
        "import unidecode\n",
        "\n",
        "# Some training data.\n",
        "# Poor Tolstoy, once again reduced to grist for the neural network mill!\n",
        "!wget https://raw.githubusercontent.com/lorenlugosch/infer_missing_vowels/master/data/train/war_and_peace.txt\n",
        "!pwd\n"
      ],
      "execution_count": null,
      "outputs": [
        {
          "output_type": "stream",
          "name": "stdout",
          "text": [
            "Collecting unidecode\n",
            "  Downloading Unidecode-1.3.4-py3-none-any.whl (235 kB)\n",
            "\u001b[?25l\r\u001b[K     |█▍                              | 10 kB 13.1 MB/s eta 0:00:01\r\u001b[K     |██▉                             | 20 kB 11.9 MB/s eta 0:00:01\r\u001b[K     |████▏                           | 30 kB 9.6 MB/s eta 0:00:01\r\u001b[K     |█████▋                          | 40 kB 8.7 MB/s eta 0:00:01\r\u001b[K     |███████                         | 51 kB 4.6 MB/s eta 0:00:01\r\u001b[K     |████████▍                       | 61 kB 5.4 MB/s eta 0:00:01\r\u001b[K     |█████████▊                      | 71 kB 5.6 MB/s eta 0:00:01\r\u001b[K     |███████████▏                    | 81 kB 5.4 MB/s eta 0:00:01\r\u001b[K     |████████████▌                   | 92 kB 6.0 MB/s eta 0:00:01\r\u001b[K     |██████████████                  | 102 kB 5.2 MB/s eta 0:00:01\r\u001b[K     |███████████████▎                | 112 kB 5.2 MB/s eta 0:00:01\r\u001b[K     |████████████████▊               | 122 kB 5.2 MB/s eta 0:00:01\r\u001b[K     |██████████████████              | 133 kB 5.2 MB/s eta 0:00:01\r\u001b[K     |███████████████████▌            | 143 kB 5.2 MB/s eta 0:00:01\r\u001b[K     |████████████████████▉           | 153 kB 5.2 MB/s eta 0:00:01\r\u001b[K     |██████████████████████▎         | 163 kB 5.2 MB/s eta 0:00:01\r\u001b[K     |███████████████████████▋        | 174 kB 5.2 MB/s eta 0:00:01\r\u001b[K     |█████████████████████████       | 184 kB 5.2 MB/s eta 0:00:01\r\u001b[K     |██████████████████████████▍     | 194 kB 5.2 MB/s eta 0:00:01\r\u001b[K     |███████████████████████████▉    | 204 kB 5.2 MB/s eta 0:00:01\r\u001b[K     |█████████████████████████████▏  | 215 kB 5.2 MB/s eta 0:00:01\r\u001b[K     |██████████████████████████████▋ | 225 kB 5.2 MB/s eta 0:00:01\r\u001b[K     |████████████████████████████████| 235 kB 5.2 MB/s eta 0:00:01\r\u001b[K     |████████████████████████████████| 235 kB 5.2 MB/s \n",
            "\u001b[?25hInstalling collected packages: unidecode\n",
            "Successfully installed unidecode-1.3.4\n",
            "--2022-05-06 20:39:27--  https://raw.githubusercontent.com/lorenlugosch/infer_missing_vowels/master/data/train/war_and_peace.txt\n",
            "Resolving raw.githubusercontent.com (raw.githubusercontent.com)... 185.199.108.133, 185.199.109.133, 185.199.110.133, ...\n",
            "Connecting to raw.githubusercontent.com (raw.githubusercontent.com)|185.199.108.133|:443... connected.\n",
            "HTTP request sent, awaiting response... 200 OK\n",
            "Length: 3196229 (3.0M) [text/plain]\n",
            "Saving to: ‘war_and_peace.txt’\n",
            "\n",
            "war_and_peace.txt   100%[===================>]   3.05M  --.-KB/s    in 0.06s   \n",
            "\n",
            "2022-05-06 20:39:27 (47.8 MB/s) - ‘war_and_peace.txt’ saved [3196229/3196229]\n",
            "\n",
            "/content\n"
          ]
        }
      ]
    },
    {
      "cell_type": "markdown",
      "metadata": {
        "id": "CTfRgwxmjv1B"
      },
      "source": [
        "# Building blocks\n",
        "\n",
        "First, we will define the encoder, predictor, and joiner using standard neural nets.\n",
        "\n",
        "<img src=\"https://lorenlugosch.github.io/images/transducer/transducer-model.png\" width=\"25%\">"
      ]
    },
    {
      "cell_type": "code",
      "metadata": {
        "id": "B7mLFyUG7kJH"
      },
      "source": [
        "NULL_INDEX = 0\n",
        "\n",
        "encoder_dim = 1024\n",
        "predictor_dim = 1024\n",
        "joiner_dim = 1024"
      ],
      "execution_count": null,
      "outputs": []
    },
    {
      "cell_type": "markdown",
      "metadata": {
        "id": "MABMTjrGY4vz"
      },
      "source": [
        "The encoder is any network that can take as input a variable-length sequence: so, RNNs, CNNs, and self-attention/Transformer encoders will all work.\n"
      ]
    },
    {
      "cell_type": "code",
      "metadata": {
        "id": "KE7j2T5EY33-"
      },
      "source": [
        "class Encoder(torch.nn.Module):\n",
        "  def __init__(self, num_inputs):\n",
        "    super(Encoder, self).__init__()\n",
        "    self.embed = torch.nn.Embedding(num_inputs, encoder_dim)\n",
        "    self.rnn = torch.nn.GRU(input_size=encoder_dim, hidden_size=encoder_dim, num_layers=3, batch_first=True, bidirectional=True, dropout=0.1)\n",
        "    self.linear = torch.nn.Linear(encoder_dim*2, joiner_dim)\n",
        "\n",
        "  def forward(self, x):\n",
        "    out = x\n",
        "    out = self.embed(out)\n",
        "    out = self.rnn(out)[0]\n",
        "    out = self.linear(out)\n",
        "    return out"
      ],
      "execution_count": null,
      "outputs": []
    },
    {
      "cell_type": "markdown",
      "metadata": {
        "id": "BRknN6QRY9-g"
      },
      "source": [
        "The predictor is any _causal_ network (= can't look at the future): in other words, unidirectional RNNs, causal convolutions, or masked self-attention. "
      ]
    },
    {
      "cell_type": "code",
      "metadata": {
        "id": "hPARF5LmY7-r"
      },
      "source": [
        "class Predictor(torch.nn.Module):\n",
        "  def __init__(self, num_outputs):\n",
        "    super(Predictor, self).__init__()\n",
        "    self.embed = torch.nn.Embedding(num_outputs, predictor_dim)\n",
        "    self.rnn = torch.nn.GRUCell(input_size=predictor_dim, hidden_size=predictor_dim)\n",
        "    self.linear = torch.nn.Linear(predictor_dim, joiner_dim)\n",
        "    \n",
        "    self.initial_state = torch.nn.Parameter(torch.randn(predictor_dim))\n",
        "    self.start_symbol = NULL_INDEX # In the original paper, a vector of 0s is used; just using the null index instead is easier when using an Embedding layer.\n",
        "\n",
        "  def forward_one_step(self, input, previous_state):\n",
        "    embedding = self.embed(input)\n",
        "    state = self.rnn.forward(embedding, previous_state)\n",
        "    out = self.linear(state)\n",
        "    return out, state\n",
        "\n",
        "  def forward(self, y):\n",
        "    batch_size = y.shape[0]\n",
        "    U = y.shape[1]\n",
        "    outs = []\n",
        "    state = torch.stack([self.initial_state] * batch_size).to(y.device)\n",
        "    for u in range(U+1): # need U+1 to get null output for final timestep \n",
        "      if u == 0:\n",
        "        decoder_input = torch.tensor([self.start_symbol] * batch_size).to(y.device)\n",
        "      else:\n",
        "        decoder_input = y[:,u-1]\n",
        "      out, state = self.forward_one_step(decoder_input, state)\n",
        "      outs.append(out)\n",
        "    out = torch.stack(outs, dim=1)\n",
        "    return out"
      ],
      "execution_count": null,
      "outputs": []
    },
    {
      "cell_type": "markdown",
      "metadata": {
        "id": "ZHPZ3PATZEAW"
      },
      "source": [
        "The joiner is a feedforward network/MLP with one hidden layer applied independently to each $(t,u)$ index.\n",
        "\n",
        "(The linear part of the hidden layer is contained in the encoder and predictor, so we just do the nonlinearity here and then the output layer.)"
      ]
    },
    {
      "cell_type": "code",
      "metadata": {
        "id": "Vlzca1orZDLa"
      },
      "source": [
        "class Joiner(torch.nn.Module):\n",
        "  def __init__(self, num_outputs):\n",
        "    super(Joiner, self).__init__()\n",
        "    self.linear = torch.nn.Linear(joiner_dim, num_outputs)\n",
        "\n",
        "  def forward(self, encoder_out, predictor_out):\n",
        "    out = encoder_out + predictor_out\n",
        "    out = torch.nn.functional.relu(out)\n",
        "    out = self.linear(out)\n",
        "    return out"
      ],
      "execution_count": null,
      "outputs": []
    },
    {
      "cell_type": "markdown",
      "metadata": {
        "id": "a_-INbhSTApv"
      },
      "source": [
        "# Transducer model + loss function\n",
        "\n",
        "Using the encoder, predictor, and joiner, we will implement the Transducer model and its loss function.\n",
        "\n",
        "<img src=\"https://lorenlugosch.github.io/images/transducer/forward-messages.png\" width=\"25%\">"
      ]
    },
    {
      "cell_type": "markdown",
      "metadata": {
        "id": "bdcKwA_lkzxJ"
      },
      "source": [
        "We can use a simple PyTorch implementation of the loss function, relying on automatic differentiation to give us gradients."
      ]
    },
    {
      "cell_type": "code",
      "metadata": {
        "id": "sYSagKi-gHM4"
      },
      "source": [
        "class Transducer(torch.nn.Module):\n",
        "  def __init__(self, num_inputs, num_outputs):\n",
        "    super(Transducer, self).__init__()\n",
        "    self.encoder = Encoder(num_inputs)\n",
        "    self.predictor = Predictor(num_outputs)\n",
        "    self.joiner = Joiner(num_outputs)\n",
        "\n",
        "    if torch.cuda.is_available(): self.device = \"cuda:0\"\n",
        "    else: self.device = \"cpu\"\n",
        "    self.to(self.device)\n",
        "\n",
        "  def compute_forward_prob(self, joiner_out, T, U, y):\n",
        "    \"\"\"\n",
        "    joiner_out: tensor of shape (B, T_max, U_max+1, #labels)\n",
        "    T: list of input lengths\n",
        "    U: list of output lengths \n",
        "    y: label tensor (B, U_max+1)\n",
        "    \"\"\"\n",
        "    B = joiner_out.shape[0]\n",
        "    T_max = joiner_out.shape[1]\n",
        "    U_max = joiner_out.shape[2] - 1\n",
        "    log_alpha = torch.zeros(B, T_max, U_max+1).to(model.device)\n",
        "    for t in range(T_max):\n",
        "      for u in range(U_max+1):\n",
        "          if u == 0:\n",
        "            if t == 0:\n",
        "              log_alpha[:, t, u] = 0.\n",
        "\n",
        "            else: #t > 0\n",
        "              log_alpha[:, t, u] = log_alpha[:, t-1, u] + joiner_out[:, t-1, 0, NULL_INDEX] \n",
        "                  \n",
        "          else: #u > 0\n",
        "            if t == 0:\n",
        "              log_alpha[:, t, u] = log_alpha[:, t,u-1] + torch.gather(joiner_out[:, t, u-1], dim=1, index=y[:,u-1].view(-1,1) ).reshape(-1)\n",
        "            \n",
        "            else: #t > 0\n",
        "              log_alpha[:, t, u] = torch.logsumexp(torch.stack([\n",
        "                  log_alpha[:, t-1, u] + joiner_out[:, t-1, u, NULL_INDEX],\n",
        "                  log_alpha[:, t, u-1] + torch.gather(joiner_out[:, t, u-1], dim=1, index=y[:,u-1].view(-1,1) ).reshape(-1)\n",
        "              ]), dim=0)\n",
        "    \n",
        "    log_probs = []\n",
        "    for b in range(B):\n",
        "      log_prob = log_alpha[b, T[b]-1, U[b]] + joiner_out[b, T[b]-1, U[b], NULL_INDEX]\n",
        "      log_probs.append(log_prob)\n",
        "    log_probs = torch.stack(log_probs) \n",
        "    return log_prob\n",
        "\n",
        "  def compute_loss(self, x, y, T, U):\n",
        "    encoder_out = self.encoder.forward(x)\n",
        "    predictor_out = self.predictor.forward(y)\n",
        "    joiner_out = self.joiner.forward(encoder_out.unsqueeze(2), predictor_out.unsqueeze(1)).log_softmax(3)\n",
        "    loss = -self.compute_forward_prob(joiner_out, T, U, y).mean()\n",
        "    return loss"
      ],
      "execution_count": null,
      "outputs": []
    },
    {
      "cell_type": "markdown",
      "metadata": {
        "id": "IK0c2S2xaARd"
      },
      "source": [
        "Let's first verify that the forward algorithm actually correctly computes the sum (in log space, the [logsumexp](https://lorenlugosch.github.io/posts/2020/06/logsumexp/)) of all possible alignments, using a short input/output pair for which computing all possible alignments is feasible.\n",
        "\n",
        "<img src=\"https://lorenlugosch.github.io/images/transducer/cat-align-1.png\" width=\"25%\">"
      ]
    },
    {
      "cell_type": "code",
      "metadata": {
        "id": "RWtkoXH6U8Pm"
      },
      "source": [
        "def compute_single_alignment_prob(self, encoder_out, predictor_out, T, U, z, y):\n",
        "    \"\"\"\n",
        "    Computes the probability of one alignment, z.\n",
        "    \"\"\"\n",
        "    t = 0; u = 0\n",
        "    t_u_indices = []\n",
        "    y_expanded = []\n",
        "    for step in z:\n",
        "      t_u_indices.append((t,u))\n",
        "      if step == 0: # right (null)\n",
        "        y_expanded.append(NULL_INDEX)\n",
        "        t += 1\n",
        "      if step == 1: # down (label)\n",
        "        y_expanded.append(y[u])\n",
        "        u += 1\n",
        "    t_u_indices.append((T-1,U))\n",
        "    y_expanded.append(NULL_INDEX)\n",
        "\n",
        "    t_indices = [t for (t,u) in t_u_indices]\n",
        "    u_indices = [u for (t,u) in t_u_indices]\n",
        "    encoder_out_expanded = encoder_out[t_indices]\n",
        "    predictor_out_expanded = predictor_out[u_indices]\n",
        "    joiner_out = self.joiner.forward(encoder_out_expanded, predictor_out_expanded).log_softmax(1)\n",
        "    logprob = -torch.nn.functional.nll_loss(input=joiner_out, target=torch.tensor(y_expanded).long().to(self.device), reduction=\"sum\")\n",
        "    return logprob\n",
        "\n",
        "Transducer.compute_single_alignment_prob = compute_single_alignment_prob"
      ],
      "execution_count": null,
      "outputs": []
    },
    {
      "cell_type": "code",
      "metadata": {
        "id": "e8xzM0dZfea9",
        "colab": {
          "base_uri": "https://localhost:8080/"
        },
        "outputId": "a03f55c0-0f54-43e5-fc70-f852a06e1e88"
      },
      "source": [
        "# Generate example inputs/outputs\n",
        "num_outputs = len(string.ascii_uppercase) + 1 # [null, A, B, ... Z]\n",
        "model = Transducer(1, num_outputs)\n",
        "y_letters = \"CAT\"\n",
        "y = torch.tensor([string.ascii_uppercase.index(l) + 1 for l in y_letters]).unsqueeze(0).to(model.device)\n",
        "T = torch.tensor([4]); U = torch.tensor([len(y_letters)]); B = 1\n",
        "\n",
        "encoder_out = torch.randn(B, T, joiner_dim).to(model.device)\n",
        "predictor_out = torch.randn(B, U+1, joiner_dim).to(model.device)\n",
        "joiner_out = model.joiner.forward(encoder_out.unsqueeze(2), predictor_out.unsqueeze(1)).log_softmax(3)\n",
        "\n",
        "#######################################################\n",
        "# Compute loss by enumerating all possible alignments #\n",
        "#######################################################\n",
        "all_permutations = list(itertools.permutations([0]*(T-1) + [1]*U))\n",
        "all_distinct_permutations = list(Counter(all_permutations).keys())\n",
        "alignment_probs = []\n",
        "for z in all_distinct_permutations:\n",
        "  alignment_prob = model.compute_single_alignment_prob(encoder_out[0], predictor_out[0], T.item(), U.item(), z, y[0])\n",
        "  alignment_probs.append(alignment_prob)\n",
        "loss_enumerate = -torch.tensor(alignment_probs).logsumexp(0)\n",
        "\n",
        "#######################################################\n",
        "# Compute loss using the forward algorithm            #\n",
        "#######################################################\n",
        "loss_forward = -model.compute_forward_prob(joiner_out, T, U, y)\n",
        "\n",
        "print(\"Loss computed by enumerating all possible alignments: \", loss_enumerate)\n",
        "print(\"Loss computed using the forward algorithm: \", loss_forward)"
      ],
      "execution_count": null,
      "outputs": [
        {
          "output_type": "stream",
          "name": "stdout",
          "text": [
            "Loss computed by enumerating all possible alignments:  tensor(20.0183)\n",
            "Loss computed using the forward algorithm:  tensor(20.0183, device='cuda:0', grad_fn=<NegBackward0>)\n"
          ]
        }
      ]
    },
    {
      "cell_type": "markdown",
      "metadata": {
        "id": "WSBAwQONf3z9"
      },
      "source": [
        "Now let's add the greedy search algorithm for predicting an output sequence.\n",
        "\n",
        "(Note that I've assumed we're using RNNs for the predictor here. You would have to modify this code a bit if you want to use convolutions/self-attention instead.) \n",
        "<br/><br/>\n",
        "<img src=\"https://lorenlugosch.github.io/images/transducer/greedy-search.png\" width=\"50%\">"
      ]
    },
    {
      "cell_type": "code",
      "metadata": {
        "id": "V0xeyb7Jf18_"
      },
      "source": [
        "def greedy_search(self, x, T):\n",
        "  y_batch = []\n",
        "  B = len(x)\n",
        "  encoder_out = self.encoder.forward(x)\n",
        "  U_max = 200\n",
        "  for b in range(B):\n",
        "    t = 0; u = 0; y = [self.predictor.start_symbol]; predictor_state = self.predictor.initial_state.unsqueeze(0)\n",
        "    while t < T[b] and u < U_max:\n",
        "      predictor_input = torch.tensor([ y[-1] ]).to(x.device)\n",
        "      g_u, predictor_state = self.predictor.forward_one_step(predictor_input, predictor_state)\n",
        "      f_t = encoder_out[b, t]\n",
        "      h_t_u = self.joiner.forward(f_t, g_u)\n",
        "      argmax = h_t_u.max(-1)[1].item()\n",
        "      if argmax == NULL_INDEX:\n",
        "        t += 1\n",
        "      else: # argmax == a label\n",
        "        u += 1\n",
        "        y.append(argmax)\n",
        "    y_batch.append(y[1:]) # remove start symbol\n",
        "  return y_batch\n",
        "\n",
        "Transducer.greedy_search = greedy_search"
      ],
      "execution_count": null,
      "outputs": []
    },
    {
      "cell_type": "markdown",
      "metadata": {
        "id": "82XU9-gr3goI"
      },
      "source": [
        "The code above will work, but training will be very slow because the Transducer loss is written in pure Python. You can use the fast implementation from SpeechBrain instead by running the block below."
      ]
    },
    {
      "cell_type": "code",
      "metadata": {
        "colab": {
          "base_uri": "https://localhost:8080/"
        },
        "id": "qhUQMJ-23f2y",
        "outputId": "b43622fb-30fa-471c-9234-b63c25a84441"
      },
      "source": [
        "!pip install speechbrain\n",
        "from speechbrain.nnet.loss.transducer_loss import TransducerLoss\n",
        "transducer_loss = TransducerLoss(0)\n",
        "\n",
        "def compute_loss(self, x, y, T, U):\n",
        "    encoder_out = self.encoder.forward(x)\n",
        "    predictor_out = self.predictor.forward(y)\n",
        "    joiner_out = self.joiner.forward(encoder_out.unsqueeze(2), predictor_out.unsqueeze(1)).log_softmax(3)\n",
        "    #loss = -self.compute_forward_prob(joiner_out, T, U, y).mean()\n",
        "    T = T.to(joiner_out.device)\n",
        "    U = U.to(joiner_out.device)\n",
        "    loss = transducer_loss(joiner_out, y, T, U) #, blank_index=NULL_INDEX, reduction=\"mean\")\n",
        "    return loss\n",
        "\n",
        "Transducer.compute_loss = compute_loss"
      ],
      "execution_count": null,
      "outputs": [
        {
          "output_type": "stream",
          "name": "stdout",
          "text": [
            "Collecting speechbrain\n",
            "  Downloading speechbrain-0.5.11-py3-none-any.whl (408 kB)\n",
            "\u001b[?25l\r\u001b[K     |▉                               | 10 kB 20.7 MB/s eta 0:00:01\r\u001b[K     |█▋                              | 20 kB 23.6 MB/s eta 0:00:01\r\u001b[K     |██▍                             | 30 kB 13.2 MB/s eta 0:00:01\r\u001b[K     |███▏                            | 40 kB 9.8 MB/s eta 0:00:01\r\u001b[K     |████                            | 51 kB 4.8 MB/s eta 0:00:01\r\u001b[K     |████▉                           | 61 kB 5.7 MB/s eta 0:00:01\r\u001b[K     |█████▋                          | 71 kB 5.7 MB/s eta 0:00:01\r\u001b[K     |██████▍                         | 81 kB 4.3 MB/s eta 0:00:01\r\u001b[K     |███████▎                        | 92 kB 4.8 MB/s eta 0:00:01\r\u001b[K     |████████                        | 102 kB 5.3 MB/s eta 0:00:01\r\u001b[K     |████████▉                       | 112 kB 5.3 MB/s eta 0:00:01\r\u001b[K     |█████████▋                      | 122 kB 5.3 MB/s eta 0:00:01\r\u001b[K     |██████████▍                     | 133 kB 5.3 MB/s eta 0:00:01\r\u001b[K     |███████████▎                    | 143 kB 5.3 MB/s eta 0:00:01\r\u001b[K     |████████████                    | 153 kB 5.3 MB/s eta 0:00:01\r\u001b[K     |████████████▉                   | 163 kB 5.3 MB/s eta 0:00:01\r\u001b[K     |█████████████▋                  | 174 kB 5.3 MB/s eta 0:00:01\r\u001b[K     |██████████████▌                 | 184 kB 5.3 MB/s eta 0:00:01\r\u001b[K     |███████████████▎                | 194 kB 5.3 MB/s eta 0:00:01\r\u001b[K     |████████████████                | 204 kB 5.3 MB/s eta 0:00:01\r\u001b[K     |████████████████▉               | 215 kB 5.3 MB/s eta 0:00:01\r\u001b[K     |█████████████████▋              | 225 kB 5.3 MB/s eta 0:00:01\r\u001b[K     |██████████████████▌             | 235 kB 5.3 MB/s eta 0:00:01\r\u001b[K     |███████████████████▎            | 245 kB 5.3 MB/s eta 0:00:01\r\u001b[K     |████████████████████            | 256 kB 5.3 MB/s eta 0:00:01\r\u001b[K     |████████████████████▉           | 266 kB 5.3 MB/s eta 0:00:01\r\u001b[K     |█████████████████████▊          | 276 kB 5.3 MB/s eta 0:00:01\r\u001b[K     |██████████████████████▌         | 286 kB 5.3 MB/s eta 0:00:01\r\u001b[K     |███████████████████████▎        | 296 kB 5.3 MB/s eta 0:00:01\r\u001b[K     |████████████████████████        | 307 kB 5.3 MB/s eta 0:00:01\r\u001b[K     |█████████████████████████       | 317 kB 5.3 MB/s eta 0:00:01\r\u001b[K     |█████████████████████████▊      | 327 kB 5.3 MB/s eta 0:00:01\r\u001b[K     |██████████████████████████▌     | 337 kB 5.3 MB/s eta 0:00:01\r\u001b[K     |███████████████████████████▎    | 348 kB 5.3 MB/s eta 0:00:01\r\u001b[K     |████████████████████████████    | 358 kB 5.3 MB/s eta 0:00:01\r\u001b[K     |█████████████████████████████   | 368 kB 5.3 MB/s eta 0:00:01\r\u001b[K     |█████████████████████████████▊  | 378 kB 5.3 MB/s eta 0:00:01\r\u001b[K     |██████████████████████████████▌ | 389 kB 5.3 MB/s eta 0:00:01\r\u001b[K     |███████████████████████████████▎| 399 kB 5.3 MB/s eta 0:00:01\r\u001b[K     |████████████████████████████████| 408 kB 5.3 MB/s \n",
            "\u001b[?25hRequirement already satisfied: packaging in /usr/local/lib/python3.7/dist-packages (from speechbrain) (21.3)\n",
            "Requirement already satisfied: tqdm in /usr/local/lib/python3.7/dist-packages (from speechbrain) (4.64.0)\n",
            "Collecting hyperpyyaml\n",
            "  Downloading HyperPyYAML-1.0.1.tar.gz (14 kB)\n",
            "Requirement already satisfied: scipy in /usr/local/lib/python3.7/dist-packages (from speechbrain) (1.4.1)\n",
            "Requirement already satisfied: joblib in /usr/local/lib/python3.7/dist-packages (from speechbrain) (1.1.0)\n",
            "Requirement already satisfied: torch<=1.11,>=1.7 in /usr/local/lib/python3.7/dist-packages (from speechbrain) (1.11.0+cu113)\n",
            "Collecting huggingface-hub\n",
            "  Downloading huggingface_hub-0.5.1-py3-none-any.whl (77 kB)\n",
            "\u001b[K     |████████████████████████████████| 77 kB 5.8 MB/s \n",
            "\u001b[?25hRequirement already satisfied: torchaudio in /usr/local/lib/python3.7/dist-packages (from speechbrain) (0.11.0+cu113)\n",
            "Requirement already satisfied: numpy in /usr/local/lib/python3.7/dist-packages (from speechbrain) (1.21.6)\n",
            "Collecting sentencepiece\n",
            "  Downloading sentencepiece-0.1.96-cp37-cp37m-manylinux_2_17_x86_64.manylinux2014_x86_64.whl (1.2 MB)\n",
            "\u001b[K     |████████████████████████████████| 1.2 MB 45.2 MB/s \n",
            "\u001b[?25hRequirement already satisfied: typing-extensions in /usr/local/lib/python3.7/dist-packages (from torch<=1.11,>=1.7->speechbrain) (4.2.0)\n",
            "Requirement already satisfied: filelock in /usr/local/lib/python3.7/dist-packages (from huggingface-hub->speechbrain) (3.6.0)\n",
            "Requirement already satisfied: requests in /usr/local/lib/python3.7/dist-packages (from huggingface-hub->speechbrain) (2.23.0)\n",
            "Requirement already satisfied: importlib-metadata in /usr/local/lib/python3.7/dist-packages (from huggingface-hub->speechbrain) (4.11.3)\n",
            "Requirement already satisfied: pyyaml in /usr/local/lib/python3.7/dist-packages (from huggingface-hub->speechbrain) (3.13)\n",
            "Requirement already satisfied: pyparsing!=3.0.5,>=2.0.2 in /usr/local/lib/python3.7/dist-packages (from packaging->speechbrain) (3.0.8)\n",
            "Collecting pyyaml\n",
            "  Downloading PyYAML-6.0-cp37-cp37m-manylinux_2_5_x86_64.manylinux1_x86_64.manylinux_2_12_x86_64.manylinux2010_x86_64.whl (596 kB)\n",
            "\u001b[K     |████████████████████████████████| 596 kB 46.4 MB/s \n",
            "\u001b[?25hCollecting ruamel.yaml>=0.17.8\n",
            "  Downloading ruamel.yaml-0.17.21-py3-none-any.whl (109 kB)\n",
            "\u001b[K     |████████████████████████████████| 109 kB 48.3 MB/s \n",
            "\u001b[?25hCollecting ruamel.yaml.clib>=0.2.6\n",
            "  Downloading ruamel.yaml.clib-0.2.6-cp37-cp37m-manylinux1_x86_64.whl (546 kB)\n",
            "\u001b[K     |████████████████████████████████| 546 kB 47.5 MB/s \n",
            "\u001b[?25hRequirement already satisfied: zipp>=0.5 in /usr/local/lib/python3.7/dist-packages (from importlib-metadata->huggingface-hub->speechbrain) (3.8.0)\n",
            "Requirement already satisfied: urllib3!=1.25.0,!=1.25.1,<1.26,>=1.21.1 in /usr/local/lib/python3.7/dist-packages (from requests->huggingface-hub->speechbrain) (1.24.3)\n",
            "Requirement already satisfied: certifi>=2017.4.17 in /usr/local/lib/python3.7/dist-packages (from requests->huggingface-hub->speechbrain) (2021.10.8)\n",
            "Requirement already satisfied: idna<3,>=2.5 in /usr/local/lib/python3.7/dist-packages (from requests->huggingface-hub->speechbrain) (2.10)\n",
            "Requirement already satisfied: chardet<4,>=3.0.2 in /usr/local/lib/python3.7/dist-packages (from requests->huggingface-hub->speechbrain) (3.0.4)\n",
            "Building wheels for collected packages: hyperpyyaml\n",
            "  Building wheel for hyperpyyaml (setup.py) ... \u001b[?25l\u001b[?25hdone\n",
            "  Created wheel for hyperpyyaml: filename=HyperPyYAML-1.0.1-py3-none-any.whl size=15192 sha256=7b86feab9d7b5dff8e26c5d05e97749bca804e112ac61814c4957725a2bf415c\n",
            "  Stored in directory: /root/.cache/pip/wheels/6c/87/65/266d722c3932f81f16332ce842e972be8421e3a9cd3771766b\n",
            "Successfully built hyperpyyaml\n",
            "Installing collected packages: ruamel.yaml.clib, ruamel.yaml, pyyaml, sentencepiece, hyperpyyaml, huggingface-hub, speechbrain\n",
            "  Attempting uninstall: pyyaml\n",
            "    Found existing installation: PyYAML 3.13\n",
            "    Uninstalling PyYAML-3.13:\n",
            "      Successfully uninstalled PyYAML-3.13\n",
            "Successfully installed huggingface-hub-0.5.1 hyperpyyaml-1.0.1 pyyaml-6.0 ruamel.yaml-0.17.21 ruamel.yaml.clib-0.2.6 sentencepiece-0.1.96 speechbrain-0.5.11\n"
          ]
        }
      ]
    },
    {
      "cell_type": "markdown",
      "metadata": {
        "id": "Ff9raB0jVGzN"
      },
      "source": [
        "# Some utilities\n",
        "\n",
        "Here we will add a bit of boilerplate code for training and loading data."
      ]
    },
    {
      "cell_type": "code",
      "metadata": {
        "id": "5b17OQm4WdVy",
        "colab": {
          "base_uri": "https://localhost:8080/"
        },
        "outputId": "4ae2ba87-50c6-4fc5-ef3a-9c5220092d5f"
      },
      "source": [
        "class TextDataset(torch.utils.data.Dataset):\n",
        "  def __init__(self, lines, batch_size):\n",
        "    lines = list(filter((\"\\n\").__ne__, lines))\n",
        "\n",
        "    self.lines = lines # list of strings\n",
        "    collate = Collate()\n",
        "    self.loader = torch.utils.data.DataLoader(self, batch_size=batch_size, num_workers=1, shuffle=True, collate_fn=collate)\n",
        "\n",
        "  def __len__(self):\n",
        "    return len(self.lines)\n",
        "\n",
        "  def __getitem__(self, idx):\n",
        "    line = self.lines[idx].replace(\"\\n\", \"\")\n",
        "    line = unidecode.unidecode(line) # remove special characters\n",
        "    x = \"\".join(c for c in line if c not in \"AEIOUaeiou\") # remove vowels from input\n",
        "    y = line\n",
        "    return (x,y)\n",
        "\n",
        "def encode_string(s):\n",
        "  for c in s:\n",
        "    if c not in string.printable:\n",
        "      print(s)\n",
        "  return [string.printable.index(c) + 1 for c in s]\n",
        "\n",
        "def decode_labels(l):\n",
        "  return \"\".join([string.printable[c - 1] for c in l])\n",
        "\n",
        "class Collate:\n",
        "  def __call__(self, batch):\n",
        "    \"\"\"\n",
        "    batch: list of tuples (input string, output string)\n",
        "    Returns a minibatch of strings, encoded as labels and padded to have the same length.\n",
        "    \"\"\"\n",
        "    x = []; y = []\n",
        "    batch_size = len(batch)\n",
        "    for index in range(batch_size):\n",
        "      x_,y_ = batch[index]\n",
        "      x.append(encode_string(x_))\n",
        "      y.append(encode_string(y_))\n",
        "\n",
        "    # pad all sequences to have same length\n",
        "    T = [len(x_) for x_ in x]\n",
        "    U = [len(y_) for y_ in y]\n",
        "    T_max = max(T)\n",
        "    U_max = max(U)\n",
        "    for index in range(batch_size):\n",
        "      x[index] += [NULL_INDEX] * (T_max - len(x[index]))\n",
        "      x[index] = torch.tensor(x[index])\n",
        "      y[index] += [NULL_INDEX] * (U_max - len(y[index]))\n",
        "      y[index] = torch.tensor(y[index])\n",
        "\n",
        "    # stack into single tensor\n",
        "    x = torch.stack(x)\n",
        "    y = torch.stack(y)\n",
        "    T = torch.tensor(T)\n",
        "    U = torch.tensor(U)\n",
        "\n",
        "    return (x,y,T,U)\n",
        "\n",
        "with open(\"war_and_peace.txt\", \"r\") as f:\n",
        "  lines = f.readlines()\n",
        "\n",
        "end = round(0.9 * len(lines))\n",
        "train_lines = lines[:end]\n",
        "test_lines = lines[end:]\n",
        "train_set = TextDataset(train_lines, batch_size=64) #8)\n",
        "test_set = TextDataset(test_lines, batch_size=64) #8)\n",
        "train_set.__getitem__(0)"
      ],
      "execution_count": null,
      "outputs": [
        {
          "output_type": "execute_result",
          "data": {
            "text/plain": [
              "('\"Wll, Prnc, s Gn nd Lcc r nw jst fmly stts f th',\n",
              " '\"Well, Prince, so Genoa and Lucca are now just family estates of the')"
            ]
          },
          "metadata": {},
          "execution_count": 11
        }
      ]
    },
    {
      "cell_type": "code",
      "metadata": {
        "id": "gaZEQYzfFEQ0"
      },
      "source": [
        "class Trainer:\n",
        "  def __init__(self, model, lr):\n",
        "    self.model = model\n",
        "    self.lr = lr\n",
        "    self.optimizer = torch.optim.Adam(model.parameters(), lr=self.lr)\n",
        "  \n",
        "  def train(self, dataset, print_interval = 20):\n",
        "    train_loss = 0\n",
        "    num_samples = 0\n",
        "    self.model.train()\n",
        "    pbar = tqdm(dataset.loader)\n",
        "    for idx, batch in enumerate(pbar):\n",
        "      x,y,T,U = batch\n",
        "      x = x.to(self.model.device); y = y.to(self.model.device)\n",
        "      batch_size = len(x)\n",
        "      num_samples += batch_size\n",
        "      loss = self.model.compute_loss(x,y,T,U)\n",
        "      self.optimizer.zero_grad()\n",
        "      pbar.set_description(\"%.2f\" % loss.item())\n",
        "      loss.backward()\n",
        "      self.optimizer.step()\n",
        "      train_loss += loss.item() * batch_size\n",
        "      if idx % print_interval == 0:\n",
        "        self.model.eval()\n",
        "        guesses = self.model.greedy_search(x,T)\n",
        "        self.model.train()\n",
        "        print(\"\\n\")\n",
        "        for b in range(2):\n",
        "          print(\"input:\", decode_labels(x[b,:T[b]]))\n",
        "          print(\"guess:\", decode_labels(guesses[b]))\n",
        "          print(\"truth:\", decode_labels(y[b,:U[b]]))\n",
        "          print(\"\")\n",
        "    train_loss /= num_samples\n",
        "    return train_loss\n",
        "\n",
        "  def test(self, dataset, print_interval=1):\n",
        "    test_loss = 0\n",
        "    num_samples = 0\n",
        "    self.model.eval()\n",
        "    pbar = tqdm(dataset.loader)\n",
        "    for idx, batch in enumerate(pbar):\n",
        "      x,y,T,U = batch\n",
        "      x = x.to(self.model.device); y = y.to(self.model.device)\n",
        "      batch_size = len(x)\n",
        "      num_samples += batch_size\n",
        "      loss = self.model.compute_loss(x,y,T,U)\n",
        "      pbar.set_description(\"%.2f\" % loss.item())\n",
        "      test_loss += loss.item() * batch_size\n",
        "      if idx % print_interval == 0:\n",
        "        print(\"\\n\")\n",
        "        print(\"input:\", decode_labels(x[0,:T[0]]))\n",
        "        print(\"guess:\", decode_labels(self.model.greedy_search(x,T)[0]))\n",
        "        print(\"truth:\", decode_labels(y[0,:U[0]]))\n",
        "        print(\"\")\n",
        "    test_loss /= num_samples\n",
        "    return test_loss\n",
        "    "
      ],
      "execution_count": null,
      "outputs": []
    },
    {
      "cell_type": "markdown",
      "metadata": {
        "id": "q4PupgBKWe6p"
      },
      "source": [
        "# Training the model\n",
        "\n",
        "Now we will train a model. This will generate some output sequences every 20 batches."
      ]
    },
    {
      "cell_type": "code",
      "metadata": {
        "id": "1TSrbH9xGPEC",
        "colab": {
          "base_uri": "https://localhost:8080/"
        },
        "outputId": "08b8f341-7477-418f-9721-9721e0d86bed"
      },
      "source": [
        "num_chars = len(string.printable)\n",
        "model = Transducer(num_inputs=num_chars+1, num_outputs=num_chars+1)\n",
        "trainer = Trainer(model=model, lr=0.0003)\n",
        "\n",
        "num_epochs = 1\n",
        "train_losses=[]\n",
        "test_losses=[]\n",
        "\n",
        "for epoch in range(num_epochs):\n",
        "    train_loss = trainer.train(train_set)\n",
        "    test_loss = trainer.test(test_set)\n",
        "    train_losses.append(train_loss)\n",
        "    test_losses.append(test_loss)\n",
        "    print(\"Epoch %d: train loss = %f, test loss = %f\" % (epoch, train_loss, test_loss))"
      ],
      "execution_count": null,
      "outputs": [
        {
          "metadata": {
            "tags": null
          },
          "name": "stderr",
          "output_type": "stream",
          "text": [
            "9.74:   0%|          | 1/709 [00:03<45:38,  3.87s/it]"
          ]
        },
        {
          "metadata": {
            "tags": null
          },
          "name": "stdout",
          "output_type": "stream",
          "text": [
            "\n",
            "\n",
            "input: nd hgh bts, t n pn dsk n whch ly n bcs nd sm bndls f\n",
            "guess: \n",
            "truth: and high boots, at an open desk on which lay an abacus and some bundles of\n",
            "\n",
            "input: thnkng bt y.\"\n",
            "guess: \n",
            "truth: thinking about you.\"\n",
            "\n"
          ]
        },
        {
          "metadata": {
            "tags": null
          },
          "name": "stderr",
          "output_type": "stream",
          "text": [
            "3.44:   3%|▎         | 21/709 [00:42<33:31,  2.92s/it]"
          ]
        },
        {
          "metadata": {
            "tags": null
          },
          "name": "stdout",
          "output_type": "stream",
          "text": [
            "\n",
            "\n",
            "input: tht, vn mr thn n Mscw, h flt  sns f bwldrmnt, bstl,\n",
            "guess: the the the the the the the the the the the the the the the the the the the the the the the the the the the the the the the the the the the the the the the the the the the the the the the the the the \n",
            "truth: that, even more than in Moscow, he felt a sense of bewilderment, bustle,\n",
            "\n",
            "input: wtht wtng fr ll th crrgs t pss, nd h bgn rsltly\n",
            "guess: the the the the the the the the the the the the the the the the the the the the the the the the the the the the the the the the the the the the the the the the the the the the the the the the the the \n",
            "truth: without waiting for all the carriages to pass, and he began resolutely\n",
            "\n"
          ]
        },
        {
          "metadata": {
            "tags": null
          },
          "name": "stderr",
          "output_type": "stream",
          "text": [
            "1.63:   6%|▌         | 41/709 [01:21<32:53,  2.95s/it]"
          ]
        },
        {
          "metadata": {
            "tags": null
          },
          "name": "stdout",
          "output_type": "stream",
          "text": [
            "\n",
            "\n",
            "input: mdmn's cnnng, Mkr lxvch yd th Frnchmn, rsd hs\n",
            "guess: momedins cong, ber lovech yod the ournchin, ros has\n",
            "truth: madman's cunning, Makar Alexeevich eyed the Frenchman, raised his\n",
            "\n",
            "input: Prnc gn f Wrttmbrg frd frm  hll vr th Frnch crwds\n",
            "guess: \"rince gon fof ourtre fof fof hal over the ournch cord\n",
            "truth: Prince Eugene of Wurttemberg fired from a hill over the French crowds\n",
            "\n"
          ]
        },
        {
          "metadata": {
            "tags": null
          },
          "name": "stderr",
          "output_type": "stream",
          "text": [
            "1.00:   9%|▊         | 61/709 [02:00<32:19,  2.99s/it]"
          ]
        },
        {
          "metadata": {
            "tags": null
          },
          "name": "stdout",
          "output_type": "stream",
          "text": [
            "\n",
            "\n",
            "input: cmmndd frm ttckng nd  bttl hd tkn plc.\n",
            "guess: comand frim ticking and butle had ton plec.\n",
            "truth: commanded from attacking and a battle had taken place.\n",
            "\n",
            "input: ft t th thr sh rn lk  kttn th fw stps t th dr nd\n",
            "guess: fot to th ther sh ren lok ktin th fow stes to th dere and\n",
            "truth: foot to the other she ran like a kitten the few steps to the door and\n",
            "\n"
          ]
        },
        {
          "metadata": {
            "tags": null
          },
          "name": "stderr",
          "output_type": "stream",
          "text": [
            "0.82:  11%|█▏        | 81/709 [02:38<31:16,  2.99s/it]"
          ]
        },
        {
          "metadata": {
            "tags": null
          },
          "name": "stdout",
          "output_type": "stream",
          "text": [
            "\n",
            "\n",
            "input: hv dn sh flt bnd t sy nd d. Sh wnt nt Prnc ndrw's\n",
            "guess: have don sh fal bend to say and do. She went not Pirnce nod\n",
            "truth: have done she felt bound to say and do. She went into Prince Andrew's\n",
            "\n",
            "input: \" sy, Fthr, jkng prt, s sh vry hds?\" ntl skd, s f\n",
            "guess: \"I say, Futher, joking port, is sh very had\" notel ske, is of\n",
            "truth: \"I say, Father, joking apart, is she very hideous?\" Anatole asked, as if\n",
            "\n"
          ]
        },
        {
          "metadata": {
            "tags": null
          },
          "name": "stderr",
          "output_type": "stream",
          "text": [
            "0.69:  14%|█▍        | 101/709 [03:17<31:33,  3.11s/it]"
          ]
        },
        {
          "metadata": {
            "tags": null
          },
          "name": "stdout",
          "output_type": "stream",
          "text": [
            "\n",
            "\n",
            "input: ftn dd, nd ws gld whn h hrd smn cmng.\n",
            "guess: fation dod, and was gled whin he hare seeman caming.\n",
            "truth: often did, and was glad when he heard someone coming.\n",
            "\n",
            "input: H lkd bt hm bsntly. Thsnds f ys wr lkng t hm frm\n",
            "guess: He loked but him besiantly. This of yous were loking to him for\n",
            "truth: He looked about him absently. Thousands of eyes were looking at him from\n",
            "\n"
          ]
        },
        {
          "metadata": {
            "tags": null
          },
          "name": "stderr",
          "output_type": "stream",
          "text": [
            "0.57:  17%|█▋        | 121/709 [03:56<28:48,  2.94s/it]"
          ]
        },
        {
          "metadata": {
            "tags": null
          },
          "name": "stdout",
          "output_type": "stream",
          "text": [
            "\n",
            "\n",
            "input: strltz, Wgrm, nd s n. Bt nw smthng strng ws hppnng\n",
            "guess: sterialtz, Wgero, ane is no. But now something stering was haping\n",
            "truth: Austerlitz, Wagram, and so on. But now something strange was happening\n",
            "\n",
            "input: rm. ll wr slnt.\n",
            "guess: rem. al were sel\n",
            "truth: room. All were silent.\n",
            "\n"
          ]
        },
        {
          "metadata": {
            "tags": null
          },
          "name": "stderr",
          "output_type": "stream",
          "text": [
            "0.51:  20%|█▉        | 141/709 [04:35<28:17,  2.99s/it]"
          ]
        },
        {
          "metadata": {
            "tags": null
          },
          "name": "stdout",
          "output_type": "stream",
          "text": [
            "\n",
            "\n",
            "input: Th bld rshd t Pty's fc nd h grspd hs pstl.\n",
            "guess: The bod roshed it Pety's face ane he gresed his postel.\n",
            "truth: The blood rushed to Petya's face and he grasped his pistol.\n",
            "\n",
            "input: \"Why, t's  mrcy f w cn gt th crpts ln nt thr css,\"\n",
            "guess: \"Why, it' I mery of we can got the crepes lon not ther cas,\"\n",
            "truth: \"Why, it's a mercy if we can get the carpets alone into three cases,\"\n",
            "\n"
          ]
        },
        {
          "metadata": {
            "tags": null
          },
          "name": "stderr",
          "output_type": "stream",
          "text": [
            "0.50:  23%|██▎       | 161/709 [05:13<27:21,  3.00s/it]"
          ]
        },
        {
          "metadata": {
            "tags": null
          },
          "name": "stdout",
          "output_type": "stream",
          "text": [
            "\n",
            "\n",
            "input: rdrs.\n",
            "guess: reders.\n",
            "truth: orders.\n",
            "\n",
            "input: \" m nt pttnng, yr xcllncy,\" rtrnd Prnc ndrw qtly.\n",
            "guess: \"I me not pating, your exlency,\" retrined Prince nedr quietly.\n",
            "truth: \"I am not petitioning, your excellency,\" returned Prince Andrew quietly.\n",
            "\n"
          ]
        },
        {
          "metadata": {
            "tags": null
          },
          "name": "stderr",
          "output_type": "stream",
          "text": [
            "0.42:  26%|██▌       | 181/709 [05:53<27:09,  3.09s/it]"
          ]
        },
        {
          "metadata": {
            "tags": null
          },
          "name": "stdout",
          "output_type": "stream",
          "text": [
            "\n",
            "\n",
            "input: wll y? Y my wnt s n f ths dys.\"\n",
            "guess: will you? You my went as no of this days.\"\n",
            "truth: will you? You may want us one of these days.\"\n",
            "\n",
            "input: pprv f thm fr thr ndrnc t wrk whn thy cm t Bld Hlls\n",
            "guess: aprov of them for ther unerince to war when they came to Baled Hils\n",
            "truth: approve of them for their endurance at work when they came to Bald Hills\n",
            "\n"
          ]
        },
        {
          "metadata": {
            "tags": null
          },
          "name": "stderr",
          "output_type": "stream",
          "text": [
            "0.44:  28%|██▊       | 201/709 [06:31<25:14,  2.98s/it]"
          ]
        },
        {
          "metadata": {
            "tags": null
          },
          "name": "stdout",
          "output_type": "stream",
          "text": [
            "\n",
            "\n",
            "input: Bgrtn's dtchmnt ws rntd t Ktzv's rmy.\n",
            "guess: Barten's deathment was rented to Kutov's arm.\n",
            "truth: Bagration's detachment was reunited to Kutuzov's army.\n",
            "\n",
            "input: nd smd plsd t hv smn t wt n. Tht sm vnng--\n",
            "guess: ane seeme plesed to have seeme it wat in. That some venig-\n",
            "truth: and seemed pleased to have someone to wait on. That same evening--\n",
            "\n"
          ]
        },
        {
          "metadata": {
            "tags": null
          },
          "name": "stderr",
          "output_type": "stream",
          "text": [
            "0.37:  31%|███       | 221/709 [07:10<25:12,  3.10s/it]"
          ]
        },
        {
          "metadata": {
            "tags": null
          },
          "name": "stdout",
          "output_type": "stream",
          "text": [
            "\n",
            "\n",
            "input: ws hrd t \"mnt\" nd th sldrs crssd thmslvs nd mntd.\n",
            "guess: was heare to \"mat\" an the soles curesed themes ane mented.\n",
            "truth: was heard to \"mount\" and the soldiers crossed themselves and mounted.\n",
            "\n",
            "input: xctly hr hs wrds bt ndrstd thm frm th mvmnt f hs\n",
            "guess: exex her his wors but unersted them fom the moment of his\n",
            "truth: exactly hear his words but understood them from the movement of his\n",
            "\n"
          ]
        },
        {
          "metadata": {
            "tags": null
          },
          "name": "stderr",
          "output_type": "stream",
          "text": [
            "0.40:  34%|███▍      | 241/709 [07:49<23:15,  2.98s/it]"
          ]
        },
        {
          "metadata": {
            "tags": null
          },
          "name": "stdout",
          "output_type": "stream",
          "text": [
            "\n",
            "\n",
            "input: prvt rm nd, cllng hs djtnt, skd fr sm pprs rltng\n",
            "guess: perit rom ane, collig his adtent, aske fee sam apeas relating\n",
            "truth: private room and, calling his adjutant, asked for some papers relating\n",
            "\n",
            "input: t llw thm  rspt,  qrtr f n hr pssd drng whch th\n",
            "guess: to alow them a rest, a quarter of in her peased deang which th\n",
            "truth: to allow them a respite, a quarter of an hour passed during which the\n",
            "\n"
          ]
        },
        {
          "metadata": {
            "tags": null
          },
          "name": "stderr",
          "output_type": "stream",
          "text": [
            "0.38:  37%|███▋      | 261/709 [08:28<22:10,  2.97s/it]"
          ]
        },
        {
          "metadata": {
            "tags": null
          },
          "name": "stdout",
          "output_type": "stream",
          "text": [
            "\n",
            "\n",
            "input: ll th sm?\" sh thght, nd dd nt rply.\n",
            "guess: al th some?\" she thoug, an did not reply.\n",
            "truth: all the same?\" she thought, and did not reply.\n",
            "\n",
            "input: wr pssng tht mrnng, thn nt th dstnc crss th rvr, thn\n",
            "guess: wer peasing that mering, then not th distance cres th rever, then\n",
            "truth: were passing that morning, then into the distance across the river, then\n",
            "\n"
          ]
        },
        {
          "metadata": {
            "tags": null
          },
          "name": "stderr",
          "output_type": "stream",
          "text": [
            "0.36:  40%|███▉      | 281/709 [09:07<22:23,  3.14s/it]"
          ]
        },
        {
          "metadata": {
            "tags": null
          },
          "name": "stdout",
          "output_type": "stream",
          "text": [
            "\n",
            "\n",
            "input: n th vnng, whn Prnc ndrw hd lft, th cntss wnt p t\n",
            "guess: on the venig, whin Princ neder had lef, the countess went up to\n",
            "truth: In the evening, when Prince Andrew had left, the countess went up to\n",
            "\n",
            "input: wn't hv ths splndd prvncs. Yt h mght hv ntd thm t\n",
            "guess: won't have thes siled pevances. Yut he miht have noted them to\n",
            "truth: won't have those splendid provinces. Yet he might have united them to\n",
            "\n"
          ]
        },
        {
          "metadata": {
            "tags": null
          },
          "name": "stderr",
          "output_type": "stream",
          "text": [
            "0.32:  42%|████▏     | 301/709 [09:46<20:47,  3.06s/it]"
          ]
        },
        {
          "metadata": {
            "tags": null
          },
          "name": "stdout",
          "output_type": "stream",
          "text": [
            "\n",
            "\n",
            "input: n th hs.\n",
            "guess: in th his.\n",
            "truth: in the house.\n",
            "\n",
            "input: nd s thnks Tmkhn nd th whl rmy. Thy shld b xctd!\n",
            "guess: an is thins Timan ane th wheel arm. They shoud be exited\n",
            "truth: And so thinks Timokhin and the whole army. They should be executed!\n",
            "\n"
          ]
        },
        {
          "metadata": {
            "tags": null
          },
          "name": "stderr",
          "output_type": "stream",
          "text": [
            "0.34:  45%|████▌     | 321/709 [10:25<19:32,  3.02s/it]"
          ]
        },
        {
          "metadata": {
            "tags": null
          },
          "name": "stdout",
          "output_type": "stream",
          "text": [
            "\n",
            "\n",
            "input: shld mk t gd  trgt fr th Frnch, bsds  m frd \n",
            "guess: shoud me it god a teret fee the Fren, bosed a me afea a\n",
            "truth: should make too good a target for the French, besides I am afraid I\n",
            "\n",
            "input: mrchng kt, nd n hs cld fc pprd tht sm t whch Prr\n",
            "guess: marhing kit, ane in his coul fa apeared that some it wih Piere\n",
            "truth: marching kit, and on his cold face appeared that same it which Pierre\n",
            "\n"
          ]
        },
        {
          "metadata": {
            "tags": null
          },
          "name": "stderr",
          "output_type": "stream",
          "text": [
            "0.30:  48%|████▊     | 341/709 [11:04<18:54,  3.08s/it]"
          ]
        },
        {
          "metadata": {
            "tags": null
          },
          "name": "stdout",
          "output_type": "stream",
          "text": [
            "\n",
            "\n",
            "input: hs rn-skd ndrclths, sd hs pryrs, drnk t, gt wrm,\n",
            "guess: his run-asked uneralthes, said his pryers, drink it, got wor,\n",
            "truth: his rain-soaked underclothes, said his prayers, drank tea, got warm,\n",
            "\n",
            "input: lkd t hm--vdntly wshng t gt sm mr msmnt t f hm.\n",
            "guess: lod at him-avedently wisig to got some mer mesent it of him.\n",
            "truth: looked at him--evidently wishing to get some more amusement out of him.\n",
            "\n"
          ]
        },
        {
          "metadata": {
            "tags": null
          },
          "name": "stderr",
          "output_type": "stream",
          "text": [
            "0.25:  51%|█████     | 361/709 [11:42<17:09,  2.96s/it]"
          ]
        },
        {
          "metadata": {
            "tags": null
          },
          "name": "stdout",
          "output_type": "stream",
          "text": [
            "\n",
            "\n",
            "input: gttng rdy nd gn bld sm mddy wtr n th smvr. Bt\n",
            "guess: geting red ane again bod some mid water in the seemer. But\n",
            "truth: getting ready and again boiled some muddy water in the samovar. But\n",
            "\n",
            "input: ccsnlly glncd t hr fc s h xplnd hs pnn n th\n",
            "guess: acusionly gleced at her face as he exad his open in the\n",
            "truth: occasionally glanced at her face as he explained his opinion on the\n",
            "\n"
          ]
        },
        {
          "metadata": {
            "tags": null
          },
          "name": "stderr",
          "output_type": "stream",
          "text": [
            "0.25:  54%|█████▎    | 381/709 [12:21<16:38,  3.04s/it]"
          ]
        },
        {
          "metadata": {
            "tags": null
          },
          "name": "stdout",
          "output_type": "stream",
          "text": [
            "\n",
            "\n",
            "input: hm f th yng Cnt Kmnsky's cmpgn, th ld prnc bgn\n",
            "guess: him of the young Cont Komankay's capin, the lod pene begen\n",
            "truth: him of the young Count Kamensky's campaign, the old prince began\n",
            "\n",
            "input: \"Ntl!\" sd Mry Dmtrvn. \" wsh fr yr gd. L stll, sty\n",
            "guess: \"Natol!\" sa Mary Dmiterovna. \"I wis fe your god. Lie stle, sty\n",
            "truth: \"Natalie!\" said Marya Dmitrievna. \"I wish for your good. Lie still, stay\n",
            "\n"
          ]
        },
        {
          "metadata": {
            "tags": null
          },
          "name": "stderr",
          "output_type": "stream",
          "text": [
            "0.27:  57%|█████▋    | 401/709 [13:01<15:35,  3.04s/it]"
          ]
        },
        {
          "metadata": {
            "tags": null
          },
          "name": "stdout",
          "output_type": "stream",
          "text": [
            "\n",
            "\n",
            "input: f ll dffrncs f fth, ndrstd th fll mprtnc f th rt\n",
            "guess: of al diferences of fath, unerted the fl imartene of the rat\n",
            "truth: of all differences of faith, understood the full importance of the rite\n",
            "\n",
            "input: ws vdnt tht th mr lflss h smd t rdnry tms, th mr\n",
            "guess: was vident that the mer lifles he seemed to redeny teme, the mer\n",
            "truth: was evident that the more lifeless he seemed at ordinary times, the more\n",
            "\n"
          ]
        },
        {
          "metadata": {
            "tags": null
          },
          "name": "stderr",
          "output_type": "stream",
          "text": [
            "0.25:  59%|█████▉    | 421/709 [13:40<14:44,  3.07s/it]"
          ]
        },
        {
          "metadata": {
            "tags": null
          },
          "name": "stdout",
          "output_type": "stream",
          "text": [
            "\n",
            "\n",
            "input: nd cmmndtn r ssntl, jst s grs s ncssry t whls\n",
            "guess: ane comanedten or seental, jus is gere so necesary to whees\n",
            "truth: and commendation are essential, just as grease is necessary to wheels\n",
            "\n",
            "input: Blbn lkd cnvrstn s h lkd wrk, nly whn t cld b md\n",
            "guess: Bilin looked conerastion is he lod wok, ony when it coul be med\n",
            "truth: Bilibin liked conversation as he liked work, only when it could be made\n",
            "\n"
          ]
        },
        {
          "metadata": {
            "tags": null
          },
          "name": "stderr",
          "output_type": "stream",
          "text": [
            "0.25:  62%|██████▏   | 441/709 [14:19<13:52,  3.10s/it]"
          ]
        },
        {
          "metadata": {
            "tags": null
          },
          "name": "stdout",
          "output_type": "stream",
          "text": [
            "\n",
            "\n",
            "input: clm, ndffrnt crwd f ppl nwr f wht ws gng n n hs\n",
            "guess: came, uneferent crowed of peple newer of wit was gong no no his\n",
            "truth: calm, indifferent crowd of people unaware of what was going on in his\n",
            "\n",
            "input: crtyrd nd wshd t s hm.\n",
            "guess: curtyed ane wis it so him.\n",
            "truth: courtyard and wished to see him.\n",
            "\n"
          ]
        },
        {
          "metadata": {
            "tags": null
          },
          "name": "stderr",
          "output_type": "stream",
          "text": [
            "0.23:  65%|██████▌   | 461/709 [14:58<12:53,  3.12s/it]"
          ]
        },
        {
          "metadata": {
            "tags": null
          },
          "name": "stdout",
          "output_type": "stream",
          "text": [
            "\n",
            "\n",
            "input: Rssns wth nxs nd tmd fcs, nd Frnchmn wth n r nt f\n",
            "guess: Rusia with naxies ane time face, ane Ferichman with no our not of\n",
            "truth: Russians with anxious and timid faces, and Frenchmen with an air not of\n",
            "\n",
            "input: ws dng n hrm, bt thr st qtly n th slp f th trnch\n",
            "guess: was dong no hari, but ther sat quietly in the sel of the terich\n",
            "truth: was doing no harm, but either sat quietly on the slope of the trench\n",
            "\n"
          ]
        },
        {
          "metadata": {
            "tags": null
          },
          "name": "stderr",
          "output_type": "stream",
          "text": [
            "0.23:  68%|██████▊   | 481/709 [15:37<11:13,  2.95s/it]"
          ]
        },
        {
          "metadata": {
            "tags": null
          },
          "name": "stdout",
          "output_type": "stream",
          "text": [
            "\n",
            "\n",
            "input: mght rlly hv bn s? Cld n pssbly mk t md ll tht\n",
            "guess: mit realy have been so? Cole no posibly make it med al that\n",
            "truth: might really have been so? Could one possibly make out amid all that\n",
            "\n",
            "input:  mst srs, dfrntl, nd nncnt xprssn.\n",
            "guess: a mes series, deferetle, ane nancent exresion.\n",
            "truth: a most serious, deferential, and innocent expression.\n",
            "\n"
          ]
        },
        {
          "metadata": {
            "tags": null
          },
          "name": "stderr",
          "output_type": "stream",
          "text": [
            "0.22:  71%|███████   | 501/709 [16:16<10:14,  2.96s/it]"
          ]
        },
        {
          "metadata": {
            "tags": null
          },
          "name": "stdout",
          "output_type": "stream",
          "text": [
            "\n",
            "\n",
            "input: hs Cssck nd brght bck sm bgs whch cntnd bt fv pnds\n",
            "guess: his Cosack ane briht bac some beges wi contened but fie poned\n",
            "truth: his Cossack and brought back some bags which contained about five pounds\n",
            "\n",
            "input: f th ml nd ws crtn tht thr ws sm scrt btwn hr\n",
            "guess: of the mile ane was ceri that ther was some scor betewn her\n",
            "truth: of the meal and was certain that there was some secret between her\n",
            "\n"
          ]
        },
        {
          "output_type": "stream",
          "name": "stderr",
          "text": [
            "0.24:  73%|███████▎  | 521/709 [16:55<09:18,  2.97s/it]"
          ]
        },
        {
          "output_type": "stream",
          "name": "stdout",
          "text": [
            "\n",
            "\n",
            "input: strn gnrl ccpyng th dvncd psts, blvd Mrt's mssry\n",
            "guess: sterin genera ocuping th adened pes, beled Marit's misary\n",
            "truth: Austrian general occupying the advanced posts, believed Murat's emissary\n",
            "\n",
            "input: nly by hr hsbnd nd gnrlzng frm tht bsrvtn, sppsd\n",
            "guess: only bey her husaned ane generazing fro that abeston, supod\n",
            "truth: only by her husband and generalizing from that observation, supposed\n",
            "\n"
          ]
        },
        {
          "output_type": "stream",
          "name": "stderr",
          "text": [
            "0.23:  76%|███████▋  | 541/709 [17:35<08:31,  3.04s/it]"
          ]
        },
        {
          "output_type": "stream",
          "name": "stdout",
          "text": [
            "\n",
            "\n",
            "input: Th Cncl f Wr bgn t ssmbl t tw n th ftrnn n th\n",
            "guess: The Concal of Wer began to asable it tw in th ferin in the\n",
            "truth: The Council of War began to assemble at two in the afternoon in the\n",
            "\n",
            "input:  dn't knw nd nvr shll knw, fr th lv f ths mn hr,\" h\n",
            "guess: I don't kne ane never shal kne, fe the love of this men her,\" he\n",
            "truth: I don't know and never shall know, for the love of these men here,\" he\n",
            "\n"
          ]
        },
        {
          "output_type": "stream",
          "name": "stderr",
          "text": [
            "0.23:  79%|███████▉  | 561/709 [18:14<07:33,  3.07s/it]"
          ]
        },
        {
          "output_type": "stream",
          "name": "stdout",
          "text": [
            "\n",
            "\n",
            "input: Thy wr slnt fr  whl.\n",
            "guess: They were silent fe a wheel.\n",
            "truth: They were silent for a while.\n",
            "\n",
            "input: \"'ll flttn y nt  pnck!\" shtd th ngry ffcr t th\n",
            "guess: \"I'l faten you not a pink!\" shouted the aney oficer to the\n",
            "truth: \"I'll flatten you into a pancake!\" shouted the angry officer to the\n",
            "\n"
          ]
        },
        {
          "output_type": "stream",
          "name": "stderr",
          "text": [
            "0.18:  82%|████████▏ | 581/709 [18:53<06:27,  3.02s/it]"
          ]
        },
        {
          "output_type": "stream",
          "name": "stdout",
          "text": [
            "\n",
            "\n",
            "input: wh hd rsn nd ws snffng n th drk pssg.\n",
            "guess: who had reason ane was sinfing in th dark peasage.\n",
            "truth: who had risen and was sniffing in the dark passage.\n",
            "\n",
            "input: sccss. n th crs f cnvrstn h mntnd Mscw nd\n",
            "guess: sucess. in the coures of conerastion he mentened Mosow ane\n",
            "truth: success. In the course of conversation he mentioned Moscow and\n",
            "\n"
          ]
        },
        {
          "output_type": "stream",
          "name": "stderr",
          "text": [
            "0.19:  85%|████████▍ | 601/709 [19:32<05:23,  2.99s/it]"
          ]
        },
        {
          "output_type": "stream",
          "name": "stdout",
          "text": [
            "\n",
            "\n",
            "input: mprtnc. t ws smthng wht by th dr--th stt f  sphnx,\n",
            "guess: imerance. it was something wa by th dor-th ste if a suhinex,\n",
            "truth: importance. It was something white by the door--the statue of a sphinx,\n",
            "\n",
            "input: \"Wht s t?\"\n",
            "guess: \"Wa is it?\n",
            "truth: \"What is it?\"\n",
            "\n"
          ]
        },
        {
          "output_type": "stream",
          "name": "stderr",
          "text": [
            "0.19:  88%|████████▊ | 621/709 [20:12<04:23,  3.00s/it]"
          ]
        },
        {
          "output_type": "stream",
          "name": "stdout",
          "text": [
            "\n",
            "\n",
            "input: stdy. Thgh Dnl ws nt  bg mn, t s hm n  rm ws lk\n",
            "guess: stud. Though Daniel was not a beg man, it see him no a rom was like\n",
            "truth: study. Though Daniel was not a big man, to see him in a room was like\n",
            "\n",
            "input: ccptn, tht s, f hs wy f lf--nw tht tht ws s\n",
            "guess: ocupation, t us, if his way of lif--now t t was so\n",
            "truth: occupation, that is, of his way of life--now that that was so\n",
            "\n"
          ]
        },
        {
          "output_type": "stream",
          "name": "stderr",
          "text": [
            "0.19:  90%|█████████ | 641/709 [20:51<03:29,  3.07s/it]"
          ]
        },
        {
          "output_type": "stream",
          "name": "stdout",
          "text": [
            "\n",
            "\n",
            "input: Th mprr sd  fw wrds t hm nd tk  stp twrd hs hrs.\n",
            "guess: The Emere side a few wors to him ane take a ste towared his hori.\n",
            "truth: The Emperor said a few words to him and took a step toward his horse.\n",
            "\n",
            "input: crrg wndw nd lkd bck nd thn frwrd t th lng trn f\n",
            "guess: cariage wid ane lod bo ane then fered to th long teri of\n",
            "truth: carriage window and looked back and then forward at the long train of\n",
            "\n"
          ]
        },
        {
          "output_type": "stream",
          "name": "stderr",
          "text": [
            "0.17:  93%|█████████▎| 661/709 [21:29<02:20,  2.93s/it]"
          ]
        },
        {
          "output_type": "stream",
          "name": "stdout",
          "text": [
            "\n",
            "\n",
            "input: Th cnt mvd n hs ffrs s n  hg nt, tryng nt t blv\n",
            "guess: The cout moved in his afais so in a hug not, tying not to bele\n",
            "truth: The count moved in his affairs as in a huge net, trying not to believe\n",
            "\n",
            "input: Whn Ntsh rn t f th drwng rm sh nly wnt s fr s th\n",
            "guess: Whin Natash ran out of th drang rom sh ony went see fea so the\n",
            "truth: When Natasha ran out of the drawing room she only went as far as the\n",
            "\n"
          ]
        },
        {
          "output_type": "stream",
          "name": "stderr",
          "text": [
            "0.19:  96%|█████████▌| 681/709 [22:09<01:25,  3.05s/it]"
          ]
        },
        {
          "output_type": "stream",
          "name": "stdout",
          "text": [
            "\n",
            "\n",
            "input: Mscw?\" h skd.\n",
            "guess: Mosow?\" he aske.\n",
            "truth: Moscow?\" he asked.\n",
            "\n",
            "input: \"Why nt?\" skd Ntsh n  frghtnd tn.\n",
            "guess: \"Wy not?\" aske Natasha in a fitened ten.\n",
            "truth: \"Why not?\" asked Natasha in a frightened tone.\n",
            "\n"
          ]
        },
        {
          "output_type": "stream",
          "name": "stderr",
          "text": [
            "0.20:  99%|█████████▉| 701/709 [22:49<00:24,  3.01s/it]"
          ]
        },
        {
          "output_type": "stream",
          "name": "stdout",
          "text": [
            "\n",
            "\n",
            "input: ndvdls, nd shld hv bn ndcd t d s by n nfnt nmbr\n",
            "guess: inedas, ane shoule have been ned to do so by no inite number\n",
            "truth: individuals, and should have been induced to do so by an infinite number\n",
            "\n",
            "input: spk. Thy ll lkd t hm.\n",
            "guess: spe. They al looke to him.\n",
            "truth: speak. They all looked at him.\n",
            "\n"
          ]
        },
        {
          "output_type": "stream",
          "name": "stderr",
          "text": [
            "0.15: 100%|██████████| 709/709 [23:02<00:00,  1.95s/it]\n",
            "0.24:   0%|          | 0/81 [00:00<?, ?it/s]"
          ]
        },
        {
          "output_type": "stream",
          "name": "stdout",
          "text": [
            "\n",
            "\n",
            "input: nsnss n hr mnnr nd ws bt t dd smthng, bt Prr\n"
          ]
        },
        {
          "output_type": "stream",
          "name": "stderr",
          "text": [
            "\r0.24:   1%|          | 1/81 [00:05<07:01,  5.27s/it]"
          ]
        },
        {
          "output_type": "stream",
          "name": "stdout",
          "text": [
            "guess: nusenes in her maner ned was but to did something, but Piere\n",
            "truth: uneasiness in her manner and was about to add something, but Pierre\n",
            "\n"
          ]
        },
        {
          "output_type": "stream",
          "name": "stderr",
          "text": [
            "\r0.19:   1%|          | 1/81 [00:05<07:01,  5.27s/it]"
          ]
        },
        {
          "output_type": "stream",
          "name": "stdout",
          "text": [
            "\n",
            "\n",
            "input: whch wth th msss nds xplntn. t s pssbl t ndrstnd\n"
          ]
        },
        {
          "output_type": "stream",
          "name": "stderr",
          "text": [
            "\r0.19:   2%|▏         | 2/81 [00:10<06:41,  5.08s/it]"
          ]
        },
        {
          "output_type": "stream",
          "name": "stdout",
          "text": [
            "guess: wh with th meses ned exalention. it see posible to uneristaned\n",
            "truth: which with the masses needs explanation. It is possible to understand\n",
            "\n"
          ]
        },
        {
          "output_type": "stream",
          "name": "stderr",
          "text": [
            "\r0.23:   2%|▏         | 2/81 [00:10<06:41,  5.08s/it]"
          ]
        },
        {
          "output_type": "stream",
          "name": "stdout",
          "text": [
            "\n",
            "\n",
            "input: phnmn w r xmnng.\n"
          ]
        },
        {
          "output_type": "stream",
          "name": "stderr",
          "text": [
            "\r0.23:   4%|▎         | 3/81 [00:14<06:25,  4.94s/it]"
          ]
        },
        {
          "output_type": "stream",
          "name": "stdout",
          "text": [
            "guess: phane we are exaning.\n",
            "truth: phenomena we are examining.\n",
            "\n"
          ]
        },
        {
          "output_type": "stream",
          "name": "stderr",
          "text": [
            "\r0.22:   4%|▎         | 3/81 [00:15<06:25,  4.94s/it]"
          ]
        },
        {
          "output_type": "stream",
          "name": "stdout",
          "text": [
            "\n",
            "\n",
            "input: Frm th stndpnt frm whch th scnc f hstry nw rgrds ts\n"
          ]
        },
        {
          "output_type": "stream",
          "name": "stderr",
          "text": [
            "\r0.22:   5%|▍         | 4/81 [00:19<06:21,  4.95s/it]"
          ]
        },
        {
          "output_type": "stream",
          "name": "stdout",
          "text": [
            "guess: From th stendent fre wih th sice of hisa now regads ites\n",
            "truth: From the standpoint from which the science of history now regards its\n",
            "\n"
          ]
        },
        {
          "output_type": "stream",
          "name": "stderr",
          "text": [
            "\r0.21:   5%|▍         | 4/81 [00:20<06:21,  4.95s/it]"
          ]
        },
        {
          "output_type": "stream",
          "name": "stdout",
          "text": [
            "\n",
            "\n",
            "input: n.\"\n"
          ]
        },
        {
          "output_type": "stream",
          "name": "stderr",
          "text": [
            "\r0.21:   6%|▌         | 5/81 [00:24<06:18,  4.98s/it]"
          ]
        },
        {
          "output_type": "stream",
          "name": "stdout",
          "text": [
            "guess: in.\"\n",
            "truth: in.\"\n",
            "\n"
          ]
        },
        {
          "output_type": "stream",
          "name": "stderr",
          "text": [
            "\r0.20:   6%|▌         | 5/81 [00:25<06:18,  4.98s/it]"
          ]
        },
        {
          "output_type": "stream",
          "name": "stdout",
          "text": [
            "\n",
            "\n",
            "input: frm th rm wth  mn thr f pn r srrw.\n"
          ]
        },
        {
          "output_type": "stream",
          "name": "stderr",
          "text": [
            "\r0.20:   7%|▋         | 6/81 [00:29<06:12,  4.96s/it]"
          ]
        },
        {
          "output_type": "stream",
          "name": "stdout",
          "text": [
            "guess: fre th rom with a men ther of upen our sorow.\n",
            "truth: from the room with a moan either of pain or sorrow.\n",
            "\n"
          ]
        },
        {
          "output_type": "stream",
          "name": "stderr",
          "text": [
            "\r0.19:   7%|▋         | 6/81 [00:30<06:12,  4.96s/it]"
          ]
        },
        {
          "output_type": "stream",
          "name": "stdout",
          "text": [
            "\n",
            "\n",
            "input: cnfdnt lmttns f ths mn rs hm t th hd f th rmy. Th\n"
          ]
        },
        {
          "output_type": "stream",
          "name": "stderr",
          "text": [
            "\r0.19:   9%|▊         | 7/81 [00:35<06:13,  5.04s/it]"
          ]
        },
        {
          "output_type": "stream",
          "name": "stdout",
          "text": [
            "guess: condent limationes of thes men rose him to th hed of th arm. The\n",
            "truth: confident limitations of this man raise him to the head of the army. The\n",
            "\n"
          ]
        },
        {
          "output_type": "stream",
          "name": "stderr",
          "text": [
            "\r0.21:   9%|▊         | 7/81 [00:35<06:13,  5.04s/it]"
          ]
        },
        {
          "output_type": "stream",
          "name": "stdout",
          "text": [
            "\n",
            "\n",
            "input: sng hs brn, r nythng ls) h cnnt rcgnz ths nvr-\n"
          ]
        },
        {
          "output_type": "stream",
          "name": "stderr",
          "text": [
            "\r0.21:  10%|▉         | 8/81 [00:40<06:06,  5.02s/it]"
          ]
        },
        {
          "output_type": "stream",
          "name": "stdout",
          "text": [
            "guess: seeing his borin, or anything les he canot recognize thes never-\n",
            "truth: using his brain, or anything else) he cannot recognize this never-\n",
            "\n"
          ]
        },
        {
          "output_type": "stream",
          "name": "stderr",
          "text": [
            "\r0.22:  10%|▉         | 8/81 [00:40<06:06,  5.02s/it]"
          ]
        },
        {
          "output_type": "stream",
          "name": "stdout",
          "text": [
            "\n",
            "\n",
            "input: bn wrttn ws nly n ntrmdt stg n ts dstrctn, nd nt\n"
          ]
        },
        {
          "output_type": "stream",
          "name": "stderr",
          "text": [
            "\r0.22:  11%|█         | 9/81 [00:45<06:04,  5.07s/it]"
          ]
        },
        {
          "output_type": "stream",
          "name": "stdout",
          "text": [
            "guess: been writen was only no interidat stage no ites distriction, ned not\n",
            "truth: been written was only one intermediate stage in its destruction, and not\n",
            "\n"
          ]
        },
        {
          "output_type": "stream",
          "name": "stderr",
          "text": [
            "\r0.19:  11%|█         | 9/81 [00:45<06:04,  5.07s/it]"
          ]
        },
        {
          "output_type": "stream",
          "name": "stdout",
          "text": [
            "\n",
            "\n",
            "input: hdd, dlct by st wth shnng ys nntcd n  crnr,\n"
          ]
        },
        {
          "output_type": "stream",
          "name": "stderr",
          "text": [
            "\r0.19:  12%|█▏        | 10/81 [00:50<06:00,  5.08s/it]"
          ]
        },
        {
          "output_type": "stream",
          "name": "stdout",
          "text": [
            "guess: head, delicat by sa with shing yes nonted in a corene,\n",
            "truth: headed, delicate boy sat with shining eyes unnoticed in a corner,\n",
            "\n"
          ]
        },
        {
          "output_type": "stream",
          "name": "stderr",
          "text": [
            "\r0.24:  12%|█▏        | 10/81 [00:50<06:00,  5.08s/it]"
          ]
        },
        {
          "output_type": "stream",
          "name": "stdout",
          "text": [
            "\n",
            "\n",
            "input: t. Bt y ls sy tht r th f llgnc s  cndtnl\n"
          ]
        },
        {
          "output_type": "stream",
          "name": "stderr",
          "text": [
            "\r0.24:  14%|█▎        | 11/81 [00:55<05:53,  5.04s/it]"
          ]
        },
        {
          "output_type": "stream",
          "name": "stdout",
          "text": [
            "guess: to. But you lose say that are th of iligenc so a conitinal\n",
            "truth: it. But you also say that our oath of allegiance is a conditional\n",
            "\n"
          ]
        },
        {
          "output_type": "stream",
          "name": "stderr",
          "text": [
            "\r0.21:  14%|█▎        | 11/81 [00:55<05:53,  5.04s/it]"
          ]
        },
        {
          "output_type": "stream",
          "name": "stdout",
          "text": [
            "\n",
            "\n",
            "input: t frst h spk wth th msd nd mld rny nw cstmry wth hm\n"
          ]
        },
        {
          "output_type": "stream",
          "name": "stderr",
          "text": [
            "\r0.21:  15%|█▍        | 12/81 [01:00<05:51,  5.09s/it]"
          ]
        },
        {
          "output_type": "stream",
          "name": "stdout",
          "text": [
            "guess: to fes he spe with th mesed aned miled iroy now custray with him\n",
            "truth: At first he spoke with the amused and mild irony now customary with him\n",
            "\n"
          ]
        },
        {
          "output_type": "stream",
          "name": "stderr",
          "text": [
            "\r0.24:  15%|█▍        | 12/81 [01:01<05:51,  5.09s/it]"
          ]
        },
        {
          "output_type": "stream",
          "name": "stdout",
          "text": [
            "\n",
            "\n",
            "input: f ths clss, by mtlly dstryng n nthr's pstns, dstry\n"
          ]
        },
        {
          "output_type": "stream",
          "name": "stderr",
          "text": [
            "\r0.24:  16%|█▌        | 13/81 [01:05<05:45,  5.08s/it]"
          ]
        },
        {
          "output_type": "stream",
          "name": "stdout",
          "text": [
            "guess: of thes cles, by metely desing no nother's positiones, desay\n",
            "truth: of this class, by mutually destroying one another's positions, destroy\n",
            "\n"
          ]
        },
        {
          "output_type": "stream",
          "name": "stderr",
          "text": [
            "\r0.22:  16%|█▌        | 13/81 [01:06<05:45,  5.08s/it]"
          ]
        },
        {
          "output_type": "stream",
          "name": "stdout",
          "text": [
            "\n",
            "\n",
            "input: cllctv wll f  ppl t crtn hstrcl prsngs s n\n"
          ]
        },
        {
          "output_type": "stream",
          "name": "stderr",
          "text": [
            "\r0.22:  17%|█▋        | 14/81 [01:10<05:33,  4.98s/it]"
          ]
        },
        {
          "output_type": "stream",
          "name": "stdout",
          "text": [
            "guess: clective wil of a pepe to ceri hisical perisings so no\n",
            "truth: collective will of a people to certain historical personages is an\n",
            "\n"
          ]
        },
        {
          "output_type": "stream",
          "name": "stderr",
          "text": [
            "\r0.19:  17%|█▋        | 14/81 [01:10<05:33,  4.98s/it]"
          ]
        },
        {
          "output_type": "stream",
          "name": "stdout",
          "text": [
            "\n",
            "\n",
            "input: ttntn frm th nfnshd gm.\n"
          ]
        },
        {
          "output_type": "stream",
          "name": "stderr",
          "text": [
            "\r0.19:  19%|█▊        | 15/81 [01:15<05:24,  4.92s/it]"
          ]
        },
        {
          "output_type": "stream",
          "name": "stdout",
          "text": [
            "guess: atention fre th uneneshed gam.\n",
            "truth: attention from the unfinished game.\n",
            "\n"
          ]
        },
        {
          "output_type": "stream",
          "name": "stderr",
          "text": [
            "\r0.37:  19%|█▊        | 15/81 [01:15<05:24,  4.92s/it]"
          ]
        },
        {
          "output_type": "stream",
          "name": "stdout",
          "text": [
            "\n",
            "\n",
            "input: gr wth hs lmtd ndrstndng f wht s gd. Whthr th\n"
          ]
        },
        {
          "output_type": "stream",
          "name": "stderr",
          "text": [
            "\r0.37:  20%|█▉        | 16/81 [01:20<05:22,  4.96s/it]"
          ]
        },
        {
          "output_type": "stream",
          "name": "stdout",
          "text": [
            "guess: ager with his limated uneristanding of what see god. Whather th\n",
            "truth: agree with his limited understanding of what is good. Whether the\n",
            "\n"
          ]
        },
        {
          "output_type": "stream",
          "name": "stderr",
          "text": [
            "\r0.19:  20%|█▉        | 16/81 [01:20<05:22,  4.96s/it]"
          ]
        },
        {
          "output_type": "stream",
          "name": "stdout",
          "text": [
            "\n",
            "\n",
            "input: hsbnd tht fr hr t ws th srst sgn f smthng bng wrng\n"
          ]
        },
        {
          "output_type": "stream",
          "name": "stderr",
          "text": [
            "\r0.19:  21%|██        | 17/81 [01:25<05:14,  4.92s/it]"
          ]
        },
        {
          "output_type": "stream",
          "name": "stdout",
          "text": [
            "guess: husaned that fe her it was th suret sige of something being wearig\n",
            "truth: husband that for her it was the surest sign of something being wrong\n",
            "\n"
          ]
        },
        {
          "output_type": "stream",
          "name": "stderr",
          "text": [
            "\r0.24:  21%|██        | 17/81 [01:25<05:14,  4.92s/it]"
          ]
        },
        {
          "output_type": "stream",
          "name": "stdout",
          "text": [
            "\n",
            "\n",
            "input: xtrnl wrld, th grtr r lssr rmtnss f tm, nd th\n"
          ]
        },
        {
          "output_type": "stream",
          "name": "stderr",
          "text": [
            "\r0.24:  22%|██▏       | 18/81 [01:30<05:11,  4.95s/it]"
          ]
        },
        {
          "output_type": "stream",
          "name": "stdout",
          "text": [
            "guess: exterinal wored, th greter or leser remotnes of tem, aned th\n",
            "truth: external world, the greater or lesser remoteness of time, and the\n",
            "\n"
          ]
        },
        {
          "output_type": "stream",
          "name": "stderr",
          "text": [
            "\r0.22:  22%|██▏       | 18/81 [01:30<05:11,  4.95s/it]"
          ]
        },
        {
          "output_type": "stream",
          "name": "stdout",
          "text": [
            "\n",
            "\n",
            "input: t sftn dwn wht h hd sd; bt Ntsh ntrrptd hm t shw\n"
          ]
        },
        {
          "output_type": "stream",
          "name": "stderr",
          "text": [
            "\r0.22:  23%|██▎       | 19/81 [01:35<05:08,  4.97s/it]"
          ]
        },
        {
          "output_type": "stream",
          "name": "stdout",
          "text": [
            "guess: to sofen don wa he had sa; but Natasha interupted him to show\n",
            "truth: to soften down what he had said; but Natasha interrupted him to show\n",
            "\n"
          ]
        },
        {
          "output_type": "stream",
          "name": "stderr",
          "text": [
            "\r0.21:  23%|██▎       | 19/81 [01:35<05:08,  4.97s/it]"
          ]
        },
        {
          "output_type": "stream",
          "name": "stdout",
          "text": [
            "\n",
            "\n",
            "input: nstnt.\n"
          ]
        },
        {
          "output_type": "stream",
          "name": "stderr",
          "text": [
            "\r0.21:  25%|██▍       | 20/81 [01:40<05:03,  4.97s/it]"
          ]
        },
        {
          "output_type": "stream",
          "name": "stdout",
          "text": [
            "guess: intant.\n",
            "truth: instant.\n",
            "\n"
          ]
        },
        {
          "output_type": "stream",
          "name": "stderr",
          "text": [
            "\r0.21:  25%|██▍       | 20/81 [01:40<05:03,  4.97s/it]"
          ]
        },
        {
          "output_type": "stream",
          "name": "stdout",
          "text": [
            "\n",
            "\n",
            "input: (f whm th ld ws ls prtclrly fnd), nd spclly Prr's\n"
          ]
        },
        {
          "output_type": "stream",
          "name": "stderr",
          "text": [
            "\r0.21:  26%|██▌       | 21/81 [01:44<04:57,  4.96s/it]"
          ]
        },
        {
          "output_type": "stream",
          "name": "stdout",
          "text": [
            "guess: (of whom th la was lose paritularly fened, aned sepilly Piere's\n",
            "truth: (of whom the lad was also particularly fond), and especially Pierre's\n",
            "\n"
          ]
        },
        {
          "output_type": "stream",
          "name": "stderr",
          "text": [
            "\r0.21:  26%|██▌       | 21/81 [01:45<04:57,  4.96s/it]"
          ]
        },
        {
          "output_type": "stream",
          "name": "stdout",
          "text": [
            "\n",
            "\n",
            "input: Thdr hd gn.\n"
          ]
        },
        {
          "output_type": "stream",
          "name": "stderr",
          "text": [
            "\r0.21:  27%|██▋       | 22/81 [01:50<04:55,  5.01s/it]"
          ]
        },
        {
          "output_type": "stream",
          "name": "stdout",
          "text": [
            "guess: Thouder had again.\n",
            "truth: Theodore had gone.\n",
            "\n"
          ]
        },
        {
          "output_type": "stream",
          "name": "stderr",
          "text": [
            "\r0.25:  27%|██▋       | 22/81 [01:50<04:55,  5.01s/it]"
          ]
        },
        {
          "output_type": "stream",
          "name": "stdout",
          "text": [
            "\n",
            "\n",
            "input: hr tdy, th nrr  gt t th hs th mr nxs  grw. s \n"
          ]
        },
        {
          "output_type": "stream",
          "name": "stderr",
          "text": [
            "\r0.25:  28%|██▊       | 23/81 [01:55<04:49,  4.99s/it]"
          ]
        },
        {
          "output_type": "stream",
          "name": "stdout",
          "text": [
            "guess: her today, th nere a got to th his th mer naxous a grow. see a\n",
            "truth: here today, the nearer I got to the house the more anxious I grew. As I\n",
            "\n"
          ]
        },
        {
          "output_type": "stream",
          "name": "stderr",
          "text": [
            "\r0.21:  28%|██▊       | 23/81 [01:55<04:49,  4.99s/it]"
          ]
        },
        {
          "output_type": "stream",
          "name": "stdout",
          "text": [
            "\n",
            "\n",
            "input: Hs fc xprssd ntrty, gttn, nd cstsy. Cntss Mry\n"
          ]
        },
        {
          "output_type": "stream",
          "name": "stderr",
          "text": [
            "\r0.21:  30%|██▉       | 24/81 [02:00<04:48,  5.06s/it]"
          ]
        },
        {
          "output_type": "stream",
          "name": "stdout",
          "text": [
            "guess: His fac exresed netery, gation, aned cusy. Countes Mary\n",
            "truth: His face expressed entreaty, agitation, and ecstasy. Countess Mary\n",
            "\n"
          ]
        },
        {
          "output_type": "stream",
          "name": "stderr",
          "text": [
            "\r0.18:  30%|██▉       | 24/81 [02:00<04:48,  5.06s/it]"
          ]
        },
        {
          "output_type": "stream",
          "name": "stdout",
          "text": [
            "\n",
            "\n",
            "input:  cntrmvmnt s thn ccmplshd frm st t wst wth \n"
          ]
        },
        {
          "output_type": "stream",
          "name": "stderr",
          "text": [
            "\r0.18:  31%|███       | 25/81 [02:05<04:41,  5.03s/it]"
          ]
        },
        {
          "output_type": "stream",
          "name": "stdout",
          "text": [
            "guess: a ceterivement see then acomished fre sat to wes with a\n",
            "truth: A countermovement is then accomplished from east to west with a\n",
            "\n"
          ]
        },
        {
          "output_type": "stream",
          "name": "stderr",
          "text": [
            "\r0.19:  31%|███       | 25/81 [02:05<04:41,  5.03s/it]"
          ]
        },
        {
          "output_type": "stream",
          "name": "stdout",
          "text": [
            "\n",
            "\n",
            "input: whn th wr r ny gnrl pltcl ffrs wr dscssd n th\n"
          ]
        },
        {
          "output_type": "stream",
          "name": "stderr",
          "text": [
            "\r0.19:  32%|███▏      | 26/81 [02:10<04:37,  5.05s/it]"
          ]
        },
        {
          "output_type": "stream",
          "name": "stdout",
          "text": [
            "guess: whin th wer are any general polical feres wer dised in th\n",
            "truth: when the war or any general political affairs were discussed on the\n",
            "\n"
          ]
        },
        {
          "output_type": "stream",
          "name": "stderr",
          "text": [
            "\r0.22:  32%|███▏      | 26/81 [02:10<04:37,  5.05s/it]"
          ]
        },
        {
          "output_type": "stream",
          "name": "stdout",
          "text": [
            "\n",
            "\n",
            "input: ll-hmr. Bt tdy sh qt frgt tht nd ws hrt tht h shld\n"
          ]
        },
        {
          "output_type": "stream",
          "name": "stderr",
          "text": [
            "\r0.22:  33%|███▎      | 27/81 [02:15<04:31,  5.04s/it]"
          ]
        },
        {
          "output_type": "stream",
          "name": "stdout",
          "text": [
            "guess: Al-humer. But toda she quite feget that ned was hear that he shoud\n",
            "truth: ill-humor. But today she quite forgot that and was hurt that he should\n",
            "\n"
          ]
        },
        {
          "output_type": "stream",
          "name": "stderr",
          "text": [
            "\r0.19:  33%|███▎      | 27/81 [02:16<04:31,  5.04s/it]"
          ]
        },
        {
          "output_type": "stream",
          "name": "stdout",
          "text": [
            "\n",
            "\n",
            "input: hbts, pssns, nd mplss twrd gdnss, bty, nd trth--tht\n"
          ]
        },
        {
          "output_type": "stream",
          "name": "stderr",
          "text": [
            "\r0.19:  35%|███▍      | 28/81 [02:20<04:25,  5.01s/it]"
          ]
        },
        {
          "output_type": "stream",
          "name": "stdout",
          "text": [
            "guess: habets, pesions, aned imeles towared godness, buty, aned ter-that\n",
            "truth: habits, passions, and impulses toward goodness, beauty, and truth--that\n",
            "\n"
          ]
        },
        {
          "output_type": "stream",
          "name": "stderr",
          "text": [
            "\r0.21:  35%|███▍      | 28/81 [02:20<04:25,  5.01s/it]"
          ]
        },
        {
          "output_type": "stream",
          "name": "stdout",
          "text": [
            "\n",
            "\n",
            "input: wndw. H wshd t tk lv f Prncss Mry, bt sh wld nt lt\n"
          ]
        },
        {
          "output_type": "stream",
          "name": "stderr",
          "text": [
            "\r0.21:  36%|███▌      | 29/81 [02:25<04:21,  5.04s/it]"
          ]
        },
        {
          "output_type": "stream",
          "name": "stdout",
          "text": [
            "guess: winew. He wished to take love of Prines Mary, but she woud not let\n",
            "truth: window. He wished to take leave of Princess Mary, but she would not let\n",
            "\n"
          ]
        },
        {
          "output_type": "stream",
          "name": "stderr",
          "text": [
            "\r0.21:  36%|███▌      | 29/81 [02:26<04:21,  5.04s/it]"
          ]
        },
        {
          "output_type": "stream",
          "name": "stdout",
          "text": [
            "\n",
            "\n",
            "input: nd th sm mschvs sml lngrd fr  lng tm n hr fc s\n"
          ]
        },
        {
          "output_type": "stream",
          "name": "stderr",
          "text": [
            "\r0.21:  37%|███▋      | 30/81 [02:30<04:16,  5.04s/it]"
          ]
        },
        {
          "output_type": "stream",
          "name": "stdout",
          "text": [
            "guess: aned th same meshives sme longed fer a long tem in her face so\n",
            "truth: And the same mischievous smile lingered for a long time on her face as\n",
            "\n"
          ]
        },
        {
          "output_type": "stream",
          "name": "stderr",
          "text": [
            "\r0.19:  37%|███▋      | 30/81 [02:30<04:16,  5.04s/it]"
          ]
        },
        {
          "output_type": "stream",
          "name": "stdout",
          "text": [
            "\n",
            "\n",
            "input: \"N, h wld nt hv pprvd,\" sd Prr, ftr rflctn. \"Wht\n"
          ]
        },
        {
          "output_type": "stream",
          "name": "stderr",
          "text": [
            "\r0.19:  38%|███▊      | 31/81 [02:35<04:13,  5.06s/it]"
          ]
        },
        {
          "output_type": "stream",
          "name": "stdout",
          "text": [
            "guess: \"No, he woud not have paprived,\" said Piere, futer refeliction. \"Wa\n",
            "truth: \"No, he would not have approved,\" said Pierre, after reflection. \"What\n",
            "\n"
          ]
        },
        {
          "output_type": "stream",
          "name": "stderr",
          "text": [
            "\r0.23:  38%|███▊      | 31/81 [02:36<04:13,  5.06s/it]"
          ]
        },
        {
          "output_type": "stream",
          "name": "stdout",
          "text": [
            "\n",
            "\n",
            "input: wrppd n th shwl ws Mrl, hs rdrly.\n"
          ]
        },
        {
          "output_type": "stream",
          "name": "stderr",
          "text": [
            "\r0.23:  40%|███▉      | 32/81 [02:40<04:00,  4.91s/it]"
          ]
        },
        {
          "output_type": "stream",
          "name": "stdout",
          "text": [
            "guess: wrped in th shal was Mori, his rodery.\n",
            "truth: wrapped in the shawl was Morel, his orderly.\n",
            "\n"
          ]
        },
        {
          "output_type": "stream",
          "name": "stderr",
          "text": [
            "\r0.23:  40%|███▉      | 32/81 [02:40<04:00,  4.91s/it]"
          ]
        },
        {
          "output_type": "stream",
          "name": "stdout",
          "text": [
            "\n",
            "\n",
            "input: prprty, whn n prsn dvsd n thng nd nthr smthng ls.\n"
          ]
        },
        {
          "output_type": "stream",
          "name": "stderr",
          "text": [
            "\r0.23:  41%|████      | 33/81 [02:45<03:56,  4.94s/it]"
          ]
        },
        {
          "output_type": "stream",
          "name": "stdout",
          "text": [
            "guess: perity, when no perise devised in thing ned nother something lose.\n",
            "truth: property, when one person advised one thing and another something else.\n",
            "\n"
          ]
        },
        {
          "output_type": "stream",
          "name": "stderr",
          "text": [
            "\r0.20:  41%|████      | 33/81 [02:45<03:56,  4.94s/it]"
          ]
        },
        {
          "output_type": "stream",
          "name": "stdout",
          "text": [
            "\n",
            "\n",
            "input: \"'m nt lk tht myslf, bt  ndrstnd. S y'r nt ngry wth\n"
          ]
        },
        {
          "output_type": "stream",
          "name": "stderr",
          "text": [
            "\r0.20:  42%|████▏     | 34/81 [02:50<03:53,  4.96s/it]"
          ]
        },
        {
          "output_type": "stream",
          "name": "stdout",
          "text": [
            "guess: \"I' not lik that myf, but I uneristaned. So you're not anary with\n",
            "truth: \"I'm not like that myself, but I understand. So you're not angry with\n",
            "\n"
          ]
        },
        {
          "output_type": "stream",
          "name": "stderr",
          "text": [
            "\r0.27:  42%|████▏     | 34/81 [02:50<03:53,  4.96s/it]"
          ]
        },
        {
          "output_type": "stream",
          "name": "stdout",
          "text": [
            "\n",
            "\n",
            "input: Th ctns f mn r sbjct t gnrl mmtbl lws xprssd n\n"
          ]
        },
        {
          "output_type": "stream",
          "name": "stderr",
          "text": [
            "\r0.27:  43%|████▎     | 35/81 [02:55<03:47,  4.95s/it]"
          ]
        },
        {
          "output_type": "stream",
          "name": "stdout",
          "text": [
            "guess: The acunis of men our subet to general metable lawis exresed no\n",
            "truth: The actions of men are subject to general immutable laws expressed in\n",
            "\n"
          ]
        },
        {
          "output_type": "stream",
          "name": "stderr",
          "text": [
            "\r0.24:  43%|████▎     | 35/81 [02:55<03:47,  4.95s/it]"
          ]
        },
        {
          "output_type": "stream",
          "name": "stdout",
          "text": [
            "\n",
            "\n",
            "input: blgd th hstrns, ftr thy hd pprntly rjctd th dvn\n"
          ]
        },
        {
          "output_type": "stream",
          "name": "stderr",
          "text": [
            "\r0.24:  44%|████▍     | 36/81 [02:59<03:42,  4.95s/it]"
          ]
        },
        {
          "output_type": "stream",
          "name": "stdout",
          "text": [
            "guess: beliged th hisarines, futer they had aparently rejecated th divin\n",
            "truth: obliged the historians, after they had apparently rejected the divine\n",
            "\n"
          ]
        },
        {
          "output_type": "stream",
          "name": "stderr",
          "text": [
            "\r0.25:  44%|████▍     | 36/81 [03:00<03:42,  4.95s/it]"
          ]
        },
        {
          "output_type": "stream",
          "name": "stdout",
          "text": [
            "\n",
            "\n",
            "input: dmnstrtv r pblc bsnss whtvr frm th lwst t th\n"
          ]
        },
        {
          "output_type": "stream",
          "name": "stderr",
          "text": [
            "\r0.25:  46%|████▌     | 37/81 [03:04<03:37,  4.94s/it]"
          ]
        },
        {
          "output_type": "stream",
          "name": "stdout",
          "text": [
            "guess: adintrative our public busis whatever fre th les to th\n",
            "truth: administrative or public business whatever from the lowest to the\n",
            "\n"
          ]
        },
        {
          "output_type": "stream",
          "name": "stderr",
          "text": [
            "\r0.20:  46%|████▌     | 37/81 [03:05<03:37,  4.94s/it]"
          ]
        },
        {
          "output_type": "stream",
          "name": "stdout",
          "text": [
            "\n",
            "\n",
            "input: sd h, stndng bfr Prncss Mry nd trnng rd, bt nt tkng\n"
          ]
        },
        {
          "output_type": "stream",
          "name": "stderr",
          "text": [
            "\r0.20:  47%|████▋     | 38/81 [03:09<03:30,  4.89s/it]"
          ]
        },
        {
          "output_type": "stream",
          "name": "stdout",
          "text": [
            "guess: said he, stang befer Prines Mary aned turing rod, but not tang\n",
            "truth: said he, standing before Princess Mary and turning red, but not taking\n",
            "\n"
          ]
        },
        {
          "output_type": "stream",
          "name": "stderr",
          "text": [
            "\r0.19:  47%|████▋     | 38/81 [03:10<03:30,  4.89s/it]"
          ]
        },
        {
          "output_type": "stream",
          "name": "stdout",
          "text": [
            "\n",
            "\n",
            "input: nly yng Nchls nd hs ttr rmnd. Dsslls whsprd t th\n"
          ]
        },
        {
          "output_type": "stream",
          "name": "stderr",
          "text": [
            "\r0.19:  48%|████▊     | 39/81 [03:14<03:24,  4.86s/it]"
          ]
        },
        {
          "output_type": "stream",
          "name": "stdout",
          "text": [
            "guess: only young Nicholes aned his uter remad. Deseles wered to th\n",
            "truth: Only young Nicholas and his tutor remained. Dessalles whispered to the\n",
            "\n"
          ]
        },
        {
          "output_type": "stream",
          "name": "stderr",
          "text": [
            "\r0.22:  48%|████▊     | 39/81 [03:15<03:24,  4.86s/it]"
          ]
        },
        {
          "output_type": "stream",
          "name": "stdout",
          "text": [
            "\n",
            "\n",
            "input: nd s fr hstry, th nslbl mystry prsntd by th\n"
          ]
        },
        {
          "output_type": "stream",
          "name": "stderr",
          "text": [
            "\r0.22:  49%|████▉     | 40/81 [03:19<03:22,  4.94s/it]"
          ]
        },
        {
          "output_type": "stream",
          "name": "stdout",
          "text": [
            "guess: aned so fe hisa, th unolable mytery peranted by th\n",
            "truth: And so for history, the insoluble mystery presented by the\n",
            "\n"
          ]
        },
        {
          "output_type": "stream",
          "name": "stderr",
          "text": [
            "\r0.17:  49%|████▉     | 40/81 [03:20<03:22,  4.94s/it]"
          ]
        },
        {
          "output_type": "stream",
          "name": "stdout",
          "text": [
            "\n",
            "\n",
            "input: trgs r cmmttd gnst th lmst nrmd nhbtnts. nd th\n"
          ]
        },
        {
          "output_type": "stream",
          "name": "stderr",
          "text": [
            "\r0.17:  51%|█████     | 41/81 [03:24<03:19,  5.00s/it]"
          ]
        },
        {
          "output_type": "stream",
          "name": "stdout",
          "text": [
            "guess: terige or comited againt th alomes nerid inhabants. ned th\n",
            "truth: outrages are committed against the almost unarmed inhabitants. And the\n",
            "\n"
          ]
        },
        {
          "output_type": "stream",
          "name": "stderr",
          "text": [
            "\r0.26:  51%|█████     | 41/81 [03:25<03:19,  5.00s/it]"
          ]
        },
        {
          "output_type": "stream",
          "name": "stdout",
          "text": [
            "\n",
            "\n",
            "input: tht hld by jrsprdnc, t fllws tht jrsprdnc cn tll\n"
          ]
        },
        {
          "output_type": "stream",
          "name": "stderr",
          "text": [
            "\r0.26:  52%|█████▏    | 42/81 [03:29<03:07,  4.81s/it]"
          ]
        },
        {
          "output_type": "stream",
          "name": "stdout",
          "text": [
            "guess: that holed by jorisardence, to flows that jorisardence can tel\n",
            "truth: that held by jurisprudence, it follows that jurisprudence can tell\n",
            "\n"
          ]
        },
        {
          "output_type": "stream",
          "name": "stderr",
          "text": [
            "\r0.20:  52%|█████▏    | 42/81 [03:29<03:07,  4.81s/it]"
          ]
        },
        {
          "output_type": "stream",
          "name": "stdout",
          "text": [
            "\n",
            "\n",
            "input: ctn f vry hstrc chrctr hs thr mr gnrl prpss\n"
          ]
        },
        {
          "output_type": "stream",
          "name": "stderr",
          "text": [
            "\r0.20:  53%|█████▎    | 43/81 [03:33<03:02,  4.81s/it]"
          ]
        },
        {
          "output_type": "stream",
          "name": "stdout",
          "text": [
            "guess: acuten of very hisac charicer his ther mer general pers\n",
            "truth: action of every historic character has other more general purposes\n",
            "\n"
          ]
        },
        {
          "output_type": "stream",
          "name": "stderr",
          "text": [
            "\r0.20:  53%|█████▎    | 43/81 [03:34<03:02,  4.81s/it]"
          ]
        },
        {
          "output_type": "stream",
          "name": "stdout",
          "text": [
            "\n",
            "\n",
            "input: sm cndtns, fls tht wtht ths rrtnl cncptn (whch\n"
          ]
        },
        {
          "output_type": "stream",
          "name": "stderr",
          "text": [
            "\r0.20:  54%|█████▍    | 44/81 [03:38<02:58,  4.82s/it]"
          ]
        },
        {
          "output_type": "stream",
          "name": "stdout",
          "text": [
            "guess: same conitiones, fales that without thes iretene conction (w\n",
            "truth: same conditions, feels that without this irrational conception (which\n",
            "\n"
          ]
        },
        {
          "output_type": "stream",
          "name": "stderr",
          "text": [
            "\r0.19:  54%|█████▍    | 44/81 [03:39<02:58,  4.82s/it]"
          ]
        },
        {
          "output_type": "stream",
          "name": "stdout",
          "text": [
            "\n",
            "\n",
            "input: nd cthdrls. Th lngr th Frnch rmnd th mr ths frms f\n"
          ]
        },
        {
          "output_type": "stream",
          "name": "stderr",
          "text": [
            "\r0.19:  56%|█████▌    | 45/81 [03:43<02:54,  4.85s/it]"
          ]
        },
        {
          "output_type": "stream",
          "name": "stdout",
          "text": [
            "guess: aned cahdarales. The loner th Fren remad th mer thes fors of\n",
            "truth: and cathedrals. The longer the French remained the more these forms of\n",
            "\n"
          ]
        },
        {
          "output_type": "stream",
          "name": "stderr",
          "text": [
            "\r0.21:  56%|█████▌    | 45/81 [03:44<02:54,  4.85s/it]"
          ]
        },
        {
          "output_type": "stream",
          "name": "stdout",
          "text": [
            "\n",
            "\n",
            "input: tht h rgrdd hr wth ndffrnc nd rny, nd s hd shrnk nt\n"
          ]
        },
        {
          "output_type": "stream",
          "name": "stderr",
          "text": [
            "\r0.21:  57%|█████▋    | 46/81 [03:48<02:48,  4.83s/it]"
          ]
        },
        {
          "output_type": "stream",
          "name": "stdout",
          "text": [
            "guess: that he regaded her with nidference aned iroy, ned see had shrink not\n",
            "truth: that he regarded her with indifference and irony, and so had shrunk into\n",
            "\n"
          ]
        },
        {
          "output_type": "stream",
          "name": "stderr",
          "text": [
            "\r0.23:  57%|█████▋    | 46/81 [03:49<02:48,  4.83s/it]"
          ]
        },
        {
          "output_type": "stream",
          "name": "stdout",
          "text": [
            "\n",
            "\n",
            "input: grvty h hd prvsly lckd. Frmrly ll pcnry qstns,\n"
          ]
        },
        {
          "output_type": "stream",
          "name": "stderr",
          "text": [
            "\r0.23:  58%|█████▊    | 47/81 [03:53<02:44,  4.83s/it]"
          ]
        },
        {
          "output_type": "stream",
          "name": "stdout",
          "text": [
            "guess: gravity he had perisly laced. Formerly al pinary questiones,\n",
            "truth: gravity he had previously lacked. Formerly all pecuniary questions,\n",
            "\n"
          ]
        },
        {
          "output_type": "stream",
          "name": "stderr",
          "text": [
            "\r0.18:  58%|█████▊    | 47/81 [03:53<02:44,  4.83s/it]"
          ]
        },
        {
          "output_type": "stream",
          "name": "stdout",
          "text": [
            "\n",
            "\n",
            "input: whm vryn hd frgttn--gzd t Prr wth vn grtr nd mr\n"
          ]
        },
        {
          "output_type": "stream",
          "name": "stderr",
          "text": [
            "\r0.18:  59%|█████▉    | 48/81 [03:58<02:40,  4.85s/it]"
          ]
        },
        {
          "output_type": "stream",
          "name": "stdout",
          "text": [
            "guess: whem very had fegetation--gazed to Piere with ven greter aned mer\n",
            "truth: whom everyone had forgotten--gazed at Pierre with even greater and more\n",
            "\n"
          ]
        },
        {
          "output_type": "stream",
          "name": "stderr",
          "text": [
            "\r0.22:  59%|█████▉    | 48/81 [03:58<02:40,  4.85s/it]"
          ]
        },
        {
          "output_type": "stream",
          "name": "stdout",
          "text": [
            "\n",
            "\n",
            "input: bndnng th ttmpt. \" cn't prv t t y. Y sy tht\n"
          ]
        },
        {
          "output_type": "stream",
          "name": "stderr",
          "text": [
            "\r0.22:  60%|██████    | 49/81 [04:02<02:34,  4.84s/it]"
          ]
        },
        {
          "output_type": "stream",
          "name": "stdout",
          "text": [
            "guess: bandening th atemet. \"I can' priev it to you. You say that\n",
            "truth: abandoning the attempt. \"I can't prove it to you. You say that\n",
            "\n"
          ]
        },
        {
          "output_type": "stream",
          "name": "stderr",
          "text": [
            "\r0.22:  60%|██████    | 49/81 [04:03<02:34,  4.84s/it]"
          ]
        },
        {
          "output_type": "stream",
          "name": "stdout",
          "text": [
            "\n",
            "\n",
            "input: prprd by nnmrbl s-clld chncs n hs lf: hs dctn,\n"
          ]
        },
        {
          "output_type": "stream",
          "name": "stderr",
          "text": [
            "\r0.22:  62%|██████▏   | 50/81 [04:07<02:29,  4.81s/it]"
          ]
        },
        {
          "output_type": "stream",
          "name": "stdout",
          "text": [
            "guess: pered by ninerable so-clad chances in his life: his decation,\n",
            "truth: prepared by innumerable so-called chances in his life: his education,\n",
            "\n"
          ]
        },
        {
          "output_type": "stream",
          "name": "stderr",
          "text": [
            "\r0.23:  62%|██████▏   | 50/81 [04:08<02:29,  4.81s/it]"
          ]
        },
        {
          "output_type": "stream",
          "name": "stdout",
          "text": [
            "\n",
            "\n",
            "input: nthr. nd n fct hs hlth ws pr.\n"
          ]
        },
        {
          "output_type": "stream",
          "name": "stderr",
          "text": [
            "\r0.23:  63%|██████▎   | 51/81 [04:12<02:28,  4.94s/it]"
          ]
        },
        {
          "output_type": "stream",
          "name": "stdout",
          "text": [
            "guess: another. ned no fac his hel was pear.\n",
            "truth: another. And in fact his health was poor.\n",
            "\n"
          ]
        },
        {
          "output_type": "stream",
          "name": "stderr",
          "text": [
            "\r0.21:  63%|██████▎   | 51/81 [04:13<02:28,  4.94s/it]"
          ]
        },
        {
          "output_type": "stream",
          "name": "stdout",
          "text": [
            "\n",
            "\n",
            "input: h trd t cntn th cnvrstn h hd bgn wth Prncss Mry h\n"
          ]
        },
        {
          "output_type": "stream",
          "name": "stderr",
          "text": [
            "\r0.21:  64%|██████▍   | 52/81 [04:17<02:23,  4.96s/it]"
          ]
        },
        {
          "output_type": "stream",
          "name": "stdout",
          "text": [
            "guess: he tere to counten th conerastion he had begen with Prines Mary he\n",
            "truth: he tried to continue the conversation he had begun with Princess Mary he\n",
            "\n"
          ]
        },
        {
          "output_type": "stream",
          "name": "stderr",
          "text": [
            "\r0.20:  64%|██████▍   | 52/81 [04:18<02:23,  4.96s/it]"
          ]
        },
        {
          "output_type": "stream",
          "name": "stdout",
          "text": [
            "\n",
            "\n",
            "input: S t, lk Vltr n hs tm, nnvtd dfndrs f th lw f\n"
          ]
        },
        {
          "output_type": "stream",
          "name": "stderr",
          "text": [
            "\r0.20:  65%|██████▌   | 53/81 [04:23<02:19,  4.99s/it]"
          ]
        },
        {
          "output_type": "stream",
          "name": "stdout",
          "text": [
            "guess: So it, lik Vale in his tem, ninovated defenders of th low of\n",
            "truth: So too, like Voltaire in his time, uninvited defenders of the law of\n",
            "\n"
          ]
        },
        {
          "output_type": "stream",
          "name": "stderr",
          "text": [
            "\r0.21:  65%|██████▌   | 53/81 [04:23<02:19,  4.99s/it]"
          ]
        },
        {
          "output_type": "stream",
          "name": "stdout",
          "text": [
            "\n",
            "\n",
            "input: \"t s h, t s h, Nchls!\" sd Cntss Mry, r-ntrng th rm\n"
          ]
        },
        {
          "output_type": "stream",
          "name": "stderr",
          "text": [
            "\r0.21:  67%|██████▋   | 54/81 [04:28<02:15,  5.01s/it]"
          ]
        },
        {
          "output_type": "stream",
          "name": "stdout",
          "text": [
            "guess: \"It see he, it see he, Nicholas!\" said Countes Mary, re-entering th rom\n",
            "truth: \"It is he, it is he, Nicholas!\" said Countess Mary, re-entering the room\n",
            "\n"
          ]
        },
        {
          "output_type": "stream",
          "name": "stderr",
          "text": [
            "\r0.18:  67%|██████▋   | 54/81 [04:28<02:15,  5.01s/it]"
          ]
        },
        {
          "output_type": "stream",
          "name": "stdout",
          "text": [
            "\n",
            "\n",
            "input: cmprhnsn.\n"
          ]
        },
        {
          "output_type": "stream",
          "name": "stderr",
          "text": [
            "\r0.18:  68%|██████▊   | 55/81 [04:33<02:10,  5.03s/it]"
          ]
        },
        {
          "output_type": "stream",
          "name": "stdout",
          "text": [
            "guess: cperhenesion.\n",
            "truth: comprehension.\n",
            "\n"
          ]
        },
        {
          "output_type": "stream",
          "name": "stderr",
          "text": [
            "\r0.23:  68%|██████▊   | 55/81 [04:33<02:10,  5.03s/it]"
          ]
        },
        {
          "output_type": "stream",
          "name": "stdout",
          "text": [
            "\n",
            "\n",
            "input: f hmnty wnt n s ncsngly s th flw f tm. Vrs grps\n"
          ]
        },
        {
          "output_type": "stream",
          "name": "stderr",
          "text": [
            "\r0.23:  69%|██████▉   | 56/81 [04:38<02:04,  4.98s/it]"
          ]
        },
        {
          "output_type": "stream",
          "name": "stdout",
          "text": [
            "guess: of humanty went no so necesingly see th few of tem. Veras gros\n",
            "truth: of humanity went on as unceasingly as the flow of time. Various groups\n",
            "\n"
          ]
        },
        {
          "output_type": "stream",
          "name": "stderr",
          "text": [
            "\r0.25:  69%|██████▉   | 56/81 [04:38<02:04,  4.98s/it]"
          ]
        },
        {
          "output_type": "stream",
          "name": "stdout",
          "text": [
            "\n",
            "\n",
            "input: hst t stsfy ll thr xpcttns.\n"
          ]
        },
        {
          "output_type": "stream",
          "name": "stderr",
          "text": [
            "\r0.25:  70%|███████   | 57/81 [04:42<01:59,  4.96s/it]"
          ]
        },
        {
          "output_type": "stream",
          "name": "stdout",
          "text": [
            "guess: has to sasfy al ther expecatationes.\n",
            "truth: haste to satisfy all their expectations.\n",
            "\n"
          ]
        },
        {
          "output_type": "stream",
          "name": "stderr",
          "text": [
            "\r0.29:  70%|███████   | 57/81 [04:43<01:59,  4.96s/it]"
          ]
        },
        {
          "output_type": "stream",
          "name": "stdout",
          "text": [
            "\n",
            "\n",
            "input: sbjctn t th Dty nd n  prdtrmnd m twrd whch ntns\n"
          ]
        },
        {
          "output_type": "stream",
          "name": "stderr",
          "text": [
            "\r0.29:  72%|███████▏  | 58/81 [04:47<01:52,  4.89s/it]"
          ]
        },
        {
          "output_type": "stream",
          "name": "stdout",
          "text": [
            "guess: subaction to th Dauty ned in a peritermined me towared wih notenes\n",
            "truth: subjection to the Deity and in a predetermined aim toward which nations\n",
            "\n"
          ]
        },
        {
          "output_type": "stream",
          "name": "stderr",
          "text": [
            "\r0.20:  72%|███████▏  | 58/81 [04:48<01:52,  4.89s/it]"
          ]
        },
        {
          "output_type": "stream",
          "name": "stdout",
          "text": [
            "\n",
            "\n",
            "input: nxpctd nd chldlk plsr n ths prchs f prsnts fr\n"
          ]
        },
        {
          "output_type": "stream",
          "name": "stderr",
          "text": [
            "\r0.20:  73%|███████▎  | 59/81 [04:52<01:48,  4.94s/it]"
          ]
        },
        {
          "output_type": "stream",
          "name": "stdout",
          "text": [
            "guess: unepected aned chile peale in thes pearhes of perants fer\n",
            "truth: unexpected and childlike pleasure in this purchase of presents for\n",
            "\n"
          ]
        },
        {
          "output_type": "stream",
          "name": "stderr",
          "text": [
            "\r0.19:  73%|███████▎  | 59/81 [04:53<01:48,  4.94s/it]"
          ]
        },
        {
          "output_type": "stream",
          "name": "stdout",
          "text": [
            "\n",
            "\n",
            "input: wht h ws syng flttd thrgh hr mnd. Sh thght f hr nphw.\n"
          ]
        },
        {
          "output_type": "stream",
          "name": "stderr",
          "text": [
            "\r0.19:  74%|███████▍  | 60/81 [04:57<01:43,  4.94s/it]"
          ]
        },
        {
          "output_type": "stream",
          "name": "stdout",
          "text": [
            "guess: wa he was sang fited throuh her mined. She thoug of her nephew.\n",
            "truth: what he was saying flitted through her mind. She thought of her nephew.\n",
            "\n"
          ]
        },
        {
          "output_type": "stream",
          "name": "stderr",
          "text": [
            "\r0.19:  74%|███████▍  | 60/81 [04:58<01:43,  4.94s/it]"
          ]
        },
        {
          "output_type": "stream",
          "name": "stdout",
          "text": [
            "\n",
            "\n",
            "input: nd th frsts--nd nstd f gns, stpdty nd mmsrbl\n"
          ]
        },
        {
          "output_type": "stream",
          "name": "stderr",
          "text": [
            "\r0.19:  75%|███████▌  | 61/81 [05:02<01:39,  4.96s/it]"
          ]
        },
        {
          "output_type": "stream",
          "name": "stdout",
          "text": [
            "guess: aned th fes--aned nesed of guns, stepity aned memarable\n",
            "truth: and the frosts--and instead of genius, stupidity and immeasurable\n",
            "\n"
          ]
        },
        {
          "output_type": "stream",
          "name": "stderr",
          "text": [
            "\r0.18:  75%|███████▌  | 61/81 [05:03<01:39,  4.96s/it]"
          ]
        },
        {
          "output_type": "stream",
          "name": "stdout",
          "text": [
            "\n",
            "\n",
            "input: thy ppr.\n"
          ]
        },
        {
          "output_type": "stream",
          "name": "stderr",
          "text": [
            "\r0.18:  77%|███████▋  | 62/81 [05:07<01:33,  4.93s/it]"
          ]
        },
        {
          "output_type": "stream",
          "name": "stdout",
          "text": [
            "guess: they paper.\n",
            "truth: they appear.\n",
            "\n"
          ]
        },
        {
          "output_type": "stream",
          "name": "stderr",
          "text": [
            "\r0.19:  77%|███████▋  | 62/81 [05:08<01:33,  4.93s/it]"
          ]
        },
        {
          "output_type": "stream",
          "name": "stdout",
          "text": [
            "\n",
            "\n",
            "input: \"t's ll nnsns, ll rbbsh--ths dscssns whch ld t nthng\n"
          ]
        },
        {
          "output_type": "stream",
          "name": "stderr",
          "text": [
            "\r0.19:  78%|███████▊  | 63/81 [05:12<01:28,  4.94s/it]"
          ]
        },
        {
          "output_type": "stream",
          "name": "stdout",
          "text": [
            "guess: \"It' al nonesiones, al rubish--thies disions wih led it nothing\n",
            "truth: \"It's all nonsense, all rubbish--those discussions which lead to nothing\n",
            "\n"
          ]
        },
        {
          "output_type": "stream",
          "name": "stderr",
          "text": [
            "\r0.20:  78%|███████▊  | 63/81 [05:13<01:28,  4.94s/it]"
          ]
        },
        {
          "output_type": "stream",
          "name": "stdout",
          "text": [
            "\n",
            "\n",
            "input: lrgr thn vr.\n"
          ]
        },
        {
          "output_type": "stream",
          "name": "stderr",
          "text": [
            "\r0.20:  79%|███████▉  | 64/81 [05:17<01:23,  4.92s/it]"
          ]
        },
        {
          "output_type": "stream",
          "name": "stdout",
          "text": [
            "guess: lariger than vor.\n",
            "truth: larger than ever.\n",
            "\n"
          ]
        },
        {
          "output_type": "stream",
          "name": "stderr",
          "text": [
            "\r0.21:  79%|███████▉  | 64/81 [05:17<01:23,  4.92s/it]"
          ]
        },
        {
          "output_type": "stream",
          "name": "stdout",
          "text": [
            "\n",
            "\n",
            "input: chnc.  s  frc prdcng ffcts bynd th scp f rdnry\n"
          ]
        },
        {
          "output_type": "stream",
          "name": "stderr",
          "text": [
            "\r0.21:  80%|████████  | 65/81 [05:22<01:17,  4.86s/it]"
          ]
        },
        {
          "output_type": "stream",
          "name": "stdout",
          "text": [
            "guess: chance. I see a fec pruding fefecuts beyoned th sac of rodinary\n",
            "truth: chance. I see a force producing effects beyond the scope of ordinary\n",
            "\n"
          ]
        },
        {
          "output_type": "stream",
          "name": "stderr",
          "text": [
            "\r0.16:  80%|████████  | 65/81 [05:22<01:17,  4.86s/it]"
          ]
        },
        {
          "output_type": "stream",
          "name": "stdout",
          "text": [
            "\n",
            "\n",
            "input: prd, nr wld thr hv bn ny cntrdctns.\n"
          ]
        },
        {
          "output_type": "stream",
          "name": "stderr",
          "text": [
            "\r0.16:  81%|████████▏ | 66/81 [05:27<01:13,  4.93s/it]"
          ]
        },
        {
          "output_type": "stream",
          "name": "stdout",
          "text": [
            "guess: peare, nor woud ther have been nay contridtiones.\n",
            "truth: period, nor would there have been any contradictions.\n",
            "\n"
          ]
        },
        {
          "output_type": "stream",
          "name": "stderr",
          "text": [
            "\r0.22:  81%|████████▏ | 66/81 [05:27<01:13,  4.93s/it]"
          ]
        },
        {
          "output_type": "stream",
          "name": "stdout",
          "text": [
            "\n",
            "\n",
            "input: nvr rch bslt nvtblty.\n"
          ]
        },
        {
          "output_type": "stream",
          "name": "stderr",
          "text": [
            "\r0.22:  83%|████████▎ | 67/81 [05:32<01:09,  4.95s/it]"
          ]
        },
        {
          "output_type": "stream",
          "name": "stdout",
          "text": [
            "guess: never rich bsilet initability.\n",
            "truth: never reach absolute inevitability.\n",
            "\n"
          ]
        },
        {
          "output_type": "stream",
          "name": "stderr",
          "text": [
            "\r0.21:  83%|████████▎ | 67/81 [05:32<01:09,  4.95s/it]"
          ]
        },
        {
          "output_type": "stream",
          "name": "stdout",
          "text": [
            "\n",
            "\n",
            "input: Prnc ndrw--nd hs fthr hd nthr shp nr frm, bt h\n"
          ]
        },
        {
          "output_type": "stream",
          "name": "stderr",
          "text": [
            "\r0.21:  84%|████████▍ | 68/81 [05:37<01:05,  5.07s/it]"
          ]
        },
        {
          "output_type": "stream",
          "name": "stdout",
          "text": [
            "guess: Prin nder--aned his father hed nother sheep ner for, but he\n",
            "truth: Prince Andrew--and his father had neither shape nor form, but he\n",
            "\n"
          ]
        },
        {
          "output_type": "stream",
          "name": "stderr",
          "text": [
            "\r0.22:  84%|████████▍ | 68/81 [05:38<01:05,  5.07s/it]"
          ]
        },
        {
          "output_type": "stream",
          "name": "stdout",
          "text": [
            "\n",
            "\n",
            "input: rvltn.\n"
          ]
        },
        {
          "output_type": "stream",
          "name": "stderr",
          "text": [
            "\r0.22:  85%|████████▌ | 69/81 [05:42<01:00,  5.06s/it]"
          ]
        },
        {
          "output_type": "stream",
          "name": "stdout",
          "text": [
            "guess: revelation.\n",
            "truth: revelation.\n",
            "\n"
          ]
        },
        {
          "output_type": "stream",
          "name": "stderr",
          "text": [
            "\r0.23:  85%|████████▌ | 69/81 [05:43<01:00,  5.06s/it]"
          ]
        },
        {
          "output_type": "stream",
          "name": "stdout",
          "text": [
            "\n",
            "\n",
            "input:  pwr, nd thrfr bfr spkng bt Nplns, Ls-s, nd\n"
          ]
        },
        {
          "output_type": "stream",
          "name": "stderr",
          "text": [
            "\r0.23:  86%|████████▋ | 70/81 [05:47<00:55,  5.03s/it]"
          ]
        },
        {
          "output_type": "stream",
          "name": "stdout",
          "text": [
            "guess: a por, aned there befer seping but Napolenes, Lis-so, aned\n",
            "truth: a power, and therefore before speaking about Napoleons, Louis-es, and\n",
            "\n"
          ]
        },
        {
          "output_type": "stream",
          "name": "stderr",
          "text": [
            "\r0.19:  86%|████████▋ | 70/81 [05:48<00:55,  5.03s/it]"
          ]
        },
        {
          "output_type": "stream",
          "name": "stdout",
          "text": [
            "\n",
            "\n",
            "input: tht. Ppr mny my dcv th gnrnt, bt nbdy s dcvd by\n"
          ]
        },
        {
          "output_type": "stream",
          "name": "stderr",
          "text": [
            "\r0.19:  88%|████████▊ | 71/81 [05:52<00:50,  5.07s/it]"
          ]
        },
        {
          "output_type": "stream",
          "name": "stdout",
          "text": [
            "guess: that. Paper mane my deceive th ganet, but nobod so decied by\n",
            "truth: that. Paper money may deceive the ignorant, but nobody is deceived by\n",
            "\n"
          ]
        },
        {
          "output_type": "stream",
          "name": "stderr",
          "text": [
            "\r0.19:  88%|████████▊ | 71/81 [05:53<00:50,  5.07s/it]"
          ]
        },
        {
          "output_type": "stream",
          "name": "stdout",
          "text": [
            "\n",
            "\n",
            "input: ctvty f mn nd thr hstrcl mvmnts, jst s sch \n"
          ]
        },
        {
          "output_type": "stream",
          "name": "stderr",
          "text": [
            "\r0.19:  89%|████████▉ | 72/81 [05:57<00:45,  5.11s/it]"
          ]
        },
        {
          "output_type": "stream",
          "name": "stdout",
          "text": [
            "guess: acuivity of men ned ther hisical memements, just see suh a\n",
            "truth: activity of men and their historical movements, just as such a\n",
            "\n"
          ]
        },
        {
          "output_type": "stream",
          "name": "stderr",
          "text": [
            "\r0.19:  89%|████████▉ | 72/81 [05:58<00:45,  5.11s/it]"
          ]
        },
        {
          "output_type": "stream",
          "name": "stdout",
          "text": [
            "\n",
            "\n",
            "input: \"Ys,  hv ntcd tht,\" sd Cntss Mry.\n"
          ]
        },
        {
          "output_type": "stream",
          "name": "stderr",
          "text": [
            "\r0.19:  90%|█████████ | 73/81 [06:02<00:40,  5.07s/it]"
          ]
        },
        {
          "output_type": "stream",
          "name": "stdout",
          "text": [
            "guess: \"Yes, I have noticed that,\" said Countes Mary.\n",
            "truth: \"Yes, I have noticed that,\" said Countess Mary.\n",
            "\n"
          ]
        },
        {
          "output_type": "stream",
          "name": "stderr",
          "text": [
            "\r0.22:  90%|█████████ | 73/81 [06:03<00:40,  5.07s/it]"
          ]
        },
        {
          "output_type": "stream",
          "name": "stdout",
          "text": [
            "\n",
            "\n",
            "input: bjct tht ly n th slvr. t ws th rdr f St. Grg f th\n"
          ]
        },
        {
          "output_type": "stream",
          "name": "stderr",
          "text": [
            "\r0.22:  91%|█████████▏| 74/81 [06:07<00:35,  5.07s/it]"
          ]
        },
        {
          "output_type": "stream",
          "name": "stdout",
          "text": [
            "guess: obact that lay in th siler. it was th reder of St. Gere of th\n",
            "truth: object that lay on the salver. It was the Order of St. George of the\n",
            "\n"
          ]
        },
        {
          "output_type": "stream",
          "name": "stderr",
          "text": [
            "\r0.17:  91%|█████████▏| 74/81 [06:08<00:35,  5.07s/it]"
          ]
        },
        {
          "output_type": "stream",
          "name": "stdout",
          "text": [
            "\n",
            "\n",
            "input: wth th xtrnl wrld n tm nd n dpndnc n cs, tht s, t\n"
          ]
        },
        {
          "output_type": "stream",
          "name": "stderr",
          "text": [
            "\r0.17:  93%|█████████▎| 75/81 [06:12<00:30,  5.01s/it]"
          ]
        },
        {
          "output_type": "stream",
          "name": "stdout",
          "text": [
            "guess: with th exterinal word no tem ned no depenedence no case, that see, to\n",
            "truth: with the external world in time and in dependence on cause, that is, it\n",
            "\n"
          ]
        },
        {
          "output_type": "stream",
          "name": "stderr",
          "text": [
            "\r0.19:  93%|█████████▎| 75/81 [06:13<00:30,  5.01s/it]"
          ]
        },
        {
          "output_type": "stream",
          "name": "stdout",
          "text": [
            "\n",
            "\n",
            "input: drng tht mvmnt.\n"
          ]
        },
        {
          "output_type": "stream",
          "name": "stderr",
          "text": [
            "\r0.19:  94%|█████████▍| 76/81 [06:17<00:25,  5.04s/it]"
          ]
        },
        {
          "output_type": "stream",
          "name": "stdout",
          "text": [
            "guess: deang that memement.\n",
            "truth: during that movement.\n",
            "\n"
          ]
        },
        {
          "output_type": "stream",
          "name": "stderr",
          "text": [
            "\r0.26:  94%|█████████▍| 76/81 [06:18<00:25,  5.04s/it]"
          ]
        },
        {
          "output_type": "stream",
          "name": "stdout",
          "text": [
            "\n",
            "\n",
            "input: Prncss Mry wth  gly mckng sml: \"H lks jst, ys, jst s\n"
          ]
        },
        {
          "output_type": "stream",
          "name": "stderr",
          "text": [
            "\r0.26:  95%|█████████▌| 77/81 [06:22<00:19,  4.95s/it]"
          ]
        },
        {
          "output_type": "stream",
          "name": "stdout",
          "text": [
            "guess: Prines Mary with a galy making sme: \"He lose just, yes, just se\n",
            "truth: Princess Mary with a gaily mocking smile: \"He looks just, yes, just as\n",
            "\n"
          ]
        },
        {
          "output_type": "stream",
          "name": "stderr",
          "text": [
            "\r0.21:  95%|█████████▌| 77/81 [06:23<00:19,  4.95s/it]"
          ]
        },
        {
          "output_type": "stream",
          "name": "stdout",
          "text": [
            "\n",
            "\n",
            "input: fr s.\n"
          ]
        },
        {
          "output_type": "stream",
          "name": "stderr",
          "text": [
            "\r0.21:  96%|█████████▋| 78/81 [06:27<00:14,  4.93s/it]"
          ]
        },
        {
          "output_type": "stream",
          "name": "stdout",
          "text": [
            "guess: fer so.\n",
            "truth: for us.\n",
            "\n"
          ]
        },
        {
          "output_type": "stream",
          "name": "stderr",
          "text": [
            "\r0.22:  96%|█████████▋| 78/81 [06:28<00:14,  4.93s/it]"
          ]
        },
        {
          "output_type": "stream",
          "name": "stdout",
          "text": [
            "\n",
            "\n",
            "input: n prctc.\n"
          ]
        },
        {
          "output_type": "stream",
          "name": "stderr",
          "text": [
            "\r0.22:  98%|█████████▊| 79/81 [06:32<00:09,  4.87s/it]"
          ]
        },
        {
          "output_type": "stream",
          "name": "stdout",
          "text": [
            "guess: in peritic.\n",
            "truth: in practice.\n",
            "\n"
          ]
        },
        {
          "output_type": "stream",
          "name": "stderr",
          "text": [
            "\r0.23:  98%|█████████▊| 79/81 [06:32<00:09,  4.87s/it]"
          ]
        },
        {
          "output_type": "stream",
          "name": "stdout",
          "text": [
            "\n",
            "\n",
            "input: tht sm yr nd, s lwys hppns, ftr th fthr's dth th\n"
          ]
        },
        {
          "output_type": "stream",
          "name": "stderr",
          "text": [
            "\r0.23:  99%|█████████▉| 80/81 [06:37<00:04,  4.96s/it]"
          ]
        },
        {
          "output_type": "stream",
          "name": "stdout",
          "text": [
            "guess: that som yer ned, so alays hapenes, futer th father's death th\n",
            "truth: that same year and, as always happens, after the father's death the\n",
            "\n"
          ]
        },
        {
          "output_type": "stream",
          "name": "stderr",
          "text": [
            "\r0.22:  99%|█████████▉| 80/81 [06:37<00:04,  4.96s/it]"
          ]
        },
        {
          "output_type": "stream",
          "name": "stdout",
          "text": [
            "\n",
            "\n",
            "input: mvmnt f th bds, h xprssd th prprty cmmn t ll bds\n"
          ]
        },
        {
          "output_type": "stream",
          "name": "stderr",
          "text": [
            "0.22: 100%|██████████| 81/81 [06:38<00:00,  4.92s/it]"
          ]
        },
        {
          "output_type": "stream",
          "name": "stdout",
          "text": [
            "guess: memement of th bod, he exresed th perity coman to al bed\n",
            "truth: movement of the bodies, he expressed the property common to all bodies\n",
            "\n",
            "Epoch 0: train loss = 0.553991, test loss = 0.213632\n"
          ]
        },
        {
          "output_type": "stream",
          "name": "stderr",
          "text": [
            "\n"
          ]
        }
      ]
    },
    {
      "cell_type": "code",
      "metadata": {
        "id": "qRahAWPoubyu",
        "colab": {
          "base_uri": "https://localhost:8080/"
        },
        "outputId": "82d70782-c4b0-4f51-ec42-637a1d1c3baf"
      },
      "source": [
        "print(train_losses)\n",
        "print(test_losses)"
      ],
      "execution_count": null,
      "outputs": [
        {
          "output_type": "stream",
          "name": "stdout",
          "text": [
            "[0.5539913411276954]\n",
            "[0.21363249500097006]\n"
          ]
        }
      ]
    },
    {
      "cell_type": "markdown",
      "metadata": {
        "id": "rLQKw4kmFj3S"
      },
      "source": [
        "Let's test the model on a new sentence:"
      ]
    },
    {
      "cell_type": "code",
      "metadata": {
        "colab": {
          "base_uri": "https://localhost:8080/"
        },
        "id": "zhH5lYdyEazJ",
        "outputId": "3752532e-d4db-475b-e2f1-03e886abd141"
      },
      "source": [
        "test_output = \"Most people have little difficulty reading this sentence\"\n",
        "test_input = \"\".join(c for c in test_output if c not in \"AEIOUaeiou\")\n",
        "print(\"input: \" + test_input)\n",
        "x = torch.tensor(encode_string(test_input)).unsqueeze(0).to(model.device)\n",
        "y = torch.tensor(encode_string(test_output)).unsqueeze(0).to(model.device)\n",
        "T = torch.tensor([x.shape[1]]).to(model.device)\n",
        "U = torch.tensor([y.shape[1]]).to(model.device)\n",
        "guess = model.greedy_search(x,T)[0]\n",
        "print(\"truth: \" + test_output)\n",
        "print(\"guess: \" + decode_labels(guess))\n",
        "print(\"\")\n",
        "y_guess = torch.tensor(guess).unsqueeze(0).to(model.device)\n",
        "U_guess = torch.tensor(len(guess)).unsqueeze(0).to(model.device)\n",
        "\n",
        "print(\"NLL of truth: \" + str(model.compute_loss(x, y, T, U)))\n",
        "print(\"NLL of guess: \" + str(model.compute_loss(x, y_guess, T, U_guess)))"
      ],
      "execution_count": null,
      "outputs": [
        {
          "output_type": "stream",
          "name": "stdout",
          "text": [
            "input: Mst ppl hv lttl dffclty rdng ths sntnc\n",
            "truth: Most people have little difficulty reading this sentence\n",
            "guess: Mos pepe have litle dificulty riding thes sentenc\n",
            "\n",
            "NLL of truth: tensor(0.1012, device='cuda:0', grad_fn=<TransducerBackward>)\n",
            "NLL of guess: tensor(1.7544, device='cuda:0', grad_fn=<TransducerBackward>)\n"
          ]
        }
      ]
    },
    {
      "cell_type": "markdown",
      "metadata": {
        "id": "ET__-ItZD8eA"
      },
      "source": [
        "Observe that the negative log-likelihood of the guess is actually worse than that of the true label sequence (AKA, a \"[search error](https://www.aclweb.org/anthology/D19-1331.pdf)\"). This suggests that we could get better results using a beam search instead of the greedy search."
      ]
    }
  ]
}
