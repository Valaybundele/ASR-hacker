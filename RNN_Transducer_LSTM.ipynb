{
  "nbformat": 4,
  "nbformat_minor": 0,
  "metadata": {
    "accelerator": "GPU",
    "colab": {
      "name": "RNN-Transducer-LSTM.ipynb",
      "provenance": [],
      "collapsed_sections": []
    },
    "kernelspec": {
      "display_name": "Python 3",
      "name": "python3"
    }
  },
  "cells": [
    {
      "cell_type": "markdown",
      "metadata": {
        "id": "BbwgR5UdNkkm"
      },
      "source": [
        "# Transducer implementation in PyTorch\n",
        "\n",
        "*by Loren Lugosch*\n"
      ]
    },
    {
      "cell_type": "markdown",
      "metadata": {
        "id": "yBlJNKsjTtaZ"
      },
      "source": [
        "\n",
        "In this notebook, we will implement a Transducer sequence-to-sequence model for inserting missing vowels into a sentence (\"Hll, Wrld\" --> \"Hello, World\")."
      ]
    },
    {
      "cell_type": "code",
      "metadata": {
        "id": "Q-iHU02C7fAj",
        "colab": {
          "base_uri": "https://localhost:8080/"
        },
        "outputId": "dec344f2-606f-40ab-f5a4-89838849d2a8"
      },
      "source": [
        "import torch\n",
        "import string\n",
        "import numpy as np\n",
        "import itertools\n",
        "from collections import Counter\n",
        "from tqdm import tqdm\n",
        "!pip install unidecode\n",
        "import unidecode\n",
        "\n",
        "# Some training data.\n",
        "# Poor Tolstoy, once again reduced to grist for the neural network mill!\n",
        "!wget https://raw.githubusercontent.com/lorenlugosch/infer_missing_vowels/master/data/train/war_and_peace.txt\n",
        "!pwd\n"
      ],
      "execution_count": 1,
      "outputs": [
        {
          "output_type": "stream",
          "name": "stdout",
          "text": [
            "Collecting unidecode\n",
            "  Downloading Unidecode-1.3.4-py3-none-any.whl (235 kB)\n",
            "\u001b[K     |████████████████████████████████| 235 kB 1.2 MB/s \n",
            "\u001b[?25hInstalling collected packages: unidecode\n",
            "Successfully installed unidecode-1.3.4\n",
            "--2022-05-06 22:44:56--  https://raw.githubusercontent.com/lorenlugosch/infer_missing_vowels/master/data/train/war_and_peace.txt\n",
            "Resolving raw.githubusercontent.com (raw.githubusercontent.com)... 185.199.109.133, 185.199.111.133, 185.199.108.133, ...\n",
            "Connecting to raw.githubusercontent.com (raw.githubusercontent.com)|185.199.109.133|:443... connected.\n",
            "HTTP request sent, awaiting response... 200 OK\n",
            "Length: 3196229 (3.0M) [text/plain]\n",
            "Saving to: ‘war_and_peace.txt’\n",
            "\n",
            "war_and_peace.txt   100%[===================>]   3.05M  --.-KB/s    in 0.08s   \n",
            "\n",
            "2022-05-06 22:44:56 (38.7 MB/s) - ‘war_and_peace.txt’ saved [3196229/3196229]\n",
            "\n",
            "/content\n"
          ]
        }
      ]
    },
    {
      "cell_type": "markdown",
      "metadata": {
        "id": "CTfRgwxmjv1B"
      },
      "source": [
        "# Building blocks\n",
        "\n",
        "First, we will define the encoder, predictor, and joiner using standard neural nets.\n",
        "\n",
        "<img src=\"https://lorenlugosch.github.io/images/transducer/transducer-model.png\" width=\"25%\">"
      ]
    },
    {
      "cell_type": "code",
      "metadata": {
        "id": "B7mLFyUG7kJH"
      },
      "source": [
        "NULL_INDEX = 0\n",
        "\n",
        "encoder_dim = 1024\n",
        "predictor_dim = 1024\n",
        "joiner_dim = 1024"
      ],
      "execution_count": 2,
      "outputs": []
    },
    {
      "cell_type": "markdown",
      "metadata": {
        "id": "MABMTjrGY4vz"
      },
      "source": [
        "The encoder is any network that can take as input a variable-length sequence: so, RNNs, CNNs, and self-attention/Transformer encoders will all work.\n"
      ]
    },
    {
      "cell_type": "code",
      "metadata": {
        "id": "KE7j2T5EY33-"
      },
      "source": [
        "class Encoder(torch.nn.Module):\n",
        "  def __init__(self, num_inputs):\n",
        "    super(Encoder, self).__init__()\n",
        "    self.embed = torch.nn.Embedding(num_inputs, encoder_dim)\n",
        "    self.lstm = torch.nn.LSTM(input_size=encoder_dim, hidden_size=encoder_dim, num_layers=3, batch_first=True, bidirectional=True, dropout=0.1)\n",
        "    self.linear = torch.nn.Linear(encoder_dim*2, joiner_dim)\n",
        "\n",
        "  def forward(self, x):\n",
        "    out = x\n",
        "    out = self.embed(out)\n",
        "    out = self.lstm(out)[0]\n",
        "    out = self.linear(out)\n",
        "    return out"
      ],
      "execution_count": 5,
      "outputs": []
    },
    {
      "cell_type": "markdown",
      "metadata": {
        "id": "BRknN6QRY9-g"
      },
      "source": [
        "The predictor is any _causal_ network (= can't look at the future): in other words, unidirectional RNNs, causal convolutions, or masked self-attention. "
      ]
    },
    {
      "cell_type": "code",
      "metadata": {
        "id": "hPARF5LmY7-r"
      },
      "source": [
        "class Predictor(torch.nn.Module):\n",
        "  def __init__(self, num_outputs):\n",
        "    super(Predictor, self).__init__()\n",
        "    self.embed = torch.nn.Embedding(num_outputs, predictor_dim)\n",
        "    self.rnn = torch.nn.GRUCell(input_size=predictor_dim, hidden_size=predictor_dim)\n",
        "    self.linear = torch.nn.Linear(predictor_dim, joiner_dim)\n",
        "    \n",
        "    self.initial_state = torch.nn.Parameter(torch.randn(predictor_dim))\n",
        "    self.start_symbol = NULL_INDEX # In the original paper, a vector of 0s is used; just using the null index instead is easier when using an Embedding layer.\n",
        "\n",
        "  def forward_one_step(self, input, previous_state):\n",
        "    embedding = self.embed(input)\n",
        "    state = self.rnn.forward(embedding, previous_state)\n",
        "    out = self.linear(state)\n",
        "    return out, state\n",
        "\n",
        "  def forward(self, y):\n",
        "    batch_size = y.shape[0]\n",
        "    U = y.shape[1]\n",
        "    outs = []\n",
        "    state = torch.stack([self.initial_state] * batch_size).to(y.device)\n",
        "    for u in range(U+1): # need U+1 to get null output for final timestep \n",
        "      if u == 0:\n",
        "        decoder_input = torch.tensor([self.start_symbol] * batch_size).to(y.device)\n",
        "      else:\n",
        "        decoder_input = y[:,u-1]\n",
        "      out, state = self.forward_one_step(decoder_input, state)\n",
        "      outs.append(out)\n",
        "    out = torch.stack(outs, dim=1)\n",
        "    return out"
      ],
      "execution_count": 35,
      "outputs": []
    },
    {
      "cell_type": "markdown",
      "metadata": {
        "id": "ZHPZ3PATZEAW"
      },
      "source": [
        "The joiner is a feedforward network/MLP with one hidden layer applied independently to each $(t,u)$ index.\n",
        "\n",
        "(The linear part of the hidden layer is contained in the encoder and predictor, so we just do the nonlinearity here and then the output layer.)"
      ]
    },
    {
      "cell_type": "code",
      "metadata": {
        "id": "Vlzca1orZDLa"
      },
      "source": [
        "class Joiner(torch.nn.Module):\n",
        "  def __init__(self, num_outputs):\n",
        "    super(Joiner, self).__init__()\n",
        "    self.linear1 = torch.nn.Linear(joiner_dim, num_outputs*2)\n",
        "    self.linear2 = torch.nn.Linear(num_outputs*2, num_outputs)\n",
        "\n",
        "  def forward(self, encoder_out, predictor_out):\n",
        "    out = encoder_out + predictor_out\n",
        "    out = torch.nn.functional.relu(out)\n",
        "    out = self.linear1(out)\n",
        "    out = self.linear2(out)\n",
        "    return out"
      ],
      "execution_count": 36,
      "outputs": []
    },
    {
      "cell_type": "markdown",
      "metadata": {
        "id": "a_-INbhSTApv"
      },
      "source": [
        "# Transducer model + loss function\n",
        "\n",
        "Using the encoder, predictor, and joiner, we will implement the Transducer model and its loss function.\n",
        "\n",
        "<img src=\"https://lorenlugosch.github.io/images/transducer/forward-messages.png\" width=\"25%\">"
      ]
    },
    {
      "cell_type": "markdown",
      "metadata": {
        "id": "bdcKwA_lkzxJ"
      },
      "source": [
        "We can use a simple PyTorch implementation of the loss function, relying on automatic differentiation to give us gradients."
      ]
    },
    {
      "cell_type": "code",
      "metadata": {
        "id": "sYSagKi-gHM4"
      },
      "source": [
        "class Transducer(torch.nn.Module):\n",
        "  def __init__(self, num_inputs, num_outputs):\n",
        "    super(Transducer, self).__init__()\n",
        "    self.encoder = Encoder(num_inputs)\n",
        "    self.predictor = Predictor(num_outputs)\n",
        "    self.joiner = Joiner(num_outputs)\n",
        "\n",
        "    if torch.cuda.is_available(): self.device = \"cuda:0\"\n",
        "    else: self.device = \"cpu\"\n",
        "    self.to(self.device)\n",
        "\n",
        "  def compute_forward_prob(self, joiner_out, T, U, y):\n",
        "    \"\"\"\n",
        "    joiner_out: tensor of shape (B, T_max, U_max+1, #labels)\n",
        "    T: list of input lengths\n",
        "    U: list of output lengths \n",
        "    y: label tensor (B, U_max+1)\n",
        "    \"\"\"\n",
        "    B = joiner_out.shape[0]\n",
        "    T_max = joiner_out.shape[1]\n",
        "    U_max = joiner_out.shape[2] - 1\n",
        "    log_alpha = torch.zeros(B, T_max, U_max+1).to(model.device)\n",
        "    for t in range(T_max):\n",
        "      for u in range(U_max+1):\n",
        "          if u == 0:\n",
        "            if t == 0:\n",
        "              log_alpha[:, t, u] = 0.\n",
        "\n",
        "            else: #t > 0\n",
        "              log_alpha[:, t, u] = log_alpha[:, t-1, u] + joiner_out[:, t-1, 0, NULL_INDEX] \n",
        "                  \n",
        "          else: #u > 0\n",
        "            if t == 0:\n",
        "              log_alpha[:, t, u] = log_alpha[:, t,u-1] + torch.gather(joiner_out[:, t, u-1], dim=1, index=y[:,u-1].view(-1,1) ).reshape(-1)\n",
        "            \n",
        "            else: #t > 0\n",
        "              log_alpha[:, t, u] = torch.logsumexp(torch.stack([\n",
        "                  log_alpha[:, t-1, u] + joiner_out[:, t-1, u, NULL_INDEX],\n",
        "                  log_alpha[:, t, u-1] + torch.gather(joiner_out[:, t, u-1], dim=1, index=y[:,u-1].view(-1,1) ).reshape(-1)\n",
        "              ]), dim=0)\n",
        "    \n",
        "    log_probs = []\n",
        "    for b in range(B):\n",
        "      log_prob = log_alpha[b, T[b]-1, U[b]] + joiner_out[b, T[b]-1, U[b], NULL_INDEX]\n",
        "      log_probs.append(log_prob)\n",
        "    log_probs = torch.stack(log_probs) \n",
        "    return log_prob\n",
        "\n",
        "  def compute_loss(self, x, y, T, U):\n",
        "    encoder_out = self.encoder.forward(x)\n",
        "    predictor_out = self.predictor.forward(y)\n",
        "    joiner_out = self.joiner.forward(encoder_out.unsqueeze(2), predictor_out.unsqueeze(1)).log_softmax(3)\n",
        "    loss = -self.compute_forward_prob(joiner_out, T, U, y).mean()\n",
        "    return loss"
      ],
      "execution_count": 37,
      "outputs": []
    },
    {
      "cell_type": "markdown",
      "metadata": {
        "id": "IK0c2S2xaARd"
      },
      "source": [
        "Let's first verify that the forward algorithm actually correctly computes the sum (in log space, the [logsumexp](https://lorenlugosch.github.io/posts/2020/06/logsumexp/)) of all possible alignments, using a short input/output pair for which computing all possible alignments is feasible.\n",
        "\n",
        "<img src=\"https://lorenlugosch.github.io/images/transducer/cat-align-1.png\" width=\"25%\">"
      ]
    },
    {
      "cell_type": "code",
      "metadata": {
        "id": "RWtkoXH6U8Pm"
      },
      "source": [
        "def compute_single_alignment_prob(self, encoder_out, predictor_out, T, U, z, y):\n",
        "    \"\"\"\n",
        "    Computes the probability of one alignment, z.\n",
        "    \"\"\"\n",
        "    t = 0; u = 0\n",
        "    t_u_indices = []\n",
        "    y_expanded = []\n",
        "    for step in z:\n",
        "      t_u_indices.append((t,u))\n",
        "      if step == 0: # right (null)\n",
        "        y_expanded.append(NULL_INDEX)\n",
        "        t += 1\n",
        "      if step == 1: # down (label)\n",
        "        y_expanded.append(y[u])\n",
        "        u += 1\n",
        "    t_u_indices.append((T-1,U))\n",
        "    y_expanded.append(NULL_INDEX)\n",
        "\n",
        "    t_indices = [t for (t,u) in t_u_indices]\n",
        "    u_indices = [u for (t,u) in t_u_indices]\n",
        "    encoder_out_expanded = encoder_out[t_indices]\n",
        "    predictor_out_expanded = predictor_out[u_indices]\n",
        "    joiner_out = self.joiner.forward(encoder_out_expanded, predictor_out_expanded).log_softmax(1)\n",
        "    logprob = -torch.nn.functional.nll_loss(input=joiner_out, target=torch.tensor(y_expanded).long().to(self.device), reduction=\"sum\")\n",
        "    return logprob\n",
        "\n",
        "Transducer.compute_single_alignment_prob = compute_single_alignment_prob"
      ],
      "execution_count": 38,
      "outputs": []
    },
    {
      "cell_type": "code",
      "metadata": {
        "id": "e8xzM0dZfea9",
        "colab": {
          "base_uri": "https://localhost:8080/"
        },
        "outputId": "70308fc7-ca70-447d-8c5c-c7a1cc6fd96c"
      },
      "source": [
        "# Generate example inputs/outputs\n",
        "num_outputs = len(string.ascii_uppercase) + 1 # [null, A, B, ... Z]\n",
        "model = Transducer(1, num_outputs)\n",
        "y_letters = \"CAT\"\n",
        "y = torch.tensor([string.ascii_uppercase.index(l) + 1 for l in y_letters]).unsqueeze(0).to(model.device)\n",
        "T = torch.tensor([4]); U = torch.tensor([len(y_letters)]); B = 1\n",
        "\n",
        "encoder_out = torch.randn(B, T, joiner_dim).to(model.device)\n",
        "predictor_out = torch.randn(B, U+1, joiner_dim).to(model.device)\n",
        "joiner_out = model.joiner.forward(encoder_out.unsqueeze(2), predictor_out.unsqueeze(1)).log_softmax(3)\n",
        "\n",
        "#######################################################\n",
        "# Compute loss by enumerating all possible alignments #\n",
        "#######################################################\n",
        "all_permutations = list(itertools.permutations([0]*(T-1) + [1]*U))\n",
        "all_distinct_permutations = list(Counter(all_permutations).keys())\n",
        "alignment_probs = []\n",
        "for z in all_distinct_permutations:\n",
        "  alignment_prob = model.compute_single_alignment_prob(encoder_out[0], predictor_out[0], T.item(), U.item(), z, y[0])\n",
        "  alignment_probs.append(alignment_prob)\n",
        "loss_enumerate = -torch.tensor(alignment_probs).logsumexp(0)\n",
        "\n",
        "#######################################################\n",
        "# Compute loss using the forward algorithm            #\n",
        "#######################################################\n",
        "loss_forward = -model.compute_forward_prob(joiner_out, T, U, y)\n",
        "\n",
        "print(\"Loss computed by enumerating all possible alignments: \", loss_enumerate)\n",
        "print(\"Loss computed using the forward algorithm: \", loss_forward)"
      ],
      "execution_count": 39,
      "outputs": [
        {
          "output_type": "stream",
          "name": "stdout",
          "text": [
            "Loss computed by enumerating all possible alignments:  tensor(18.6641)\n",
            "Loss computed using the forward algorithm:  tensor(18.6641, device='cuda:0', grad_fn=<NegBackward0>)\n"
          ]
        }
      ]
    },
    {
      "cell_type": "markdown",
      "metadata": {
        "id": "WSBAwQONf3z9"
      },
      "source": [
        "Now let's add the greedy search algorithm for predicting an output sequence.\n",
        "\n",
        "(Note that I've assumed we're using RNNs for the predictor here. You would have to modify this code a bit if you want to use convolutions/self-attention instead.) \n",
        "<br/><br/>\n",
        "<img src=\"https://lorenlugosch.github.io/images/transducer/greedy-search.png\" width=\"50%\">"
      ]
    },
    {
      "cell_type": "code",
      "metadata": {
        "id": "V0xeyb7Jf18_"
      },
      "source": [
        "def greedy_search(self, x, T):\n",
        "  y_batch = []\n",
        "  B = len(x)\n",
        "  encoder_out = self.encoder.forward(x)\n",
        "  U_max = 200\n",
        "  for b in range(B):\n",
        "    t = 0; u = 0; y = [self.predictor.start_symbol]; predictor_state = self.predictor.initial_state.unsqueeze(0)\n",
        "    while t < T[b] and u < U_max:\n",
        "      predictor_input = torch.tensor([ y[-1] ]).to(x.device)\n",
        "      g_u, predictor_state = self.predictor.forward_one_step(predictor_input, predictor_state)\n",
        "      f_t = encoder_out[b, t]\n",
        "      h_t_u = self.joiner.forward(f_t, g_u)\n",
        "      argmax = h_t_u.max(-1)[1].item()\n",
        "      if argmax == NULL_INDEX:\n",
        "        t += 1\n",
        "      else: # argmax == a label\n",
        "        u += 1\n",
        "        y.append(argmax)\n",
        "    y_batch.append(y[1:]) # remove start symbol\n",
        "  return y_batch\n",
        "\n",
        "Transducer.greedy_search = greedy_search"
      ],
      "execution_count": 40,
      "outputs": []
    },
    {
      "cell_type": "markdown",
      "metadata": {
        "id": "82XU9-gr3goI"
      },
      "source": [
        "The code above will work, but training will be very slow because the Transducer loss is written in pure Python. You can use the fast implementation from SpeechBrain instead by running the block below."
      ]
    },
    {
      "cell_type": "code",
      "metadata": {
        "colab": {
          "base_uri": "https://localhost:8080/"
        },
        "id": "qhUQMJ-23f2y",
        "outputId": "fd3047db-a58e-468c-c86d-892774ae00a8"
      },
      "source": [
        "!pip install speechbrain\n",
        "from speechbrain.nnet.loss.transducer_loss import TransducerLoss\n",
        "transducer_loss = TransducerLoss(0)\n",
        "\n",
        "def compute_loss(self, x, y, T, U):\n",
        "    encoder_out = self.encoder.forward(x)\n",
        "    predictor_out = self.predictor.forward(y)\n",
        "    joiner_out = self.joiner.forward(encoder_out.unsqueeze(2), predictor_out.unsqueeze(1)).log_softmax(3)\n",
        "    #loss = -self.compute_forward_prob(joiner_out, T, U, y).mean()\n",
        "    T = T.to(joiner_out.device)\n",
        "    U = U.to(joiner_out.device)\n",
        "    loss = transducer_loss(joiner_out, y, T, U) #, blank_index=NULL_INDEX, reduction=\"mean\")\n",
        "    return loss\n",
        "\n",
        "Transducer.compute_loss = compute_loss"
      ],
      "execution_count": 41,
      "outputs": [
        {
          "output_type": "stream",
          "name": "stdout",
          "text": [
            "Requirement already satisfied: speechbrain in /usr/local/lib/python3.7/dist-packages (0.5.11)\n",
            "Requirement already satisfied: packaging in /usr/local/lib/python3.7/dist-packages (from speechbrain) (21.3)\n",
            "Requirement already satisfied: torchaudio in /usr/local/lib/python3.7/dist-packages (from speechbrain) (0.11.0+cu113)\n",
            "Requirement already satisfied: huggingface-hub in /usr/local/lib/python3.7/dist-packages (from speechbrain) (0.5.1)\n",
            "Requirement already satisfied: numpy in /usr/local/lib/python3.7/dist-packages (from speechbrain) (1.21.6)\n",
            "Requirement already satisfied: torch<=1.11,>=1.7 in /usr/local/lib/python3.7/dist-packages (from speechbrain) (1.11.0+cu113)\n",
            "Requirement already satisfied: scipy in /usr/local/lib/python3.7/dist-packages (from speechbrain) (1.4.1)\n",
            "Requirement already satisfied: sentencepiece in /usr/local/lib/python3.7/dist-packages (from speechbrain) (0.1.96)\n",
            "Requirement already satisfied: hyperpyyaml in /usr/local/lib/python3.7/dist-packages (from speechbrain) (1.0.1)\n",
            "Requirement already satisfied: tqdm in /usr/local/lib/python3.7/dist-packages (from speechbrain) (4.64.0)\n",
            "Requirement already satisfied: joblib in /usr/local/lib/python3.7/dist-packages (from speechbrain) (1.1.0)\n",
            "Requirement already satisfied: typing-extensions in /usr/local/lib/python3.7/dist-packages (from torch<=1.11,>=1.7->speechbrain) (4.2.0)\n",
            "Requirement already satisfied: requests in /usr/local/lib/python3.7/dist-packages (from huggingface-hub->speechbrain) (2.23.0)\n",
            "Requirement already satisfied: importlib-metadata in /usr/local/lib/python3.7/dist-packages (from huggingface-hub->speechbrain) (4.11.3)\n",
            "Requirement already satisfied: pyyaml in /usr/local/lib/python3.7/dist-packages (from huggingface-hub->speechbrain) (6.0)\n",
            "Requirement already satisfied: filelock in /usr/local/lib/python3.7/dist-packages (from huggingface-hub->speechbrain) (3.6.0)\n",
            "Requirement already satisfied: pyparsing!=3.0.5,>=2.0.2 in /usr/local/lib/python3.7/dist-packages (from packaging->speechbrain) (3.0.8)\n",
            "Requirement already satisfied: ruamel.yaml>=0.17.8 in /usr/local/lib/python3.7/dist-packages (from hyperpyyaml->speechbrain) (0.17.21)\n",
            "Requirement already satisfied: ruamel.yaml.clib>=0.2.6 in /usr/local/lib/python3.7/dist-packages (from ruamel.yaml>=0.17.8->hyperpyyaml->speechbrain) (0.2.6)\n",
            "Requirement already satisfied: zipp>=0.5 in /usr/local/lib/python3.7/dist-packages (from importlib-metadata->huggingface-hub->speechbrain) (3.8.0)\n",
            "Requirement already satisfied: certifi>=2017.4.17 in /usr/local/lib/python3.7/dist-packages (from requests->huggingface-hub->speechbrain) (2021.10.8)\n",
            "Requirement already satisfied: urllib3!=1.25.0,!=1.25.1,<1.26,>=1.21.1 in /usr/local/lib/python3.7/dist-packages (from requests->huggingface-hub->speechbrain) (1.24.3)\n",
            "Requirement already satisfied: idna<3,>=2.5 in /usr/local/lib/python3.7/dist-packages (from requests->huggingface-hub->speechbrain) (2.10)\n",
            "Requirement already satisfied: chardet<4,>=3.0.2 in /usr/local/lib/python3.7/dist-packages (from requests->huggingface-hub->speechbrain) (3.0.4)\n"
          ]
        }
      ]
    },
    {
      "cell_type": "markdown",
      "metadata": {
        "id": "Ff9raB0jVGzN"
      },
      "source": [
        "# Some utilities\n",
        "\n",
        "Here we will add a bit of boilerplate code for training and loading data."
      ]
    },
    {
      "cell_type": "code",
      "metadata": {
        "id": "5b17OQm4WdVy",
        "colab": {
          "base_uri": "https://localhost:8080/"
        },
        "outputId": "c68e618c-1bba-4a96-d0e6-427d39994337"
      },
      "source": [
        "class TextDataset(torch.utils.data.Dataset):\n",
        "  def __init__(self, lines, batch_size):\n",
        "    lines = list(filter((\"\\n\").__ne__, lines))\n",
        "\n",
        "    self.lines = lines # list of strings\n",
        "    collate = Collate()\n",
        "    self.loader = torch.utils.data.DataLoader(self, batch_size=batch_size, num_workers=1, shuffle=True, collate_fn=collate)\n",
        "\n",
        "  def __len__(self):\n",
        "    return len(self.lines)\n",
        "\n",
        "  def __getitem__(self, idx):\n",
        "    line = self.lines[idx].replace(\"\\n\", \"\")\n",
        "    line = unidecode.unidecode(line) # remove special characters\n",
        "    x = \"\".join(c for c in line if c not in \"AEIOUaeiou\") # remove vowels from input\n",
        "    y = line\n",
        "    return (x,y)\n",
        "\n",
        "def encode_string(s):\n",
        "  for c in s:\n",
        "    if c not in string.printable:\n",
        "      print(s)\n",
        "  return [string.printable.index(c) + 1 for c in s]\n",
        "\n",
        "def decode_labels(l):\n",
        "  return \"\".join([string.printable[c - 1] for c in l])\n",
        "\n",
        "class Collate:\n",
        "  def __call__(self, batch):\n",
        "    \"\"\"\n",
        "    batch: list of tuples (input string, output string)\n",
        "    Returns a minibatch of strings, encoded as labels and padded to have the same length.\n",
        "    \"\"\"\n",
        "    x = []; y = []\n",
        "    batch_size = len(batch)\n",
        "    for index in range(batch_size):\n",
        "      x_,y_ = batch[index]\n",
        "      x.append(encode_string(x_))\n",
        "      y.append(encode_string(y_))\n",
        "\n",
        "    # pad all sequences to have same length\n",
        "    T = [len(x_) for x_ in x]\n",
        "    U = [len(y_) for y_ in y]\n",
        "    T_max = max(T)\n",
        "    U_max = max(U)\n",
        "    for index in range(batch_size):\n",
        "      x[index] += [NULL_INDEX] * (T_max - len(x[index]))\n",
        "      x[index] = torch.tensor(x[index])\n",
        "      y[index] += [NULL_INDEX] * (U_max - len(y[index]))\n",
        "      y[index] = torch.tensor(y[index])\n",
        "\n",
        "    # stack into single tensor\n",
        "    x = torch.stack(x)\n",
        "    y = torch.stack(y)\n",
        "    T = torch.tensor(T)\n",
        "    U = torch.tensor(U)\n",
        "\n",
        "    return (x,y,T,U)\n",
        "\n",
        "with open(\"war_and_peace.txt\", \"r\") as f:\n",
        "  lines = f.readlines()\n",
        "\n",
        "end = round(0.9 * len(lines))\n",
        "train_lines = lines[:end]\n",
        "test_lines = lines[end:]\n",
        "train_set = TextDataset(train_lines, batch_size=64) #8)\n",
        "test_set = TextDataset(test_lines, batch_size=64) #8)\n",
        "train_set.__getitem__(0)"
      ],
      "execution_count": 42,
      "outputs": [
        {
          "output_type": "execute_result",
          "data": {
            "text/plain": [
              "('\"Wll, Prnc, s Gn nd Lcc r nw jst fmly stts f th',\n",
              " '\"Well, Prince, so Genoa and Lucca are now just family estates of the')"
            ]
          },
          "metadata": {},
          "execution_count": 42
        }
      ]
    },
    {
      "cell_type": "code",
      "metadata": {
        "id": "gaZEQYzfFEQ0"
      },
      "source": [
        "class Trainer:\n",
        "  def __init__(self, model, lr):\n",
        "    self.model = model\n",
        "    self.lr = lr\n",
        "    self.optimizer = torch.optim.Adam(model.parameters(), lr=self.lr)\n",
        "  \n",
        "  def train(self, dataset, print_interval = 20):\n",
        "    train_loss = 0\n",
        "    num_samples = 0\n",
        "    self.model.train()\n",
        "    pbar = tqdm(dataset.loader)\n",
        "    for idx, batch in enumerate(pbar):\n",
        "      x,y,T,U = batch\n",
        "      x = x.to(self.model.device); y = y.to(self.model.device)\n",
        "      batch_size = len(x)\n",
        "      num_samples += batch_size\n",
        "      loss = self.model.compute_loss(x,y,T,U)\n",
        "      self.optimizer.zero_grad()\n",
        "      pbar.set_description(\"%.2f\" % loss.item())\n",
        "      loss.backward()\n",
        "      self.optimizer.step()\n",
        "      train_loss += loss.item() * batch_size\n",
        "      if idx % print_interval == 0:\n",
        "        self.model.eval()\n",
        "        guesses = self.model.greedy_search(x,T)\n",
        "        self.model.train()\n",
        "        print(\"\\n\")\n",
        "        for b in range(2):\n",
        "          print(\"input:\", decode_labels(x[b,:T[b]]))\n",
        "          print(\"guess:\", decode_labels(guesses[b]))\n",
        "          print(\"truth:\", decode_labels(y[b,:U[b]]))\n",
        "          print(\"\")\n",
        "    train_loss /= num_samples\n",
        "    return train_loss\n",
        "\n",
        "  def test(self, dataset, print_interval=1):\n",
        "    test_loss = 0\n",
        "    num_samples = 0\n",
        "    self.model.eval()\n",
        "    pbar = tqdm(dataset.loader)\n",
        "    for idx, batch in enumerate(pbar):\n",
        "      x,y,T,U = batch\n",
        "      x = x.to(self.model.device); y = y.to(self.model.device)\n",
        "      batch_size = len(x)\n",
        "      num_samples += batch_size\n",
        "      loss = self.model.compute_loss(x,y,T,U)\n",
        "      pbar.set_description(\"%.2f\" % loss.item())\n",
        "      test_loss += loss.item() * batch_size\n",
        "      if idx % print_interval == 0:\n",
        "        print(\"\\n\")\n",
        "        print(\"input:\", decode_labels(x[0,:T[0]]))\n",
        "        print(\"guess:\", decode_labels(self.model.greedy_search(x,T)[0]))\n",
        "        print(\"truth:\", decode_labels(y[0,:U[0]]))\n",
        "        print(\"\")\n",
        "    test_loss /= num_samples\n",
        "    return test_loss\n",
        "    "
      ],
      "execution_count": 43,
      "outputs": []
    },
    {
      "cell_type": "markdown",
      "metadata": {
        "id": "q4PupgBKWe6p"
      },
      "source": [
        "# Training the model\n",
        "\n",
        "Now we will train a model. This will generate some output sequences every 20 batches."
      ]
    },
    {
      "cell_type": "code",
      "metadata": {
        "id": "1TSrbH9xGPEC",
        "colab": {
          "base_uri": "https://localhost:8080/"
        },
        "outputId": "24f128ae-108c-48a7-f384-ed2f0a87ba8e"
      },
      "source": [
        "num_chars = len(string.printable)\n",
        "model = Transducer(num_inputs=num_chars+1, num_outputs=num_chars+1)\n",
        "trainer = Trainer(model=model, lr=0.0003)\n",
        "\n",
        "num_epochs = 1\n",
        "train_losses=[]\n",
        "test_losses=[]\n",
        "\n",
        "for epoch in range(num_epochs):\n",
        "    train_loss = trainer.train(train_set)\n",
        "    test_loss = trainer.test(test_set)\n",
        "    train_losses.append(train_loss)\n",
        "    test_losses.append(test_loss)\n",
        "    print(\"Epoch %d: train loss = %f, test loss = %f\" % (epoch, train_loss, test_loss))"
      ],
      "execution_count": 44,
      "outputs": [
        {
          "output_type": "stream",
          "name": "stderr",
          "text": [
            "9.65:   0%|          | 1/709 [00:04<50:19,  4.26s/it]"
          ]
        },
        {
          "output_type": "stream",
          "name": "stdout",
          "text": [
            "\n",
            "\n",
            "input: bn thnkng.\n",
            "guess: \n",
            "truth: been thinking.\n",
            "\n",
            "input: Th rd-nsd Cptn Tmkhn, frmrly Dlkhv's sqdrn cmmndr,\n",
            "guess: \n",
            "truth: The red-nosed Captain Timokhin, formerly Dolokhov's squadron commander,\n",
            "\n"
          ]
        },
        {
          "output_type": "stream",
          "name": "stderr",
          "text": [
            "4.16:   3%|▎         | 21/709 [00:48<31:35,  2.76s/it]"
          ]
        },
        {
          "output_type": "stream",
          "name": "stdout",
          "text": [
            "\n",
            "\n",
            "input: njyd th fvrs f  vry mprtnt prsng, cqntnc wth ll\n",
            "guess: \n",
            "truth: enjoyed the favors of a very important personage, acquaintance with all\n",
            "\n",
            "input: xpct t's snw... tht spt...  spt--n tch,\" h thght. \"Thr\n",
            "guess: \n",
            "truth: expect it's snow... that spot... a spot--une tache,\" he thought. \"There\n",
            "\n"
          ]
        },
        {
          "output_type": "stream",
          "name": "stderr",
          "text": [
            "3.65:   6%|▌         | 41/709 [01:32<30:21,  2.73s/it]"
          ]
        },
        {
          "output_type": "stream",
          "name": "stdout",
          "text": [
            "\n",
            "\n",
            "input: ldr vc.\n",
            "guess: \n",
            "truth: louder voice.\n",
            "\n",
            "input: fr thr gsts' rrvl.\n",
            "guess: \n",
            "truth: for their guests' arrival.\n",
            "\n"
          ]
        },
        {
          "output_type": "stream",
          "name": "stderr",
          "text": [
            "3.34:   9%|▊         | 61/709 [02:16<29:41,  2.75s/it]"
          ]
        },
        {
          "output_type": "stream",
          "name": "stdout",
          "text": [
            "\n",
            "\n",
            "input: gt t, n thr skd nd strmng clths, thy shtd \"Vvt!\"\n",
            "guess: \"\n",
            "truth: got out, in their soaked and streaming clothes, they shouted \"Vivat!\"\n",
            "\n",
            "input: nt knw. \"Bt ws t rlly nt pssbl fr Ktzv t stt hs vws\n",
            "guess: \n",
            "truth: not know. \"But was it really not possible for Kutuzov to state his views\n",
            "\n"
          ]
        },
        {
          "output_type": "stream",
          "name": "stderr",
          "text": [
            "2.70:  11%|█▏        | 81/709 [03:00<29:56,  2.86s/it]"
          ]
        },
        {
          "output_type": "stream",
          "name": "stdout",
          "text": [
            "\n",
            "\n",
            "input: \"h, y fl!\" sd th ld mn, spttng ngrly. Sm tm pssd n\n",
            "guess: \" all and. sed\n",
            "truth: \"Oh, you fool!\" said the old man, spitting angrily. Some time passed in\n",
            "\n",
            "input: ftr hs rcptn by th strns, t spk f nt n Rssn (fr\n",
            "guess: sis sis \n",
            "truth: after his reception by the Austrians, to speak if not in Russian (for\n",
            "\n"
          ]
        },
        {
          "output_type": "stream",
          "name": "stderr",
          "text": [
            "1.47:  14%|█▍        | 101/709 [03:47<35:24,  3.49s/it]"
          ]
        },
        {
          "output_type": "stream",
          "name": "stdout",
          "text": [
            "\n",
            "\n",
            "input: th bndnmnt nd brnng f Mscw--nd trd wth hs pny hnd nw\n",
            "guess: th bundinint and burining a whised trared with his miny haned now\n",
            "truth: the abandonment and burning of Moscow--and tried with his puny hand now\n",
            "\n",
            "input: ngry brzs whnd nd gttng fr f th lsh rshd pst th\n",
            "guess: nogriery bery whined and giging for a the lis reshed pist the\n",
            "truth: angry borzois whined and getting free of the leash rushed past the\n",
            "\n"
          ]
        },
        {
          "output_type": "stream",
          "name": "stderr",
          "text": [
            "0.97:  17%|█▋        | 121/709 [04:33<34:05,  3.48s/it]"
          ]
        },
        {
          "output_type": "stream",
          "name": "stdout",
          "text": [
            "\n",
            "\n",
            "input: Thy smd nt t hv xpctd hm t tlk lk nybdy ls, nd th\n",
            "guess: Thy somed not to hov apaced him to tol lok noy lis, and th\n",
            "truth: They seemed not to have expected him to talk like anybody else, and the\n",
            "\n",
            "input: Rstv thrst th prs ndr th pllw nd shk th dmp lttl hnd\n",
            "guess: Thestov therst the pors ander the pol and shok the dim litle han\n",
            "truth: Rostov thrust the purse under the pillow and shook the damp little hand\n",
            "\n"
          ]
        },
        {
          "output_type": "stream",
          "name": "stderr",
          "text": [
            "0.77:  20%|█▉        | 141/709 [05:18<30:43,  3.25s/it]"
          ]
        },
        {
          "output_type": "stream",
          "name": "stdout",
          "text": [
            "\n",
            "\n",
            "input: ls trd t rs bt fll bck, hs sbrtch hvng bcm ntngld\n",
            "guess: al tered at ars abat fil b, his sarth having be notingled\n",
            "truth: also tried to rise but fell back, his sabretache having become entangled\n",
            "\n",
            "input: \"Vry wll, vry wll...\"\n",
            "guess: \" wal, very wal.\"\n",
            "truth: \"Very well, very well...\"\n",
            "\n"
          ]
        },
        {
          "output_type": "stream",
          "name": "stderr",
          "text": [
            "0.63:  23%|██▎       | 161/709 [06:04<31:28,  3.45s/it]"
          ]
        },
        {
          "output_type": "stream",
          "name": "stdout",
          "text": [
            "\n",
            "\n",
            "input: blsh, pls dn't thnk m!\"\n",
            "guess: bl, ples don' think mo!\"\n",
            "truth: blush, please don't thank me!\"\n",
            "\n",
            "input: prtctn n thr ys, vdntly nbl t ndrstnd r blv wht\n",
            "guess: portacon in ther yous, vidently nob to anerstaned or ble what\n",
            "truth: protection in their eyes, evidently unable to understand or believe what\n",
            "\n"
          ]
        },
        {
          "output_type": "stream",
          "name": "stderr",
          "text": [
            "0.56:  26%|██▌       | 181/709 [06:50<30:06,  3.42s/it]"
          ]
        },
        {
          "output_type": "stream",
          "name": "stdout",
          "text": [
            "\n",
            "\n",
            "input: th ngry whsprs f th djtnts wh trd t stp hm. Ktzv, hs\n",
            "guess: the nigry whisers of the ads who trod it ste him. Kutov, his\n",
            "truth: the angry whispers of the adjutants who tried to stop him. Kutuzov, his\n",
            "\n",
            "input: vn th mst prtl csd t rgrd hm s  hr. f t sm\n",
            "guess: von the mas portle cosed it regred him as a her. of it some\n",
            "truth: even the most partial ceased to regard him as a hero. If to some\n",
            "\n"
          ]
        },
        {
          "output_type": "stream",
          "name": "stderr",
          "text": [
            "0.47:  28%|██▊       | 201/709 [07:36<28:29,  3.37s/it]"
          ]
        },
        {
          "output_type": "stream",
          "name": "stdout",
          "text": [
            "\n",
            "\n",
            "input: \"r bsnss s t d r dty, t fght nd nt t thnk! Tht's\n",
            "guess: \"or besens as it do or dity, it fiht ane not it think! That'\n",
            "truth: \"Our business is to do our duty, to fight and not to think! That's\n",
            "\n",
            "input: thn tchng wth hs wn ndr th clvchrd. Mdmsll Brnn\n",
            "guess: thin taching with his owen uner the coled. Madisle Borin\n",
            "truth: then touching with his own under the clavichord. Mademoiselle Bourienne\n",
            "\n"
          ]
        },
        {
          "output_type": "stream",
          "name": "stderr",
          "text": [
            "0.45:  31%|███       | 221/709 [08:21<27:32,  3.39s/it]"
          ]
        },
        {
          "output_type": "stream",
          "name": "stdout",
          "text": [
            "\n",
            "\n",
            "input: \"Wht s tht?\" skd th cntss s f sh dd nt knw wht th\n",
            "guess: \"Whe as the?\" ased the couns as of sh did not kno whout the\n",
            "truth: \"What is that?\" asked the countess as if she did not know what the\n",
            "\n",
            "input: prsnt. Wht hd hppnd ws tht nws (whch ftrwrds prvd t b\n",
            "guess: perint. What had hapened was thout now (wh afowareds perid it be\n",
            "truth: present. What had happened was that news (which afterwards proved to be\n",
            "\n"
          ]
        },
        {
          "output_type": "stream",
          "name": "stderr",
          "text": [
            "0.39:  34%|███▍      | 241/709 [09:07<26:38,  3.42s/it]"
          ]
        },
        {
          "output_type": "stream",
          "name": "stdout",
          "text": [
            "\n",
            "\n",
            "input: Stll lss dd h thnk f njrng nyn fr hs wn dvntg. H ws\n",
            "guess: Stel les did he thin of nejuring any for his owen adint. He was\n",
            "truth: Still less did he think of injuring anyone for his own advantage. He was\n",
            "\n",
            "input: mvd  fw stps frwrd nd stppd shyly, stll hldng hr\n",
            "guess: mod a fo sts fored an stped sy, stel holing her\n",
            "truth: moved a few steps forward and stopped shyly, still holding her\n",
            "\n"
          ]
        },
        {
          "output_type": "stream",
          "name": "stderr",
          "text": [
            "0.44:  37%|███▋      | 261/709 [09:53<25:15,  3.38s/it]"
          ]
        },
        {
          "output_type": "stream",
          "name": "stdout",
          "text": [
            "\n",
            "\n",
            "input: clsr t hm, psd fr n nstnt s f skng hrslf whthr sh\n",
            "guess: cole at him pade for no nostent as of asing herife whither sh\n",
            "truth: closer to him, paused for an instant as if asking herself whether she\n",
            "\n",
            "input: ly Rstv sprtly, s th rgnzr f th bnqt. t tht tst,\n",
            "guess: lay Rosiv speatly, as the regene of the benet. It thout ites\n",
            "truth: Ilya Rostov separately, as the organizer of the banquet. At that toast,\n",
            "\n"
          ]
        },
        {
          "output_type": "stream",
          "name": "stderr",
          "text": [
            "0.35:  40%|███▉      | 281/709 [10:39<24:06,  3.38s/it]"
          ]
        },
        {
          "output_type": "stream",
          "name": "stdout",
          "text": [
            "\n",
            "\n",
            "input: Th rdrly hd gn n bfr hm nd bgn wkng smbdy.\n",
            "guess: The rodery had again in befer him an begen woking seebod.\n",
            "truth: The orderly had gone in before him and began waking somebody.\n",
            "\n",
            "input: gttng t stll wrs,\" sd Nsvtsk. \"Bt st dwn nd hv\n",
            "guess: geting it stle worie,\" said Nesivi. \"But st don an have\n",
            "truth: getting it still worse,\" said Nesvitski. \"But sit down and have\n",
            "\n"
          ]
        },
        {
          "output_type": "stream",
          "name": "stderr",
          "text": [
            "0.32:  42%|████▏     | 301/709 [11:25<22:57,  3.38s/it]"
          ]
        },
        {
          "output_type": "stream",
          "name": "stdout",
          "text": [
            "\n",
            "\n",
            "input: xplnng smthng t sm Rssns wh dd nt ndrstnd thm,\n",
            "guess: exaling something it some Rusians who did not uneritened te,\n",
            "truth: explaining something to some Russians who did not understand them,\n",
            "\n",
            "input: tht thr s n rsn fr thm nt t lk m...\"\n",
            "guess: thout ther is no resen for te not it like me.\"\n",
            "truth: that there is no reason for them not to like me...\"\n",
            "\n"
          ]
        },
        {
          "output_type": "stream",
          "name": "stderr",
          "text": [
            "0.33:  45%|████▌     | 321/709 [12:11<21:45,  3.37s/it]"
          ]
        },
        {
          "output_type": "stream",
          "name": "stdout",
          "text": [
            "\n",
            "\n",
            "input: bt h vn drdd t rcll thm nd th brght nd bndlss hrzns\n",
            "guess: but he even derid to recle te ane the biht ane boneles herins\n",
            "truth: but he even dreaded to recall them and the bright and boundless horizons\n",
            "\n",
            "input: lk s wmn wh, whn w sffr, cn wp wy r srrws. H kps\n",
            "guess: lik is woman who, when we sifer, can wee away or sorows. He kes\n",
            "truth: like us women who, when we suffer, can weep away our sorrows. He keeps\n",
            "\n"
          ]
        },
        {
          "output_type": "stream",
          "name": "stderr",
          "text": [
            "0.33:  48%|████▊     | 341/709 [12:57<21:13,  3.46s/it]"
          ]
        },
        {
          "output_type": "stream",
          "name": "stdout",
          "text": [
            "\n",
            "\n",
            "input: btwn lf nd dth, n whch dth gnd th vctry. t ws th\n",
            "guess: beten life ane dead, no which death gone the victory. it was the\n",
            "truth: between life and death, in which death gained the victory. It was the\n",
            "\n",
            "input: ttck nstd f bng ttckd, nd s rndr th whl f ths pln\n",
            "guess: atack inted of beng ataced, ane as rouner the whole of this pale\n",
            "truth: attack instead of being attacked, and so render the whole of this plan\n",
            "\n"
          ]
        },
        {
          "output_type": "stream",
          "name": "stderr",
          "text": [
            "0.29:  51%|█████     | 361/709 [13:44<20:01,  3.45s/it]"
          ]
        },
        {
          "output_type": "stream",
          "name": "stdout",
          "text": [
            "\n",
            "\n",
            "input: Wlzgn ws bt t mk  rjndr, bt Ktzv ntrrptd hm.\n",
            "guess: Welge was about to ma a rejuder, but Kutov interted him.\n",
            "truth: Wolzogen was about to make a rejoinder, but Kutuzov interrupted him.\n",
            "\n",
            "input:  fw scnds h lkd t hm n slnc. Hs hndsm fc ssmd \n",
            "guess: a few sceds he lok at him in sil. His hanesome fac ased a\n",
            "truth: a few seconds he looked at him in silence. His handsome face assumed a\n",
            "\n"
          ]
        },
        {
          "output_type": "stream",
          "name": "stderr",
          "text": [
            "0.34:  54%|█████▎    | 381/709 [14:30<18:57,  3.47s/it]"
          ]
        },
        {
          "output_type": "stream",
          "name": "stdout",
          "text": [
            "\n",
            "\n",
            "input: clf srvd p wth sc. Thy tlk t s f th rls f wr, f\n",
            "guess: col sered up with sice They tak it is of the rel of wer, of\n",
            "truth: calf served up with sauce. They talk to us of the rules of war, of\n",
            "\n",
            "input: Thds's sd, drssd n crs rgs, wlkng wth  stff,  wllt\n",
            "guess: Theds' seed, ders in coure rege, walig with a stef, a wel\n",
            "truth: Theodosia's side, dressed in coarse rags, walking with a staff, a wallet\n",
            "\n"
          ]
        },
        {
          "output_type": "stream",
          "name": "stderr",
          "text": [
            "0.31:  57%|█████▋    | 401/709 [15:15<16:52,  3.29s/it]"
          ]
        },
        {
          "output_type": "stream",
          "name": "stdout",
          "text": [
            "\n",
            "\n",
            "input: Bzdv's wdw hd clld t sk Prr t tk chrg f hr hsbnd's\n",
            "guess: Baze's waw had cled to as Piere to to chage of her hosad's\n",
            "truth: Bazdeev's widow had called to ask Pierre to take charge of her husband's\n",
            "\n",
            "input: s t mnt t prv? Wht?  sk y.\"\n",
            "guess: as it moun to poive? What? I as you.\n",
            "truth: is it meant to prove? What? I ask you.\"\n",
            "\n"
          ]
        },
        {
          "output_type": "stream",
          "name": "stderr",
          "text": [
            "0.30:  59%|█████▉    | 421/709 [16:01<15:55,  3.32s/it]"
          ]
        },
        {
          "output_type": "stream",
          "name": "stdout",
          "text": [
            "\n",
            "\n",
            "input: rgrt, nd dsllsnmnt. t smd t hm tht ths ws nt\n",
            "guess: regr, an dislement. It seeme to him thout thes was not\n",
            "truth: regret, and disillusionment. It seemed to him that this was not\n",
            "\n",
            "input: Mr? H s  mst ntrstng mn.\"\n",
            "guess: Mor? He as a mot inesig men.\n",
            "truth: Morio? He is a most interesting man.\"\n",
            "\n"
          ]
        },
        {
          "output_type": "stream",
          "name": "stderr",
          "text": [
            "0.28:  62%|██████▏   | 441/709 [16:47<15:04,  3.37s/it]"
          ]
        },
        {
          "output_type": "stream",
          "name": "stdout",
          "text": [
            "\n",
            "\n",
            "input: th mrnngs--wht s clld n \"ld wvs' smmr.\"\n",
            "guess: the moniges--what is caled in \"ol wave' seme.\"\n",
            "truth: the mornings--what is called an \"old wives' summer.\"\n",
            "\n",
            "input: \"Nw th fn bgns,\" thght ntl, sttng dwn wth  sml bsd\n",
            "guess: \"No the fin begen,\" thoutoot notel, siting dow with a sim besed\n",
            "truth: \"Now the fun begins,\" thought Anatole, sitting down with a smile beside\n",
            "\n"
          ]
        },
        {
          "output_type": "stream",
          "name": "stderr",
          "text": [
            "0.25:  65%|██████▌   | 461/709 [17:33<14:19,  3.47s/it]"
          ]
        },
        {
          "output_type": "stream",
          "name": "stdout",
          "text": [
            "\n",
            "\n",
            "input: Hghnss  mttr f grt mprtnc fr thr cntry's wlfr.\n",
            "guess: Hihnes a mater of gret imatene for ther cony's wele.\n",
            "truth: Highness a matter of great importance for their country's welfare.\n",
            "\n",
            "input: prtcls f drzzlng mst. Th br twgs n th grdn wr hng wth\n",
            "guess: patles of derzing mot. The bar tws in the garin wer han with\n",
            "truth: particles of drizzling mist. The bare twigs in the garden were hung with\n",
            "\n"
          ]
        },
        {
          "output_type": "stream",
          "name": "stderr",
          "text": [
            "0.30:  68%|██████▊   | 481/709 [18:19<12:42,  3.34s/it]"
          ]
        },
        {
          "output_type": "stream",
          "name": "stdout",
          "text": [
            "\n",
            "\n",
            "input: ys whl hs rms nd lgs twtchd. H spk wtht hmslf knwng\n",
            "guess: eyes whel his aris an leges twiched. He sp without himef knig\n",
            "truth: eyes while his arms and legs twitched. He spoke without himself knowing\n",
            "\n",
            "input: my frnd nvr spk t m f tht... f ll tht! Wll, gd-by. S\n",
            "guess: my fune never spe it me of that. of al that! Wel, god-by. So\n",
            "truth: my friend never speak to me of that... of all that! Well, good-by. So\n",
            "\n"
          ]
        },
        {
          "output_type": "stream",
          "name": "stderr",
          "text": [
            "0.29:  71%|███████   | 501/709 [19:05<11:38,  3.36s/it]"
          ]
        },
        {
          "output_type": "stream",
          "name": "stdout",
          "text": [
            "\n",
            "\n",
            "input: hm! D y ndrstnd?' h sys. Tht's hw t s, dr fllw. Ft\n",
            "guess: hem Do you unertened? he sas. Theet' how it is, der fell. Fat\n",
            "truth: him! Do you understand?' he says. That's how it is, dear fellow. Fate\n",
            "\n",
            "input: m  t d f  lv hr?\" h thght, nd h nvlntrly grnd,\n",
            "guess: me a to do of a love here\" he thouht, an he inolunterly grid,\n",
            "truth: am I to do if I love her?\" he thought, and he involuntarily groaned,\n",
            "\n"
          ]
        },
        {
          "output_type": "stream",
          "name": "stderr",
          "text": [
            "0.30:  73%|███████▎  | 521/709 [19:51<10:28,  3.34s/it]"
          ]
        },
        {
          "output_type": "stream",
          "name": "stdout",
          "text": [
            "\n",
            "\n",
            "input: whn thy wnt n. n hr sng rm, wth lmps brnng bfr th cn\n",
            "guess: when they wen on. no her seen room with limes bunig befer the can\n",
            "truth: when they went in. In her snug room, with lamps burning before the icon\n",
            "\n",
            "input: wkr thn ths f th nmy, bt, s  rslt f th lss f th\n",
            "guess: weker thin thes of the enemy but, as a resel of the les of the\n",
            "truth: weaker than those of the enemy, but, as a result of the loss of the\n",
            "\n"
          ]
        },
        {
          "output_type": "stream",
          "name": "stderr",
          "text": [
            "0.26:  76%|███████▋  | 541/709 [20:37<09:19,  3.33s/it]"
          ]
        },
        {
          "output_type": "stream",
          "name": "stdout",
          "text": [
            "\n",
            "\n",
            "input: Thrdly, t wld hv bn snslss t scrfc n's wn trps n\n",
            "guess: Thirely, it wol have ben senes it saric on' owen trop in\n",
            "truth: Thirdly, it would have been senseless to sacrifice one's own troops in\n",
            "\n",
            "input: Pltn Krtv knw nthng by hrt xcpt hs pryrs. Whn h bgn\n",
            "guess: Pale Karate ken nothing bey her exip his pares. When he bege\n",
            "truth: Platon Karataev knew nothing by heart except his prayers. When he began\n",
            "\n"
          ]
        },
        {
          "output_type": "stream",
          "name": "stderr",
          "text": [
            "0.26:  79%|███████▉  | 561/709 [21:23<08:27,  3.43s/it]"
          ]
        },
        {
          "output_type": "stream",
          "name": "stdout",
          "text": [
            "\n",
            "\n",
            "input:  Frnch crprl, wth ct nbttnd n  hmly wy,  skllcp n\n",
            "guess: a Ferech coral, with cout inatened in a himy away I skle in\n",
            "truth: A French corporal, with coat unbuttoned in a homely way, a skullcap on\n",
            "\n",
            "input: pssd hs tm vry gly. ftr  shrt prd f dptng hmslf t\n",
            "guess: pesed his tem very gely. afate a ser pered of adeting himef it\n",
            "truth: passed his time very gaily. After a short period of adapting himself to\n",
            "\n"
          ]
        },
        {
          "output_type": "stream",
          "name": "stderr",
          "text": [
            "0.26:  82%|████████▏ | 581/709 [22:09<07:13,  3.39s/it]"
          ]
        },
        {
          "output_type": "stream",
          "name": "stdout",
          "text": [
            "\n",
            "\n",
            "input: mffld sht lmst bhnd thm n th wd. Th Frnch hd ttckd\n",
            "guess: mefiled st alos behine te in th wod. The Ferech had ataced\n",
            "truth: muffled shout almost behind them in the wood. The French had attacked\n",
            "\n",
            "input:  tll, btfl wmn wth  mss f pltd hr nd mch xpsd\n",
            "guess: a tel, beauteful woman wit a mas of pole her ane muh exade\n",
            "truth: A tall, beautiful woman with a mass of plaited hair and much exposed\n",
            "\n"
          ]
        },
        {
          "output_type": "stream",
          "name": "stderr",
          "text": [
            "0.20:  85%|████████▍ | 601/709 [22:55<05:59,  3.33s/it]"
          ]
        },
        {
          "output_type": "stream",
          "name": "stdout",
          "text": [
            "\n",
            "\n",
            "input: frgt th msfrtns y hv sffrd, shld ntrtn th hp f \n",
            "guess: forg the mifortions you have sufered, soude inaten the hop of a\n",
            "truth: forget the misfortunes you have suffered, should entertain the hope of a\n",
            "\n",
            "input: nthng bt wht thy lwys sd: \"Hvng  gd tm? Wll, 'm gld\n",
            "guess: nothing about what thy alys sad \"Hing a god teem Wel, I' gel\n",
            "truth: nothing but what they always said: \"Having a good time? Well, I'm glad\n",
            "\n"
          ]
        },
        {
          "output_type": "stream",
          "name": "stderr",
          "text": [
            "0.24:  88%|████████▊ | 621/709 [23:42<05:04,  3.46s/it]"
          ]
        },
        {
          "output_type": "stream",
          "name": "stdout",
          "text": [
            "\n",
            "\n",
            "input: \"Bt mltry mn hv tld m tht t s mpssbl t fght n th\n",
            "guess: \"But mily man have tel me thot to so imsible to foht on th\n",
            "truth: \"But military men have told me that it is impossible to fight in the\n",
            "\n",
            "input: szd by n nrsnng sprngtm flng f jy nd rnwl. ll th\n",
            "guess: seize bey no nering serigtem feelig of joy an rene. al the\n",
            "truth: seized by an unreasoning springtime feeling of joy and renewal. All the\n",
            "\n"
          ]
        },
        {
          "output_type": "stream",
          "name": "stderr",
          "text": [
            "0.23:  90%|█████████ | 641/709 [24:28<03:49,  3.38s/it]"
          ]
        },
        {
          "output_type": "stream",
          "name": "stdout",
          "text": [
            "\n",
            "\n",
            "input: mght brk thrgh hs cntr, h hmslf mght b klld by  stry\n",
            "guess: miht berk tro his coun, he himsf miht be kled bey a sty\n",
            "truth: might break through his center, he himself might be killed by a stray\n",
            "\n",
            "input: dpnds n th wy nxpctd mvmnts f th nmy--tht cnnt b\n",
            "guess: depeds in th away unepted movents of th enemy-thout canot be\n",
            "truth: depends on the way unexpected movements of the enemy--that cannot be\n",
            "\n"
          ]
        },
        {
          "output_type": "stream",
          "name": "stderr",
          "text": [
            "0.22:  93%|█████████▎| 661/709 [25:13<02:42,  3.38s/it]"
          ]
        },
        {
          "output_type": "stream",
          "name": "stdout",
          "text": [
            "\n",
            "\n",
            "input: Brnn.\n",
            "guess: Borin.\n",
            "truth: Bourienne.\n",
            "\n",
            "input: 'Mchl,' h sys, 'cm hr nd bw dwn t hs ft; nd y, yng\n",
            "guess: ' he say ' her ane bow down to his fot; ned you, youn\n",
            "truth: 'Michael,' he says, 'come here and bow down to his feet; and you, young\n",
            "\n"
          ]
        },
        {
          "output_type": "stream",
          "name": "stderr",
          "text": [
            "0.21:  96%|█████████▌| 681/709 [25:59<01:34,  3.36s/it]"
          ]
        },
        {
          "output_type": "stream",
          "name": "stdout",
          "text": [
            "\n",
            "\n",
            "input: dr nvld?\" sd sh, s thgh nwr f th cld ffnsv lk\n",
            "guess: der inele?\" said s, so th ner of th coud ofene lik\n",
            "truth: dear invalid?\" said she, as though unaware of the cold offensive look\n",
            "\n",
            "input: Drng hs sty t Bld Hlls ll th fmly dnd tgthr, bt thy\n",
            "guess: Durig his say to Bal Hiles al the faly done togher, but thy\n",
            "truth: During his stay at Bald Hills all the family dined together, but they\n",
            "\n"
          ]
        },
        {
          "output_type": "stream",
          "name": "stderr",
          "text": [
            "0.21:  99%|█████████▉| 701/709 [26:44<00:26,  3.28s/it]"
          ]
        },
        {
          "output_type": "stream",
          "name": "stdout",
          "text": [
            "\n",
            "\n",
            "input: cms th cmmssry gnrl skng whr th strs r t b tkn,\n",
            "guess: come th comasary gen aski wher th ster or to be tan,\n",
            "truth: comes the commissary general asking where the stores are to be taken,\n",
            "\n",
            "input: nmtd by tht ddrss nn Pvlvn's gsts tlkd fr  lng tm\n",
            "guess: anited b thout adres Ana Pavan's gusites taked for a lon tee\n",
            "truth: Animated by that address Anna Pavlovna's guests talked for a long time\n",
            "\n"
          ]
        },
        {
          "output_type": "stream",
          "name": "stderr",
          "text": [
            "0.18: 100%|██████████| 709/709 [27:00<00:00,  2.29s/it]\n",
            "0.24:   0%|          | 0/81 [00:01<?, ?it/s]"
          ]
        },
        {
          "output_type": "stream",
          "name": "stdout",
          "text": [
            "\n",
            "\n",
            "input: gv y my wrd. Nvr,\" h rptd n  trmblng vc lk  by\n"
          ]
        },
        {
          "output_type": "stream",
          "name": "stderr",
          "text": [
            "\r0.24:   1%|          | 1/81 [00:05<06:52,  5.16s/it]"
          ]
        },
        {
          "output_type": "stream",
          "name": "stdout",
          "text": [
            "guess: give you my wored. Nor,\" he repeated in a terbing voce lik a b\n",
            "truth: give you my word. Never,\" he repeated in a trembling voice like a boy\n",
            "\n"
          ]
        },
        {
          "output_type": "stream",
          "name": "stderr",
          "text": [
            "\r0.22:   1%|          | 1/81 [00:05<06:52,  5.16s/it]"
          ]
        },
        {
          "output_type": "stream",
          "name": "stdout",
          "text": [
            "\n",
            "\n",
            "input: cntrdctry, xcpt th flng tht gds th drm, s n ths\n"
          ]
        },
        {
          "output_type": "stream",
          "name": "stderr",
          "text": [
            "\r0.22:   2%|▏         | 2/81 [00:10<06:32,  4.97s/it]"
          ]
        },
        {
          "output_type": "stream",
          "name": "stdout",
          "text": [
            "guess: cotrictory, exip th feelig thet guds the dere, is in tes\n",
            "truth: contradictory, except the feeling that guides the dream, so in this\n",
            "\n"
          ]
        },
        {
          "output_type": "stream",
          "name": "stderr",
          "text": [
            "\r0.23:   2%|▏         | 2/81 [00:10<06:32,  4.97s/it]"
          ]
        },
        {
          "output_type": "stream",
          "name": "stdout",
          "text": [
            "\n",
            "\n",
            "input: n th ctn tslf nd tht thr ctvty s xclsvly drctd t\n"
          ]
        },
        {
          "output_type": "stream",
          "name": "stderr",
          "text": [
            "\r0.23:   4%|▎         | 3/81 [00:14<06:25,  4.94s/it]"
          ]
        },
        {
          "output_type": "stream",
          "name": "stdout",
          "text": [
            "guess: in th acion itel ane the ther aciti is exilely derited to\n",
            "truth: in the action itself and that their activity is exclusively directed to\n",
            "\n"
          ]
        },
        {
          "output_type": "stream",
          "name": "stderr",
          "text": [
            "\r0.21:   4%|▎         | 3/81 [00:15<06:25,  4.94s/it]"
          ]
        },
        {
          "output_type": "stream",
          "name": "stdout",
          "text": [
            "\n",
            "\n",
            "input: frm mn bv hm; h hmslf nvr gvs n rdr. Th nncmmssnd\n"
          ]
        },
        {
          "output_type": "stream",
          "name": "stderr",
          "text": [
            "\r0.21:   5%|▍         | 4/81 [00:19<06:17,  4.90s/it]"
          ]
        },
        {
          "output_type": "stream",
          "name": "stdout",
          "text": [
            "guess: for men abe him; he himef never gives in orer. The nocsioned\n",
            "truth: from men above him; he himself never gives an order. The noncommissioned\n",
            "\n"
          ]
        },
        {
          "output_type": "stream",
          "name": "stderr",
          "text": [
            "\r0.27:   5%|▍         | 4/81 [00:20<06:17,  4.90s/it]"
          ]
        },
        {
          "output_type": "stream",
          "name": "stdout",
          "text": [
            "\n",
            "\n",
            "input: wndws, cns, wdwrk, nd stll nbttrssd wlls, nd shld b\n"
          ]
        },
        {
          "output_type": "stream",
          "name": "stderr",
          "text": [
            "\r0.27:   6%|▌         | 5/81 [00:24<06:18,  4.98s/it]"
          ]
        },
        {
          "output_type": "stream",
          "name": "stdout",
          "text": [
            "guess: widows, cine, wode, ane sill nibesed wils, ane sole be\n",
            "truth: windows, icons, woodwork, and still unbuttressed walls, and should be\n",
            "\n"
          ]
        },
        {
          "output_type": "stream",
          "name": "stderr",
          "text": [
            "\r0.27:   6%|▌         | 5/81 [00:25<06:18,  4.98s/it]"
          ]
        },
        {
          "output_type": "stream",
          "name": "stdout",
          "text": [
            "\n",
            "\n",
            "input: strn fc s f wshng t mk th vstr fl tht th bsnc f\n"
          ]
        },
        {
          "output_type": "stream",
          "name": "stderr",
          "text": [
            "\r0.27:   7%|▋         | 6/81 [00:29<06:16,  5.02s/it]"
          ]
        },
        {
          "output_type": "stream",
          "name": "stdout",
          "text": [
            "guess: Ausin fa as of wisig to mak the vister fel that th bene of\n",
            "truth: stern face as if wishing to make the visitor feel that the absence of\n",
            "\n"
          ]
        },
        {
          "output_type": "stream",
          "name": "stderr",
          "text": [
            "\r0.25:   7%|▋         | 6/81 [00:30<06:16,  5.02s/it]"
          ]
        },
        {
          "output_type": "stream",
          "name": "stdout",
          "text": [
            "\n",
            "\n",
            "input: dfndng hr hsbnd nd ttckng hr brthr. Hr dfns ws wk\n"
          ]
        },
        {
          "output_type": "stream",
          "name": "stderr",
          "text": [
            "\r0.25:   9%|▊         | 7/81 [00:35<06:16,  5.09s/it]"
          ]
        },
        {
          "output_type": "stream",
          "name": "stdout",
          "text": [
            "guess: defenig her husabed an ataking her bor. Her defene was wek\n",
            "truth: defending her husband and attacking her brother. Her defense was weak\n",
            "\n"
          ]
        },
        {
          "output_type": "stream",
          "name": "stderr",
          "text": [
            "\r0.26:   9%|▊         | 7/81 [00:35<06:16,  5.09s/it]"
          ]
        },
        {
          "output_type": "stream",
          "name": "stdout",
          "text": [
            "\n",
            "\n",
            "input: f th cnscsnss f frdm wr nt  sprt nd ndpndnt\n"
          ]
        },
        {
          "output_type": "stream",
          "name": "stderr",
          "text": [
            "\r0.26:  10%|▉         | 8/81 [00:40<06:07,  5.03s/it]"
          ]
        },
        {
          "output_type": "stream",
          "name": "stdout",
          "text": [
            "guess: of th cons of ferem were not a sart an inepenet\n",
            "truth: If the consciousness of freedom were not a separate and independent\n",
            "\n"
          ]
        },
        {
          "output_type": "stream",
          "name": "stderr",
          "text": [
            "\r0.25:  10%|▉         | 8/81 [00:40<06:07,  5.03s/it]"
          ]
        },
        {
          "output_type": "stream",
          "name": "stdout",
          "text": [
            "\n",
            "\n",
            "input: th mr mnfst th lw f nvtblty.\n"
          ]
        },
        {
          "output_type": "stream",
          "name": "stderr",
          "text": [
            "\r0.25:  11%|█         | 9/81 [00:45<06:02,  5.03s/it]"
          ]
        },
        {
          "output_type": "stream",
          "name": "stdout",
          "text": [
            "guess: the mer minst the low of initabity.\n",
            "truth: the more manifest the law of inevitability.\n",
            "\n"
          ]
        },
        {
          "output_type": "stream",
          "name": "stderr",
          "text": [
            "\r0.26:  11%|█         | 9/81 [00:45<06:02,  5.03s/it]"
          ]
        },
        {
          "output_type": "stream",
          "name": "stdout",
          "text": [
            "\n",
            "\n",
            "input: Bt s t s n n wy prvd tht th m f hmnty ds cnsst n\n"
          ]
        },
        {
          "output_type": "stream",
          "name": "stderr",
          "text": [
            "\r0.26:  12%|█▏        | 10/81 [00:50<05:54,  5.00s/it]"
          ]
        },
        {
          "output_type": "stream",
          "name": "stdout",
          "text": [
            "guess: But is to is no no way perid that th aim of huminty dos cons in\n",
            "truth: But as it is in no way proved that the aim of humanity does consist in\n",
            "\n"
          ]
        },
        {
          "output_type": "stream",
          "name": "stderr",
          "text": [
            "\r0.27:  12%|█▏        | 10/81 [00:50<05:54,  5.00s/it]"
          ]
        },
        {
          "output_type": "stream",
          "name": "stdout",
          "text": [
            "\n",
            "\n",
            "input: nfrngmnt f th rl pwr; r (2) tht th wll f th ppl s\n"
          ]
        },
        {
          "output_type": "stream",
          "name": "stderr",
          "text": [
            "\r0.27:  14%|█▎        | 11/81 [00:55<05:51,  5.02s/it]"
          ]
        },
        {
          "output_type": "stream",
          "name": "stdout",
          "text": [
            "guess: inigement of th rel pear; or () that the wil of th pepe is\n",
            "truth: infringement of the real power; or (2) that the will of the people is\n",
            "\n"
          ]
        },
        {
          "output_type": "stream",
          "name": "stderr",
          "text": [
            "\r0.24:  14%|█▎        | 11/81 [00:55<05:51,  5.02s/it]"
          ]
        },
        {
          "output_type": "stream",
          "name": "stdout",
          "text": [
            "\n",
            "\n",
            "input: cqntnc Cnt Wllrsk, wh hd ntrdcd hm t th ldg n\n"
          ]
        },
        {
          "output_type": "stream",
          "name": "stderr",
          "text": [
            "\r0.24:  15%|█▍        | 12/81 [01:00<05:50,  5.08s/it]"
          ]
        },
        {
          "output_type": "stream",
          "name": "stdout",
          "text": [
            "guess: acenten Coun Willeski, who had ineded him to the lod in\n",
            "truth: acquaintance Count Willarski, who had introduced him to the lodge in\n",
            "\n"
          ]
        },
        {
          "output_type": "stream",
          "name": "stderr",
          "text": [
            "\r0.27:  15%|█▍        | 12/81 [01:00<05:50,  5.08s/it]"
          ]
        },
        {
          "output_type": "stream",
          "name": "stdout",
          "text": [
            "\n",
            "\n",
            "input: whch Prr spk f tht dd fthr, nd frm th crfl, rvrnt\n"
          ]
        },
        {
          "output_type": "stream",
          "name": "stderr",
          "text": [
            "\r0.27:  16%|█▌        | 13/81 [01:05<05:42,  5.03s/it]"
          ]
        },
        {
          "output_type": "stream",
          "name": "stdout",
          "text": [
            "guess: which Piere spak of the did father, ane fre th carie, riveret\n",
            "truth: which Pierre spoke of that dead father, and from the careful, reverent\n",
            "\n"
          ]
        },
        {
          "output_type": "stream",
          "name": "stderr",
          "text": [
            "\r0.24:  16%|█▌        | 13/81 [01:06<05:42,  5.03s/it]"
          ]
        },
        {
          "output_type": "stream",
          "name": "stdout",
          "text": [
            "\n",
            "\n",
            "input: vltn. Bt hs wll--whch frms th ssnc f hs lf--mn\n"
          ]
        },
        {
          "output_type": "stream",
          "name": "stderr",
          "text": [
            "\r0.24:  17%|█▋        | 14/81 [01:10<05:39,  5.07s/it]"
          ]
        },
        {
          "output_type": "stream",
          "name": "stdout",
          "text": [
            "guess: vili. But his wil-which feris th sene of his lif-man\n",
            "truth: volition. But his will--which forms the essence of his life--man\n",
            "\n"
          ]
        },
        {
          "output_type": "stream",
          "name": "stderr",
          "text": [
            "\r0.24:  17%|█▋        | 14/81 [01:11<05:39,  5.07s/it]"
          ]
        },
        {
          "output_type": "stream",
          "name": "stdout",
          "text": [
            "\n",
            "\n",
            "input: th strng nw fcts h hd lrnd; bt n rchng rl h\n"
          ]
        },
        {
          "output_type": "stream",
          "name": "stderr",
          "text": [
            "\r0.24:  19%|█▊        | 15/81 [01:15<05:33,  5.06s/it]"
          ]
        },
        {
          "output_type": "stream",
          "name": "stdout",
          "text": [
            "guess: the sterig now fates he had lerined; but in reaching rel he\n",
            "truth: the strange new facts he had learned; but on reaching Orel he\n",
            "\n"
          ]
        },
        {
          "output_type": "stream",
          "name": "stderr",
          "text": [
            "\r0.25:  19%|█▊        | 15/81 [01:16<05:33,  5.06s/it]"
          ]
        },
        {
          "output_type": "stream",
          "name": "stdout",
          "text": [
            "\n",
            "\n",
            "input: rvltn.\n"
          ]
        },
        {
          "output_type": "stream",
          "name": "stderr",
          "text": [
            "\r0.25:  20%|█▉        | 16/81 [01:20<05:27,  5.03s/it]"
          ]
        },
        {
          "output_type": "stream",
          "name": "stdout",
          "text": [
            "guess: reveli.\n",
            "truth: revelation.\n",
            "\n"
          ]
        },
        {
          "output_type": "stream",
          "name": "stderr",
          "text": [
            "\r0.25:  20%|█▉        | 16/81 [01:21<05:27,  5.03s/it]"
          ]
        },
        {
          "output_type": "stream",
          "name": "stdout",
          "text": [
            "\n",
            "\n",
            "input: sgn tht thy flly ndrstd n nthr.\n"
          ]
        },
        {
          "output_type": "stream",
          "name": "stderr",
          "text": [
            "\r0.25:  21%|██        | 17/81 [01:25<05:22,  5.04s/it]"
          ]
        },
        {
          "output_type": "stream",
          "name": "stdout",
          "text": [
            "guess: sige that thy ful unes one naither.\n",
            "truth: sign that they fully understood one another.\n",
            "\n"
          ]
        },
        {
          "output_type": "stream",
          "name": "stderr",
          "text": [
            "\r0.18:  21%|██        | 17/81 [01:26<05:22,  5.04s/it]"
          ]
        },
        {
          "output_type": "stream",
          "name": "stdout",
          "text": [
            "\n",
            "\n",
            "input: strtd prvng gdnss knws wht!  pty y wr nt thr--wht\n"
          ]
        },
        {
          "output_type": "stream",
          "name": "stderr",
          "text": [
            "\r0.18:  22%|██▏       | 18/81 [01:30<05:16,  5.03s/it]"
          ]
        },
        {
          "output_type": "stream",
          "name": "stdout",
          "text": [
            "guess: sarted perig genes knes what! A pity you war not the-what\n",
            "truth: started proving goodness knows what! A pity you were not there--what\n",
            "\n"
          ]
        },
        {
          "output_type": "stream",
          "name": "stderr",
          "text": [
            "\r0.20:  22%|██▏       | 18/81 [01:31<05:16,  5.03s/it]"
          ]
        },
        {
          "output_type": "stream",
          "name": "stdout",
          "text": [
            "\n",
            "\n",
            "input: H hd n pln, h ws frd f vrythng, bt th prts sntchd t\n"
          ]
        },
        {
          "output_type": "stream",
          "name": "stderr",
          "text": [
            "\r0.20:  23%|██▎       | 19/81 [01:35<05:14,  5.07s/it]"
          ]
        },
        {
          "output_type": "stream",
          "name": "stdout",
          "text": [
            "guess: He had no pan, he was fere of every, but th peates senthed to\n",
            "truth: He had no plan, he was afraid of everything, but the parties snatched at\n",
            "\n"
          ]
        },
        {
          "output_type": "stream",
          "name": "stderr",
          "text": [
            "\r0.25:  23%|██▎       | 19/81 [01:36<05:14,  5.07s/it]"
          ]
        },
        {
          "output_type": "stream",
          "name": "stdout",
          "text": [
            "\n",
            "\n",
            "input: dlgt, th vry mn th srfs wld thmslvs hv chsn hd thy\n"
          ]
        },
        {
          "output_type": "stream",
          "name": "stderr",
          "text": [
            "\r0.25:  25%|██▍       | 20/81 [01:40<05:08,  5.06s/it]"
          ]
        },
        {
          "output_type": "stream",
          "name": "stdout",
          "text": [
            "guess: delt, the very man th sers wole tesvas have chos had thy\n",
            "truth: delegate, the very men the serfs would themselves have chosen had they\n",
            "\n"
          ]
        },
        {
          "output_type": "stream",
          "name": "stderr",
          "text": [
            "\r0.22:  25%|██▍       | 20/81 [01:41<05:08,  5.06s/it]"
          ]
        },
        {
          "output_type": "stream",
          "name": "stdout",
          "text": [
            "\n",
            "\n",
            "input: bfr--sh flt  nd f bng ngry nd wld chs s th hndst\n"
          ]
        },
        {
          "output_type": "stream",
          "name": "stderr",
          "text": [
            "\r0.22:  26%|██▌       | 21/81 [01:45<05:06,  5.10s/it]"
          ]
        },
        {
          "output_type": "stream",
          "name": "stdout",
          "text": [
            "guess: befer-she fel I ned if being any ane wole ches is the hint\n",
            "truth: before--she felt a need of being angry and would choose as the handiest\n",
            "\n"
          ]
        },
        {
          "output_type": "stream",
          "name": "stderr",
          "text": [
            "\r0.23:  26%|██▌       | 21/81 [01:46<05:06,  5.10s/it]"
          ]
        },
        {
          "output_type": "stream",
          "name": "stdout",
          "text": [
            "\n",
            "\n",
            "input: knd, plsnt fc nd hw h smls s h lks t m.\"\n"
          ]
        },
        {
          "output_type": "stream",
          "name": "stderr",
          "text": [
            "\r0.23:  27%|██▋       | 22/81 [01:50<05:00,  5.10s/it]"
          ]
        },
        {
          "output_type": "stream",
          "name": "stdout",
          "text": [
            "guess: kid, pelet fa ane how he sil as he loks to me.\n",
            "truth: kind, pleasant face and how he smiles as he looks at me.\"\n",
            "\n"
          ]
        },
        {
          "output_type": "stream",
          "name": "stderr",
          "text": [
            "\r0.22:  27%|██▋       | 22/81 [01:51<05:00,  5.10s/it]"
          ]
        },
        {
          "output_type": "stream",
          "name": "stdout",
          "text": [
            "\n",
            "\n",
            "input: rfsd wtht th lst dffclty r ffrt, nd ws ftrwrds\n"
          ]
        },
        {
          "output_type": "stream",
          "name": "stderr",
          "text": [
            "\r0.22:  28%|██▊       | 23/81 [01:55<04:51,  5.03s/it]"
          ]
        },
        {
          "output_type": "stream",
          "name": "stdout",
          "text": [
            "guess: refused withe the las dificulty our feferit, ane was afareds\n",
            "truth: refused without the least difficulty or effort, and was afterwards\n",
            "\n"
          ]
        },
        {
          "output_type": "stream",
          "name": "stderr",
          "text": [
            "\r0.22:  28%|██▊       | 23/81 [01:56<04:51,  5.03s/it]"
          ]
        },
        {
          "output_type": "stream",
          "name": "stdout",
          "text": [
            "\n",
            "\n",
            "input: t thm ws th chf cs f th lbrl mvmnt t th cmmncmnt\n"
          ]
        },
        {
          "output_type": "stream",
          "name": "stderr",
          "text": [
            "\r0.22:  30%|██▉       | 24/81 [02:00<04:48,  5.07s/it]"
          ]
        },
        {
          "output_type": "stream",
          "name": "stdout",
          "text": [
            "guess: to te was the chie cause of th liberi movent to th coment\n",
            "truth: to them was the chief cause of the liberal movement at the commencement\n",
            "\n"
          ]
        },
        {
          "output_type": "stream",
          "name": "stderr",
          "text": [
            "\r0.24:  30%|██▉       | 24/81 [02:01<04:48,  5.07s/it]"
          ]
        },
        {
          "output_type": "stream",
          "name": "stdout",
          "text": [
            "\n",
            "\n",
            "input: wst--Prs--nd sbsds.\n"
          ]
        },
        {
          "output_type": "stream",
          "name": "stderr",
          "text": [
            "\r0.24:  31%|███       | 25/81 [02:06<04:44,  5.09s/it]"
          ]
        },
        {
          "output_type": "stream",
          "name": "stdout",
          "text": [
            "guess: wes--ris--aned subes.\n",
            "truth: west--Paris--and subsides.\n",
            "\n"
          ]
        },
        {
          "output_type": "stream",
          "name": "stderr",
          "text": [
            "\r0.39:  31%|███       | 25/81 [02:06<04:44,  5.09s/it]"
          ]
        },
        {
          "output_type": "stream",
          "name": "stdout",
          "text": [
            "\n",
            "\n",
            "input: pthy nd gtsm.\n"
          ]
        },
        {
          "output_type": "stream",
          "name": "stderr",
          "text": [
            "\r0.39:  32%|███▏      | 26/81 [02:11<04:39,  5.09s/it]"
          ]
        },
        {
          "output_type": "stream",
          "name": "stdout",
          "text": [
            "guess: pathy ned gates.\n",
            "truth: apathy and egotism.\n",
            "\n"
          ]
        },
        {
          "output_type": "stream",
          "name": "stderr",
          "text": [
            "\r0.25:  32%|███▏      | 26/81 [02:12<04:39,  5.09s/it]"
          ]
        },
        {
          "output_type": "stream",
          "name": "stdout",
          "text": [
            "\n",
            "\n",
            "input: \"t's ll nnsns, ll rbbsh--ths dscssns whch ld t nthng\n"
          ]
        },
        {
          "output_type": "stream",
          "name": "stderr",
          "text": [
            "\r0.25:  33%|███▎      | 27/81 [02:16<04:34,  5.09s/it]"
          ]
        },
        {
          "output_type": "stream",
          "name": "stdout",
          "text": [
            "guess: \"It' al nones, al rubis--this disusions whi led it nothing\n",
            "truth: \"It's all nonsense, all rubbish--those discussions which lead to nothing\n",
            "\n"
          ]
        },
        {
          "output_type": "stream",
          "name": "stderr",
          "text": [
            "\r0.24:  33%|███▎      | 27/81 [02:17<04:34,  5.09s/it]"
          ]
        },
        {
          "output_type": "stream",
          "name": "stdout",
          "text": [
            "\n",
            "\n",
            "input: hstry bgns--tht thry xplns nthng.\n"
          ]
        },
        {
          "output_type": "stream",
          "name": "stderr",
          "text": [
            "\r0.24:  35%|███▍      | 28/81 [02:21<04:30,  5.10s/it]"
          ]
        },
        {
          "output_type": "stream",
          "name": "stdout",
          "text": [
            "guess: hisy begen--that they exales nothing.\n",
            "truth: history begins--that theory explains nothing.\n",
            "\n"
          ]
        },
        {
          "output_type": "stream",
          "name": "stderr",
          "text": [
            "\r0.24:  35%|███▍      | 28/81 [02:22<04:30,  5.10s/it]"
          ]
        },
        {
          "output_type": "stream",
          "name": "stdout",
          "text": [
            "\n",
            "\n",
            "input: nw. Tht srch fr th m f lf hd nt mrly dspprd\n"
          ]
        },
        {
          "output_type": "stream",
          "name": "stderr",
          "text": [
            "\r0.24:  36%|███▌      | 29/81 [02:26<04:24,  5.09s/it]"
          ]
        },
        {
          "output_type": "stream",
          "name": "stdout",
          "text": [
            "guess: now. That seach fee th aim of lif had not meri disapered\n",
            "truth: now. That search for the aim of life had not merely disappeared\n",
            "\n"
          ]
        },
        {
          "output_type": "stream",
          "name": "stderr",
          "text": [
            "\r0.21:  36%|███▌      | 29/81 [02:27<04:24,  5.09s/it]"
          ]
        },
        {
          "output_type": "stream",
          "name": "stdout",
          "text": [
            "\n",
            "\n",
            "input: pr t t hm hs ndgntn gnst th Frnch nd spclly\n"
          ]
        },
        {
          "output_type": "stream",
          "name": "stderr",
          "text": [
            "\r0.21:  37%|███▋      | 30/81 [02:31<04:19,  5.08s/it]"
          ]
        },
        {
          "output_type": "stream",
          "name": "stdout",
          "text": [
            "guess: pear it to him his ingeten againt th Ferich ane specily\n",
            "truth: pour out to him his indignation against the French and especially\n",
            "\n"
          ]
        },
        {
          "output_type": "stream",
          "name": "stderr",
          "text": [
            "\r0.25:  37%|███▋      | 30/81 [02:32<04:19,  5.08s/it]"
          ]
        },
        {
          "output_type": "stream",
          "name": "stdout",
          "text": [
            "\n",
            "\n",
            "input: th nmbr f ppl tkng prt n t th mr rpdly ws th wlth\n"
          ]
        },
        {
          "output_type": "stream",
          "name": "stderr",
          "text": [
            "\r0.25:  38%|███▊      | 31/81 [02:36<04:13,  5.06s/it]"
          ]
        },
        {
          "output_type": "stream",
          "name": "stdout",
          "text": [
            "guess: the numer of pepe tang pait in to th mer raply was the wel\n",
            "truth: the number of people taking part in it the more rapidly was the wealth\n",
            "\n"
          ]
        },
        {
          "output_type": "stream",
          "name": "stderr",
          "text": [
            "\r0.23:  38%|███▊      | 31/81 [02:37<04:13,  5.06s/it]"
          ]
        },
        {
          "output_type": "stream",
          "name": "stdout",
          "text": [
            "\n",
            "\n",
            "input: Th dctr wh ttndd Prr nd vstd hm vry dy, thgh h\n"
          ]
        },
        {
          "output_type": "stream",
          "name": "stderr",
          "text": [
            "\r0.23:  40%|███▉      | 32/81 [02:41<04:05,  5.01s/it]"
          ]
        },
        {
          "output_type": "stream",
          "name": "stdout",
          "text": [
            "guess: The docour who atened Piere ane vised him very da, th he\n",
            "truth: The doctor who attended Pierre and visited him every day, though he\n",
            "\n"
          ]
        },
        {
          "output_type": "stream",
          "name": "stderr",
          "text": [
            "\r0.24:  40%|███▉      | 32/81 [02:42<04:05,  5.01s/it]"
          ]
        },
        {
          "output_type": "stream",
          "name": "stdout",
          "text": [
            "\n",
            "\n",
            "input: thgh ffndd. \"Ys... n... t Ptrsbrg? Tmrrw--bt  wn't sy\n"
          ]
        },
        {
          "output_type": "stream",
          "name": "stderr",
          "text": [
            "\r0.24:  41%|████      | 33/81 [02:46<04:00,  5.01s/it]"
          ]
        },
        {
          "output_type": "stream",
          "name": "stdout",
          "text": [
            "guess: th ofided. \"is. no. to Peterig? Tomow-but I won' say\n",
            "truth: though offended. \"Yes... no... to Petersburg? Tomorrow--but I won't say\n",
            "\n"
          ]
        },
        {
          "output_type": "stream",
          "name": "stderr",
          "text": [
            "\r0.28:  41%|████      | 33/81 [02:47<04:00,  5.01s/it]"
          ]
        },
        {
          "output_type": "stream",
          "name": "stdout",
          "text": [
            "\n",
            "\n",
            "input: \"Y'r  clvr fllw! Frm th cld ndd! Why, t ws ht. f t\n"
          ]
        },
        {
          "output_type": "stream",
          "name": "stderr",
          "text": [
            "\r0.28:  42%|████▏     | 34/81 [02:51<03:55,  5.00s/it]"
          ]
        },
        {
          "output_type": "stream",
          "name": "stdout",
          "text": [
            "guess: \"Yo' a cule fell! From the coul nede! Why, it was hat. if to\n",
            "truth: \"You're a clever fellow! From the cold indeed! Why, it was hot. If it\n",
            "\n"
          ]
        },
        {
          "output_type": "stream",
          "name": "stderr",
          "text": [
            "\r0.23:  42%|████▏     | 34/81 [02:52<03:55,  5.00s/it]"
          ]
        },
        {
          "output_type": "stream",
          "name": "stdout",
          "text": [
            "\n",
            "\n",
            "input: cncldd by mkng wht mntd t  dmnd tht Prr shld gv\n"
          ]
        },
        {
          "output_type": "stream",
          "name": "stderr",
          "text": [
            "\r0.23:  43%|████▎     | 35/81 [02:56<03:49,  5.00s/it]"
          ]
        },
        {
          "output_type": "stream",
          "name": "stdout",
          "text": [
            "guess: coculed b mang whit mited to a demane that Piere soled give\n",
            "truth: concluded by making what amounted to a demand that Pierre should give\n",
            "\n"
          ]
        },
        {
          "output_type": "stream",
          "name": "stderr",
          "text": [
            "\r0.29:  43%|████▎     | 35/81 [02:57<03:49,  5.00s/it]"
          ]
        },
        {
          "output_type": "stream",
          "name": "stdout",
          "text": [
            "\n",
            "\n",
            "input: ctvty f th mllns wh mgrt, brn hss, bndn grcltr,\n"
          ]
        },
        {
          "output_type": "stream",
          "name": "stderr",
          "text": [
            "\r0.29:  44%|████▍     | 36/81 [03:01<03:44,  4.99s/it]"
          ]
        },
        {
          "output_type": "stream",
          "name": "stdout",
          "text": [
            "guess: acitity of th milins who imate, bean hoses, ben gerilter,\n",
            "truth: activity of the millions who migrate, burn houses, abandon agriculture,\n",
            "\n"
          ]
        },
        {
          "output_type": "stream",
          "name": "stderr",
          "text": [
            "\r0.26:  44%|████▍     | 36/81 [03:02<03:44,  4.99s/it]"
          ]
        },
        {
          "output_type": "stream",
          "name": "stdout",
          "text": [
            "\n",
            "\n",
            "input: (3) Th cnnctn btwn cs nd ffct hs n bgnnng nd cn\n"
          ]
        },
        {
          "output_type": "stream",
          "name": "stderr",
          "text": [
            "\r0.26:  46%|████▌     | 37/81 [03:06<03:40,  5.01s/it]"
          ]
        },
        {
          "output_type": "stream",
          "name": "stdout",
          "text": [
            "guess: () The conation beten cous ane fefat his no begning ane can\n",
            "truth: (3) The connection between cause and effect has no beginning and can\n",
            "\n"
          ]
        },
        {
          "output_type": "stream",
          "name": "stderr",
          "text": [
            "\r0.21:  46%|████▌     | 37/81 [03:07<03:40,  5.01s/it]"
          ]
        },
        {
          "output_type": "stream",
          "name": "stdout",
          "text": [
            "\n",
            "\n",
            "input: Th gnrnc f hs cllgs, th wknss nd nsgnfcnc f hs\n"
          ]
        },
        {
          "output_type": "stream",
          "name": "stderr",
          "text": [
            "\r0.21:  47%|████▋     | 38/81 [03:11<03:37,  5.06s/it]"
          ]
        },
        {
          "output_type": "stream",
          "name": "stdout",
          "text": [
            "guess: The gene of his cluges, the wekns ane ingicance of his\n",
            "truth: The ignorance of his colleagues, the weakness and insignificance of his\n",
            "\n"
          ]
        },
        {
          "output_type": "stream",
          "name": "stderr",
          "text": [
            "\r0.25:  47%|████▋     | 38/81 [03:12<03:37,  5.06s/it]"
          ]
        },
        {
          "output_type": "stream",
          "name": "stdout",
          "text": [
            "\n",
            "\n",
            "input: hd snk n, nd hr ys wr dm.\n"
          ]
        },
        {
          "output_type": "stream",
          "name": "stderr",
          "text": [
            "\r0.25:  48%|████▊     | 39/81 [03:17<03:37,  5.17s/it]"
          ]
        },
        {
          "output_type": "stream",
          "name": "stdout",
          "text": [
            "guess: had sak no, ane her eyes were dim.\n",
            "truth: had sunk in, and her eyes were dim.\n",
            "\n"
          ]
        },
        {
          "output_type": "stream",
          "name": "stderr",
          "text": [
            "\r0.25:  48%|████▊     | 39/81 [03:17<03:37,  5.17s/it]"
          ]
        },
        {
          "output_type": "stream",
          "name": "stdout",
          "text": [
            "\n",
            "\n",
            "input: th rm....\"\n"
          ]
        },
        {
          "output_type": "stream",
          "name": "stderr",
          "text": [
            "\r0.25:  49%|████▉     | 40/81 [03:22<03:29,  5.10s/it]"
          ]
        },
        {
          "output_type": "stream",
          "name": "stdout",
          "text": [
            "guess: the room.\"\n",
            "truth: the room....\"\n",
            "\n"
          ]
        },
        {
          "output_type": "stream",
          "name": "stderr",
          "text": [
            "\r0.25:  49%|████▉     | 40/81 [03:22<03:29,  5.10s/it]"
          ]
        },
        {
          "output_type": "stream",
          "name": "stdout",
          "text": [
            "\n",
            "\n",
            "input: Wtht sch jstfctn thr wld b n rply t th smplst\n"
          ]
        },
        {
          "output_type": "stream",
          "name": "stderr",
          "text": [
            "\r0.25:  51%|█████     | 41/81 [03:27<03:24,  5.12s/it]"
          ]
        },
        {
          "output_type": "stream",
          "name": "stdout",
          "text": [
            "guess: Without suh jusitacion ther wol be in repl to th siples\n",
            "truth: Without such justification there would be no reply to the simplest\n",
            "\n"
          ]
        },
        {
          "output_type": "stream",
          "name": "stderr",
          "text": [
            "\r0.21:  51%|█████     | 41/81 [03:27<03:24,  5.12s/it]"
          ]
        },
        {
          "output_type": "stream",
          "name": "stdout",
          "text": [
            "\n",
            "\n",
            "input: rdnry ccptns, nd ts brkfsts, lnchs, dnnrs, nd spprs,\n"
          ]
        },
        {
          "output_type": "stream",
          "name": "stderr",
          "text": [
            "\r0.21:  52%|█████▏    | 42/81 [03:32<03:16,  5.04s/it]"
          ]
        },
        {
          "output_type": "stream",
          "name": "stdout",
          "text": [
            "guess: oriny acupions, ane ite berkes, lins, dines, ane supers,\n",
            "truth: ordinary occupations, and its breakfasts, lunches, dinners, and suppers,\n",
            "\n"
          ]
        },
        {
          "output_type": "stream",
          "name": "stderr",
          "text": [
            "\r0.26:  52%|█████▏    | 42/81 [03:32<03:16,  5.04s/it]"
          ]
        },
        {
          "output_type": "stream",
          "name": "stdout",
          "text": [
            "\n",
            "\n",
            "input:  sy 'thr'... Y stnd hr, nd y n my rms--wll nw! n,\n"
          ]
        },
        {
          "output_type": "stream",
          "name": "stderr",
          "text": [
            "\r0.26:  53%|█████▎    | 43/81 [03:37<03:11,  5.03s/it]"
          ]
        },
        {
          "output_type": "stream",
          "name": "stdout",
          "text": [
            "guess: esa 'ter'. You stene her, ned you no my remesl now no,\n",
            "truth: I say 'three'... You stand here, and you in my arms--well now! One,\n",
            "\n"
          ]
        },
        {
          "output_type": "stream",
          "name": "stderr",
          "text": [
            "\r0.31:  53%|█████▎    | 43/81 [03:37<03:11,  5.03s/it]"
          ]
        },
        {
          "output_type": "stream",
          "name": "stdout",
          "text": [
            "\n",
            "\n",
            "input: cncv f  mn bng fr w mst mgn hm tsd spc, whch s\n"
          ]
        },
        {
          "output_type": "stream",
          "name": "stderr",
          "text": [
            "\r0.31:  54%|█████▍    | 44/81 [03:42<03:05,  5.02s/it]"
          ]
        },
        {
          "output_type": "stream",
          "name": "stdout",
          "text": [
            "guess: coceive of a man bein fear we mus iman him tosed spa, whi is\n",
            "truth: conceive of a man being free we must imagine him outside space, which is\n",
            "\n"
          ]
        },
        {
          "output_type": "stream",
          "name": "stderr",
          "text": [
            "\r0.28:  54%|█████▍    | 44/81 [03:42<03:05,  5.02s/it]"
          ]
        },
        {
          "output_type": "stream",
          "name": "stdout",
          "text": [
            "\n",
            "\n",
            "input: fr th mst prt svg nd brtl. n mtv nly thy ll hd n\n"
          ]
        },
        {
          "output_type": "stream",
          "name": "stderr",
          "text": [
            "\r0.28:  56%|█████▌    | 45/81 [03:47<03:00,  5.01s/it]"
          ]
        },
        {
          "output_type": "stream",
          "name": "stdout",
          "text": [
            "guess: fee the mot pait sava ane beari. no mitev one the al had no\n",
            "truth: for the most part savage and brutal. One motive only they all had in\n",
            "\n"
          ]
        },
        {
          "output_type": "stream",
          "name": "stderr",
          "text": [
            "\r0.21:  56%|█████▌    | 45/81 [03:47<03:00,  5.01s/it]"
          ]
        },
        {
          "output_type": "stream",
          "name": "stdout",
          "text": [
            "\n",
            "\n",
            "input: wld b rdcd by thr frths, bt h flt t mst b dn.\n"
          ]
        },
        {
          "output_type": "stream",
          "name": "stderr",
          "text": [
            "\r0.21:  57%|█████▋    | 46/81 [03:52<02:56,  5.04s/it]"
          ]
        },
        {
          "output_type": "stream",
          "name": "stdout",
          "text": [
            "guess: woled be redude b ther futhis, but he fel to mus be don.\n",
            "truth: would be reduced by three fourths, but he felt it must be done.\n",
            "\n"
          ]
        },
        {
          "output_type": "stream",
          "name": "stderr",
          "text": [
            "\r0.20:  57%|█████▋    | 46/81 [03:52<02:56,  5.04s/it]"
          ]
        },
        {
          "output_type": "stream",
          "name": "stdout",
          "text": [
            "\n",
            "\n",
            "input: f t gts md r bcs ppl try t xchng t fr gld, s ls\n"
          ]
        },
        {
          "output_type": "stream",
          "name": "stderr",
          "text": [
            "\r0.20:  58%|█████▊    | 47/81 [03:57<02:51,  5.05s/it]"
          ]
        },
        {
          "output_type": "stream",
          "name": "stdout",
          "text": [
            "guess: of to getes med or becaus pepe tey to exing to fee gel, is les\n",
            "truth: of it gets made or because people try to exchange it for gold, so also\n",
            "\n"
          ]
        },
        {
          "output_type": "stream",
          "name": "stderr",
          "text": [
            "\r0.25:  58%|█████▊    | 47/81 [03:57<02:51,  5.05s/it]"
          ]
        },
        {
          "output_type": "stream",
          "name": "stdout",
          "text": [
            "\n",
            "\n",
            "input: stdd fr  lng tm.\n"
          ]
        },
        {
          "output_type": "stream",
          "name": "stderr",
          "text": [
            "\r0.25:  59%|█████▉    | 48/81 [04:02<02:46,  5.04s/it]"
          ]
        },
        {
          "output_type": "stream",
          "name": "stdout",
          "text": [
            "guess: sted fer a lon tem.\n",
            "truth: studied for a long time.\n",
            "\n"
          ]
        },
        {
          "output_type": "stream",
          "name": "stderr",
          "text": [
            "\r0.22:  59%|█████▉    | 48/81 [04:02<02:46,  5.04s/it]"
          ]
        },
        {
          "output_type": "stream",
          "name": "stdout",
          "text": [
            "\n",
            "\n",
            "input: mrly frm th tttd f th crt. H sw n th n hnd tht th\n"
          ]
        },
        {
          "output_type": "stream",
          "name": "stderr",
          "text": [
            "\r0.22:  60%|██████    | 49/81 [04:07<02:42,  5.07s/it]"
          ]
        },
        {
          "output_type": "stream",
          "name": "stdout",
          "text": [
            "guess: meriy for the tited of th curit. He saw in th no hane that th\n",
            "truth: merely from the attitude of the court. He saw on the one hand that the\n",
            "\n"
          ]
        },
        {
          "output_type": "stream",
          "name": "stderr",
          "text": [
            "\r0.30:  60%|██████    | 49/81 [04:08<02:42,  5.07s/it]"
          ]
        },
        {
          "output_type": "stream",
          "name": "stdout",
          "text": [
            "\n",
            "\n",
            "input: phlsphc thrs--tht frm th pnt f vw f rsn mn s\n"
          ]
        },
        {
          "output_type": "stream",
          "name": "stderr",
          "text": [
            "\r0.30:  62%|██████▏   | 50/81 [04:12<02:38,  5.11s/it]"
          ]
        },
        {
          "output_type": "stream",
          "name": "stdout",
          "text": [
            "guess: poliphic ters--that for th pon of viw of resen man is\n",
            "truth: philosophic theories--that from the point of view of reason man is\n",
            "\n"
          ]
        },
        {
          "output_type": "stream",
          "name": "stderr",
          "text": [
            "\r0.24:  62%|██████▏   | 50/81 [04:13<02:38,  5.11s/it]"
          ]
        },
        {
          "output_type": "stream",
          "name": "stdout",
          "text": [
            "\n",
            "\n",
            "input: Ths n  tm f trbl vr mmrbl t hm ftr th brth f thr\n"
          ]
        },
        {
          "output_type": "stream",
          "name": "stderr",
          "text": [
            "\r0.24:  63%|██████▎   | 51/81 [04:17<02:34,  5.14s/it]"
          ]
        },
        {
          "output_type": "stream",
          "name": "stdout",
          "text": [
            "guess: This in a tee of teril over imeral to him afar th bearh of ther\n",
            "truth: Thus in a time of trouble ever memorable to him after the birth of their\n",
            "\n"
          ]
        },
        {
          "output_type": "stream",
          "name": "stderr",
          "text": [
            "\r0.24:  63%|██████▎   | 51/81 [04:18<02:34,  5.14s/it]"
          ]
        },
        {
          "output_type": "stream",
          "name": "stdout",
          "text": [
            "\n",
            "\n",
            "input: flfll th dmnds f pltnss, nd sh frmly rslvd t mntn\n"
          ]
        },
        {
          "output_type": "stream",
          "name": "stderr",
          "text": [
            "\r0.24:  64%|██████▍   | 52/81 [04:22<02:26,  5.07s/it]"
          ]
        },
        {
          "output_type": "stream",
          "name": "stdout",
          "text": [
            "guess: ful the demans of politenes, ane she femy resived to menten\n",
            "truth: fulfill the demands of politeness, and she firmly resolved to maintain\n",
            "\n"
          ]
        },
        {
          "output_type": "stream",
          "name": "stderr",
          "text": [
            "\r0.18:  64%|██████▍   | 52/81 [04:23<02:26,  5.07s/it]"
          ]
        },
        {
          "output_type": "stream",
          "name": "stdout",
          "text": [
            "\n",
            "\n",
            "input: Th nly cncptn tht cn xpln th mvmnt f th ppls s tht\n"
          ]
        },
        {
          "output_type": "stream",
          "name": "stderr",
          "text": [
            "\r0.18:  65%|██████▌   | 53/81 [04:28<02:23,  5.14s/it]"
          ]
        },
        {
          "output_type": "stream",
          "name": "stdout",
          "text": [
            "guess: The ony cocupin that can exale the movent of th peps so that\n",
            "truth: The only conception that can explain the movement of the peoples is that\n",
            "\n"
          ]
        },
        {
          "output_type": "stream",
          "name": "stderr",
          "text": [
            "\r0.23:  65%|██████▌   | 53/81 [04:28<02:23,  5.14s/it]"
          ]
        },
        {
          "output_type": "stream",
          "name": "stdout",
          "text": [
            "\n",
            "\n",
            "input: t sggst tht Rss hd svd rp) \"d ny hrm? Th Tgndbnd s\n"
          ]
        },
        {
          "output_type": "stream",
          "name": "stderr",
          "text": [
            "\r0.23:  67%|██████▋   | 54/81 [04:33<02:17,  5.11s/it]"
          ]
        },
        {
          "output_type": "stream",
          "name": "stdout",
          "text": [
            "guess: to suges that Rusia had save rep \"do an hari? The Tigned is\n",
            "truth: to suggest that Russia had saved Europe) \"do any harm? The Tugendbund is\n",
            "\n"
          ]
        },
        {
          "output_type": "stream",
          "name": "stderr",
          "text": [
            "\r0.23:  67%|██████▋   | 54/81 [04:33<02:17,  5.11s/it]"
          ]
        },
        {
          "output_type": "stream",
          "name": "stdout",
          "text": [
            "\n",
            "\n",
            "input: th mr w prcv f ths nflncs th mr r cncptn f hs\n"
          ]
        },
        {
          "output_type": "stream",
          "name": "stderr",
          "text": [
            "\r0.23:  68%|██████▊   | 55/81 [04:37<02:10,  5.03s/it]"
          ]
        },
        {
          "output_type": "stream",
          "name": "stdout",
          "text": [
            "guess: the mer we peceive of tes inlecis th mer or cocupion of his\n",
            "truth: the more we perceive of these influences the more our conception of his\n",
            "\n"
          ]
        },
        {
          "output_type": "stream",
          "name": "stderr",
          "text": [
            "\r0.21:  68%|██████▊   | 55/81 [04:38<02:10,  5.03s/it]"
          ]
        },
        {
          "output_type": "stream",
          "name": "stdout",
          "text": [
            "\n",
            "\n",
            "input: thght f wht sh wld b lk whn h ws n ld mn, tkng hr\n"
          ]
        },
        {
          "output_type": "stream",
          "name": "stderr",
          "text": [
            "\r0.21:  69%|██████▉   | 56/81 [04:43<02:07,  5.09s/it]"
          ]
        },
        {
          "output_type": "stream",
          "name": "stdout",
          "text": [
            "guess: thoug of what she wol be like when he was no lod man, tang her\n",
            "truth: thought of what she would be like when he was an old man, taking her\n",
            "\n"
          ]
        },
        {
          "output_type": "stream",
          "name": "stderr",
          "text": [
            "\r0.22:  69%|██████▉   | 56/81 [04:43<02:07,  5.09s/it]"
          ]
        },
        {
          "output_type": "stream",
          "name": "stdout",
          "text": [
            "\n",
            "\n",
            "input: whch ws slly twrd svn 'clck whn sh hd hd n ftr-dnnr\n"
          ]
        },
        {
          "output_type": "stream",
          "name": "stderr",
          "text": [
            "\r0.22:  70%|███████   | 57/81 [04:48<02:02,  5.12s/it]"
          ]
        },
        {
          "output_type": "stream",
          "name": "stdout",
          "text": [
            "guess: which was sal tored seven ' when she had had no futer-diner\n",
            "truth: which was usually toward seven o'clock when she had had an after-dinner\n",
            "\n"
          ]
        },
        {
          "output_type": "stream",
          "name": "stderr",
          "text": [
            "\r0.27:  70%|███████   | 57/81 [04:49<02:02,  5.12s/it]"
          ]
        },
        {
          "output_type": "stream",
          "name": "stdout",
          "text": [
            "\n",
            "\n",
            "input: nd hs dl f grndr nd glry, whch sms xcllnt nd\n"
          ]
        },
        {
          "output_type": "stream",
          "name": "stderr",
          "text": [
            "\r0.27:  72%|███████▏  | 58/81 [04:53<01:56,  5.08s/it]"
          ]
        },
        {
          "output_type": "stream",
          "name": "stdout",
          "text": [
            "guess: ane his del of grider ane gery, whi seemes exlint ane\n",
            "truth: and his ideal of grandeur and glory, which seems excellent and\n",
            "\n"
          ]
        },
        {
          "output_type": "stream",
          "name": "stderr",
          "text": [
            "\r0.21:  72%|███████▏  | 58/81 [04:53<01:56,  5.08s/it]"
          ]
        },
        {
          "output_type": "stream",
          "name": "stdout",
          "text": [
            "\n",
            "\n",
            "input: prmsd n hr hrt t d bttr nd t ccmplsh th mpssbl--n\n"
          ]
        },
        {
          "output_type": "stream",
          "name": "stderr",
          "text": [
            "\r0.21:  73%|███████▎  | 59/81 [04:58<01:51,  5.07s/it]"
          ]
        },
        {
          "output_type": "stream",
          "name": "stdout",
          "text": [
            "guess: perised in her herit to do biter ned to acomish the imsli--in\n",
            "truth: promised in her heart to do better and to accomplish the impossible--in\n",
            "\n"
          ]
        },
        {
          "output_type": "stream",
          "name": "stderr",
          "text": [
            "\r0.22:  73%|███████▎  | 59/81 [04:59<01:51,  5.07s/it]"
          ]
        },
        {
          "output_type": "stream",
          "name": "stdout",
          "text": [
            "\n",
            "\n",
            "input: cnsdrng nthng wrng tht n ds bt n prdng nslf n vry\n"
          ]
        },
        {
          "output_type": "stream",
          "name": "stderr",
          "text": [
            "\r0.22:  74%|███████▍  | 60/81 [05:03<01:46,  5.06s/it]"
          ]
        },
        {
          "output_type": "stream",
          "name": "stdout",
          "text": [
            "guess: coneing nothing warig that no dose but in perig inef in very\n",
            "truth: considering nothing wrong that one does but in priding oneself on every\n",
            "\n"
          ]
        },
        {
          "output_type": "stream",
          "name": "stderr",
          "text": [
            "\r0.29:  74%|███████▍  | 60/81 [05:04<01:46,  5.06s/it]"
          ]
        },
        {
          "output_type": "stream",
          "name": "stdout",
          "text": [
            "\n",
            "\n",
            "input: FRST PLG: 1813 - 20\n"
          ]
        },
        {
          "output_type": "stream",
          "name": "stderr",
          "text": [
            "\r0.29:  75%|███████▌  | 61/81 [05:08<01:39,  4.99s/it]"
          ]
        },
        {
          "output_type": "stream",
          "name": "stdout",
          "text": [
            "guess: FS PGG: 12 P 80\n",
            "truth: FIRST EPILOGUE: 1813 - 20\n",
            "\n"
          ]
        },
        {
          "output_type": "stream",
          "name": "stderr",
          "text": [
            "\r0.23:  75%|███████▌  | 61/81 [05:08<01:39,  4.99s/it]"
          ]
        },
        {
          "output_type": "stream",
          "name": "stdout",
          "text": [
            "\n",
            "\n",
            "input: \"Wht r y pshng fr? s th fr nly fr y? Lk hw h's\n"
          ]
        },
        {
          "output_type": "stream",
          "name": "stderr",
          "text": [
            "\r0.23:  77%|███████▋  | 62/81 [05:13<01:35,  5.03s/it]"
          ]
        },
        {
          "output_type": "stream",
          "name": "stdout",
          "text": [
            "guess: \"What are you pusig fee? is th fear ony fee you? Look how he'\n",
            "truth: \"What are you pushing for? Is the fire only for you? Look how he's\n",
            "\n"
          ]
        },
        {
          "output_type": "stream",
          "name": "stderr",
          "text": [
            "\r0.25:  77%|███████▋  | 62/81 [05:14<01:35,  5.03s/it]"
          ]
        },
        {
          "output_type": "stream",
          "name": "stdout",
          "text": [
            "\n",
            "\n",
            "input: Ths ffcr bgn vstng Prr, nd th prncss sd t mk fn f\n"
          ]
        },
        {
          "output_type": "stream",
          "name": "stderr",
          "text": [
            "\r0.25:  78%|███████▊  | 63/81 [05:18<01:30,  5.04s/it]"
          ]
        },
        {
          "output_type": "stream",
          "name": "stdout",
          "text": [
            "guess: This ofure begen visting Piere, ane th piness side to mek fin of\n",
            "truth: This officer began visiting Pierre, and the princess used to make fun of\n",
            "\n"
          ]
        },
        {
          "output_type": "stream",
          "name": "stderr",
          "text": [
            "\r0.19:  78%|███████▊  | 63/81 [05:19<01:30,  5.04s/it]"
          ]
        },
        {
          "output_type": "stream",
          "name": "stdout",
          "text": [
            "\n",
            "\n",
            "input: mmnts f ntgnsm. ccsnlly, nd t ws lwys jst ftr thy\n"
          ]
        },
        {
          "output_type": "stream",
          "name": "stderr",
          "text": [
            "\r0.19:  79%|███████▉  | 64/81 [05:23<01:25,  5.04s/it]"
          ]
        },
        {
          "output_type": "stream",
          "name": "stdout",
          "text": [
            "guess: iments of nitens. ocasaly, ane it was als jusit afar thy\n",
            "truth: moments of antagonism. Occasionally, and it was always just after they\n",
            "\n"
          ]
        },
        {
          "output_type": "stream",
          "name": "stderr",
          "text": [
            "\r0.25:  79%|███████▉  | 64/81 [05:24<01:25,  5.04s/it]"
          ]
        },
        {
          "output_type": "stream",
          "name": "stdout",
          "text": [
            "\n",
            "\n",
            "input: wht thy wr syng, sh sftly lft th rm nd wnt t th nrsry.\n"
          ]
        },
        {
          "output_type": "stream",
          "name": "stderr",
          "text": [
            "\r0.25:  80%|████████  | 65/81 [05:28<01:21,  5.08s/it]"
          ]
        },
        {
          "output_type": "stream",
          "name": "stdout",
          "text": [
            "guess: what the were sang, she sify lef th room ane wan to th nuriy.\n",
            "truth: what they were saying, she softly left the room and went to the nursery.\n",
            "\n"
          ]
        },
        {
          "output_type": "stream",
          "name": "stderr",
          "text": [
            "\r0.23:  80%|████████  | 65/81 [05:29<01:21,  5.08s/it]"
          ]
        },
        {
          "output_type": "stream",
          "name": "stdout",
          "text": [
            "\n",
            "\n",
            "input: mpsd pn hmslf s  dty, bt whch ftrwrds bcm  hbt\n"
          ]
        },
        {
          "output_type": "stream",
          "name": "stderr",
          "text": [
            "\r0.23:  81%|████████▏ | 66/81 [05:33<01:16,  5.11s/it]"
          ]
        },
        {
          "output_type": "stream",
          "name": "stdout",
          "text": [
            "guess: imod pen himef is a duty, but whi afareds beceam a habit\n",
            "truth: imposed upon himself as a duty, but which afterwards became a habit\n",
            "\n"
          ]
        },
        {
          "output_type": "stream",
          "name": "stderr",
          "text": [
            "\r0.26:  81%|████████▏ | 66/81 [05:34<01:16,  5.11s/it]"
          ]
        },
        {
          "output_type": "stream",
          "name": "stdout",
          "text": [
            "\n",
            "\n",
            "input: f wht thy rdr ccrs.\n"
          ]
        },
        {
          "output_type": "stream",
          "name": "stderr",
          "text": [
            "\r0.26:  83%|████████▎ | 67/81 [05:38<01:11,  5.11s/it]"
          ]
        },
        {
          "output_type": "stream",
          "name": "stdout",
          "text": [
            "guess: of what thy orer icures\n",
            "truth: of what they order occurs.\n",
            "\n"
          ]
        },
        {
          "output_type": "stream",
          "name": "stderr",
          "text": [
            "\r0.24:  83%|████████▎ | 67/81 [05:39<01:11,  5.11s/it]"
          ]
        },
        {
          "output_type": "stream",
          "name": "stdout",
          "text": [
            "\n",
            "\n",
            "input: wth thr mthr. Th hrmny btwn hm nd hs wf grw clsr nd\n"
          ]
        },
        {
          "output_type": "stream",
          "name": "stderr",
          "text": [
            "\r0.24:  84%|████████▍ | 68/81 [05:43<01:05,  5.08s/it]"
          ]
        },
        {
          "output_type": "stream",
          "name": "stdout",
          "text": [
            "guess: with ther mother. The harin beten him ane his wif gre cles ane\n",
            "truth: with their mother. The harmony between him and his wife grew closer and\n",
            "\n"
          ]
        },
        {
          "output_type": "stream",
          "name": "stderr",
          "text": [
            "\r0.28:  84%|████████▍ | 68/81 [05:44<01:05,  5.08s/it]"
          ]
        },
        {
          "output_type": "stream",
          "name": "stdout",
          "text": [
            "\n",
            "\n",
            "input: frm t, th dth f Prnc ndrw, Ntsh's dspr, Pty's dth,\n"
          ]
        },
        {
          "output_type": "stream",
          "name": "stderr",
          "text": [
            "\r0.28:  85%|████████▌ | 69/81 [05:48<01:00,  5.07s/it]"
          ]
        },
        {
          "output_type": "stream",
          "name": "stdout",
          "text": [
            "guess: for it, the death of Pine Anew, Natah's deser, Petys death,\n",
            "truth: from it, the death of Prince Andrew, Natasha's despair, Petya's death,\n",
            "\n"
          ]
        },
        {
          "output_type": "stream",
          "name": "stderr",
          "text": [
            "\r0.21:  85%|████████▌ | 69/81 [05:49<01:00,  5.07s/it]"
          ]
        },
        {
          "output_type": "stream",
          "name": "stdout",
          "text": [
            "\n",
            "\n",
            "input: Bt lrnng jst s crtnly tht hs wll s sbjct t lws, h ds\n"
          ]
        },
        {
          "output_type": "stream",
          "name": "stderr",
          "text": [
            "\r0.21:  86%|████████▋ | 70/81 [05:54<00:55,  5.08s/it]"
          ]
        },
        {
          "output_type": "stream",
          "name": "stdout",
          "text": [
            "guess: But learing jusit is cerily that his wil is subet to ls, he dose\n",
            "truth: But learning just as certainly that his will is subject to laws, he does\n",
            "\n"
          ]
        },
        {
          "output_type": "stream",
          "name": "stderr",
          "text": [
            "\r0.26:  86%|████████▋ | 70/81 [05:54<00:55,  5.08s/it]"
          ]
        },
        {
          "output_type": "stream",
          "name": "stdout",
          "text": [
            "\n",
            "\n",
            "input: ntcpt hr wshs, shld bcm lmst dsprt whn sh brght\n"
          ]
        },
        {
          "output_type": "stream",
          "name": "stderr",
          "text": [
            "\r0.26:  88%|████████▊ | 71/81 [05:59<00:50,  5.07s/it]"
          ]
        },
        {
          "output_type": "stream",
          "name": "stdout",
          "text": [
            "guess: inct her wis, soled becom limet desart when she boht\n",
            "truth: anticipate her wishes, should become almost desperate when she brought\n",
            "\n"
          ]
        },
        {
          "output_type": "stream",
          "name": "stderr",
          "text": [
            "\r0.26:  88%|████████▊ | 71/81 [05:59<00:50,  5.07s/it]"
          ]
        },
        {
          "output_type": "stream",
          "name": "stdout",
          "text": [
            "\n",
            "\n",
            "input: th rm, nd smk n pp ftr nthr. H smd crflly t\n"
          ]
        },
        {
          "output_type": "stream",
          "name": "stderr",
          "text": [
            "\r0.26:  89%|████████▉ | 72/81 [06:04<00:45,  5.05s/it]"
          ]
        },
        {
          "output_type": "stream",
          "name": "stdout",
          "text": [
            "guess: the room, ane sme no pe futer naither. He seemed carilly to\n",
            "truth: the room, and smoke one pipe after another. He seemed carefully to\n",
            "\n"
          ]
        },
        {
          "output_type": "stream",
          "name": "stderr",
          "text": [
            "\r0.24:  89%|████████▉ | 72/81 [06:04<00:45,  5.05s/it]"
          ]
        },
        {
          "output_type": "stream",
          "name": "stdout",
          "text": [
            "\n",
            "\n",
            "input: s, thgh lrdy qstnbly, t b th tcm f thr hrs'\n"
          ]
        },
        {
          "output_type": "stream",
          "name": "stderr",
          "text": [
            "\r0.24:  90%|█████████ | 73/81 [06:09<00:40,  5.04s/it]"
          ]
        },
        {
          "output_type": "stream",
          "name": "stdout",
          "text": [
            "guess: so, th leady quesibly, to be the tam of ter hori'\n",
            "truth: us, though already questionably, to be the outcome of their heroes'\n",
            "\n"
          ]
        },
        {
          "output_type": "stream",
          "name": "stderr",
          "text": [
            "\r0.25:  90%|█████████ | 73/81 [06:09<00:40,  5.04s/it]"
          ]
        },
        {
          "output_type": "stream",
          "name": "stdout",
          "text": [
            "\n",
            "\n",
            "input: H cld nt lv, bcs ll mn's ffrts, ll hs mplss t lf,\n"
          ]
        },
        {
          "output_type": "stream",
          "name": "stderr",
          "text": [
            "\r0.25:  91%|█████████▏| 74/81 [06:14<00:35,  5.03s/it]"
          ]
        },
        {
          "output_type": "stream",
          "name": "stdout",
          "text": [
            "guess: He coude not love, becaus al man feforis, al his imes to life,\n",
            "truth: He could not live, because all man's efforts, all his impulses to life,\n",
            "\n"
          ]
        },
        {
          "output_type": "stream",
          "name": "stderr",
          "text": [
            "\r0.24:  91%|█████████▏| 74/81 [06:14<00:35,  5.03s/it]"
          ]
        },
        {
          "output_type": "stream",
          "name": "stdout",
          "text": [
            "\n",
            "\n",
            "input: nly t rpt t gn nd gn. Thr ws nw nt  shdw f dbt\n"
          ]
        },
        {
          "output_type": "stream",
          "name": "stderr",
          "text": [
            "\r0.24:  93%|█████████▎| 75/81 [06:18<00:29,  4.98s/it]"
          ]
        },
        {
          "output_type": "stream",
          "name": "stdout",
          "text": [
            "guess: one to repit to gan ne again. There was now not a shed of doub\n",
            "truth: only to repeat it again and again. There was now not a shadow of doubt\n",
            "\n"
          ]
        },
        {
          "output_type": "stream",
          "name": "stderr",
          "text": [
            "\r0.27:  93%|█████████▎| 75/81 [06:19<00:29,  4.98s/it]"
          ]
        },
        {
          "output_type": "stream",
          "name": "stdout",
          "text": [
            "\n",
            "\n",
            "input: brthr-n-lw, Nchls trd t hd hs wrtchd cndtn frm hm.\n"
          ]
        },
        {
          "output_type": "stream",
          "name": "stderr",
          "text": [
            "\r0.27:  94%|█████████▍| 76/81 [06:23<00:24,  4.99s/it]"
          ]
        },
        {
          "output_type": "stream",
          "name": "stdout",
          "text": [
            "guess: ben-law, Niholas tere to had his wrthed coniten for him.\n",
            "truth: brother-in-law, Nicholas tried to hide his wretched condition from him.\n",
            "\n"
          ]
        },
        {
          "output_type": "stream",
          "name": "stderr",
          "text": [
            "\r0.26:  94%|█████████▍| 76/81 [06:24<00:24,  4.99s/it]"
          ]
        },
        {
          "output_type": "stream",
          "name": "stdout",
          "text": [
            "\n",
            "\n",
            "input: Bcs t hppnd s! \"Chnc crtd th sttn; gns tlzd\n"
          ]
        },
        {
          "output_type": "stream",
          "name": "stderr",
          "text": [
            "\r0.26:  95%|█████████▌| 77/81 [06:29<00:20,  5.01s/it]"
          ]
        },
        {
          "output_type": "stream",
          "name": "stdout",
          "text": [
            "guess: Becaus to hapened is! \"Chin cured the siten; gun tazed\n",
            "truth: Because it happened so! \"Chance created the situation; genius utilized\n",
            "\n"
          ]
        },
        {
          "output_type": "stream",
          "name": "stderr",
          "text": [
            "\r0.26:  95%|█████████▌| 77/81 [06:29<00:20,  5.01s/it]"
          ]
        },
        {
          "output_type": "stream",
          "name": "stdout",
          "text": [
            "\n",
            "\n",
            "input: ws vry xpsd, prdcd n hm  stt f hplss gttn nd\n"
          ]
        },
        {
          "output_type": "stream",
          "name": "stderr",
          "text": [
            "\r0.26:  96%|█████████▋| 78/81 [06:34<00:15,  5.00s/it]"
          ]
        },
        {
          "output_type": "stream",
          "name": "stdout",
          "text": [
            "guess: was very exide, priced in him a ste of hopes agiten ane\n",
            "truth: was very exposed, produced in him a state of hopeless agitation and\n",
            "\n"
          ]
        },
        {
          "output_type": "stream",
          "name": "stderr",
          "text": [
            "\r0.23:  96%|█████████▋| 78/81 [06:34<00:15,  5.00s/it]"
          ]
        },
        {
          "output_type": "stream",
          "name": "stdout",
          "text": [
            "\n",
            "\n",
            "input: dmndd--nmly, smply t fllw th nmy p. Th Frnch crwd fld\n"
          ]
        },
        {
          "output_type": "stream",
          "name": "stderr",
          "text": [
            "\r0.23:  98%|█████████▊| 79/81 [06:39<00:10,  5.06s/it]"
          ]
        },
        {
          "output_type": "stream",
          "name": "stdout",
          "text": [
            "guess: demaned-namely, siply to fl the enemy up. The Ferich cowed fed\n",
            "truth: demanded--namely, simply to follow the enemy up. The French crowd fled\n",
            "\n"
          ]
        },
        {
          "output_type": "stream",
          "name": "stderr",
          "text": [
            "\r0.20:  98%|█████████▊| 79/81 [06:40<00:10,  5.06s/it]"
          ]
        },
        {
          "output_type": "stream",
          "name": "stdout",
          "text": [
            "\n",
            "\n",
            "input: bqthd hs grt dds t pstrty. Bt n rp  rctn\n"
          ]
        },
        {
          "output_type": "stream",
          "name": "stderr",
          "text": [
            "\r0.20:  99%|█████████▉| 80/81 [06:44<00:05,  5.13s/it]"
          ]
        },
        {
          "output_type": "stream",
          "name": "stdout",
          "text": [
            "guess: bequithed his gret ded to pisity. But in rup a recin\n",
            "truth: bequeathed his great deeds to posterity. But in Europe a reaction\n",
            "\n"
          ]
        },
        {
          "output_type": "stream",
          "name": "stderr",
          "text": [
            "\r0.19:  99%|█████████▉| 80/81 [06:44<00:05,  5.13s/it]"
          ]
        },
        {
          "output_type": "stream",
          "name": "stdout",
          "text": [
            "\n",
            "\n",
            "input: xpln th fcts f hstry wtht ntrdcng th cncptns f\n"
          ]
        },
        {
          "output_type": "stream",
          "name": "stderr",
          "text": [
            "0.19: 100%|██████████| 81/81 [06:45<00:00,  5.01s/it]"
          ]
        },
        {
          "output_type": "stream",
          "name": "stdout",
          "text": [
            "guess: exile th fates of hisy without ineding the cocupitens of\n",
            "truth: explain the facts of history without introducing the conceptions of\n",
            "\n",
            "Epoch 0: train loss = 0.836782, test loss = 0.243161\n"
          ]
        },
        {
          "output_type": "stream",
          "name": "stderr",
          "text": [
            "\n"
          ]
        }
      ]
    },
    {
      "cell_type": "code",
      "metadata": {
        "id": "qRahAWPoubyu",
        "colab": {
          "base_uri": "https://localhost:8080/"
        },
        "outputId": "fffdb342-cb38-46c6-bdc8-33e99215f834"
      },
      "source": [
        "print(train_losses)\n",
        "print(test_losses)"
      ],
      "execution_count": 45,
      "outputs": [
        {
          "output_type": "stream",
          "name": "stdout",
          "text": [
            "[0.836781677544871]\n",
            "[0.2431613954012039]\n"
          ]
        }
      ]
    },
    {
      "cell_type": "markdown",
      "metadata": {
        "id": "rLQKw4kmFj3S"
      },
      "source": [
        "Let's test the model on a new sentence:"
      ]
    },
    {
      "cell_type": "code",
      "metadata": {
        "id": "zhH5lYdyEazJ",
        "colab": {
          "base_uri": "https://localhost:8080/"
        },
        "outputId": "62ec60fe-61ee-46d1-f9c3-b7ce14b5db0a"
      },
      "source": [
        "test_output = \"Most people have little difficulty reading this sentence\"\n",
        "test_input = \"\".join(c for c in test_output if c not in \"AEIOUaeiou\")\n",
        "print(\"input: \" + test_input)\n",
        "x = torch.tensor(encode_string(test_input)).unsqueeze(0).to(model.device)\n",
        "y = torch.tensor(encode_string(test_output)).unsqueeze(0).to(model.device)\n",
        "T = torch.tensor([x.shape[1]]).to(model.device)\n",
        "U = torch.tensor([y.shape[1]]).to(model.device)\n",
        "guess = model.greedy_search(x,T)[0]\n",
        "print(\"truth: \" + test_output)\n",
        "print(\"guess: \" + decode_labels(guess))\n",
        "print(\"\")\n",
        "y_guess = torch.tensor(guess).unsqueeze(0).to(model.device)\n",
        "U_guess = torch.tensor(len(guess)).unsqueeze(0).to(model.device)\n",
        "\n",
        "print(\"NLL of truth: \" + str(model.compute_loss(x, y, T, U)))\n",
        "print(\"NLL of guess: \" + str(model.compute_loss(x, y_guess, T, U_guess)))"
      ],
      "execution_count": 46,
      "outputs": [
        {
          "output_type": "stream",
          "name": "stdout",
          "text": [
            "input: Mst ppl hv lttl dffclty rdng ths sntnc\n",
            "truth: Most people have little difficulty reading this sentence\n",
            "guess: Musit pepe have litle dificulty ridig tes sinc\n",
            "\n",
            "NLL of truth: tensor(0.2321, device='cuda:0', grad_fn=<TransducerBackward>)\n",
            "NLL of guess: tensor(2.8153, device='cuda:0', grad_fn=<TransducerBackward>)\n"
          ]
        }
      ]
    },
    {
      "cell_type": "markdown",
      "metadata": {
        "id": "ET__-ItZD8eA"
      },
      "source": [
        "Observe that the negative log-likelihood of the guess is actually worse than that of the true label sequence (AKA, a \"[search error](https://www.aclweb.org/anthology/D19-1331.pdf)\"). This suggests that we could get better results using a beam search instead of the greedy search."
      ]
    }
  ]
}